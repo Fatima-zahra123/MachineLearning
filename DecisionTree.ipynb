{
 "cells": [
  {
   "cell_type": "code",
   "execution_count": 19,
   "id": "20d20be8",
   "metadata": {},
   "outputs": [
    {
     "data": {
      "text/plain": [
       "array([[0, 1, 'C1'],\n",
       "       [0, 0, 'C1'],\n",
       "       [1, 1, 'C2'],\n",
       "       [1, 0, 'C2']], dtype=object)"
      ]
     },
     "execution_count": 19,
     "metadata": {},
     "output_type": "execute_result"
    }
   ],
   "source": [
    "from numpy import *\n",
    "import pandas as pd\n",
    "df = pd.DataFrame([[0,1,\"C1\"],[0,0,\"C1\"],[1,1,\"C2\"],[1,0,\"C2\"]],columns=[\"A\",\"B\",\"Classes\"])\n",
    "df = df.to_numpy()\n",
    "df"
   ]
  },
  {
   "cell_type": "code",
   "execution_count": 20,
   "id": "47069b6b",
   "metadata": {},
   "outputs": [
    {
     "name": "stdout",
     "output_type": "stream",
     "text": [
      "1.0\n"
     ]
    }
   ],
   "source": [
    "def Entropie(S):\n",
    "    S = array(S)\n",
    "    classes_distinctes = set(S[:,0])\n",
    "#     print(classes_distinctes)\n",
    "    classes = list(S[:,0])\n",
    "#     print(classes)\n",
    "    s= 0 \n",
    "    for c in classes_distinctes :\n",
    "        p = classes.count(c)/len(classes)\n",
    "        s+= p*log2(p)\n",
    "    return -1.0*s\n",
    "\n",
    "print(Entropie(df))"
   ]
  },
  {
   "cell_type": "code",
   "execution_count": 21,
   "id": "494025b6",
   "metadata": {},
   "outputs": [],
   "source": [
    "def Gain_d_information(S,numero_colon_attribut):\n",
    "    classes = list(set(S[:,0]))\n",
    "#     print(classes)\n",
    "    valeurs_attribut = list(set(S[:,numero_colon_attribut]))\n",
    "#     print(valeurs_attribut)\n",
    "    Si = [[] for i in range(len(valeurs_attribut))]\n",
    "#     print(Si)\n",
    "    for e in S :\n",
    "        e = list(e)\n",
    "#         print(e)\n",
    "        val_attribut_pour_e = e[numero_colon_attribut]\n",
    "#         print(val_attribut_pour_e)\n",
    "        numero_sous_ensemble = valeurs_attribut.index(val_attribut_pour_e)\n",
    "        Si[numero_sous_ensemble].append(e)\n",
    "    Si = array(Si)\n",
    "#     print(Si)\n",
    "    som = 0\n",
    "    for  sous_ensemble in Si :\n",
    "        som += (len(sous_ensemble)/len(S))*Entropie(sous_ensemble)\n",
    "    \n",
    "    return (Entropie(S)-som)\n",
    "\n",
    "\n"
   ]
  },
  {
   "cell_type": "code",
   "execution_count": 22,
   "id": "d75d8b15",
   "metadata": {},
   "outputs": [
    {
     "name": "stdout",
     "output_type": "stream",
     "text": [
      "0.12451124978365313\n",
      "0.02904940554533142\n",
      "1.0\n"
     ]
    },
    {
     "name": "stderr",
     "output_type": "stream",
     "text": [
      "<ipython-input-21-396c80e14ca6>:15: VisibleDeprecationWarning: Creating an ndarray from ragged nested sequences (which is a list-or-tuple of lists-or-tuples-or ndarrays with different lengths or shapes) is deprecated. If you meant to do this, you must specify 'dtype=object' when creating the ndarray.\n",
      "  Si = array(Si)\n"
     ]
    },
    {
     "data": {
      "text/plain": [
       "numpy.ndarray"
      ]
     },
     "execution_count": 22,
     "metadata": {},
     "output_type": "execute_result"
    }
   ],
   "source": [
    "df1 = pd.read_csv(r\"C:\\Users\\pc\\Desktop\\S7\\MachineLearningTps\\donneesAD.csv\" ,sep =\";\")\n",
    "Data_train = df1.iloc[:,:]\n",
    "Data_train = Data_train.to_numpy()\n",
    "print(Gain_d_information(Data_train,2))\n",
    "print(Gain_d_information(Data_train,3))\n",
    "print(Gain_d_information(df,0))\n",
    "type(Data_train)"
   ]
  },
  {
   "cell_type": "code",
   "execution_count": 23,
   "id": "42a73edd",
   "metadata": {},
   "outputs": [],
   "source": [
    "def GINI(S):\n",
    "    S=array(S)\n",
    "    clonne_des_classes=list(S[:,-1])\n",
    "    classes=list(set(S[:,-1]))\n",
    "    k=len(classes)\n",
    "    s=0\n",
    "    for i in range(k):\n",
    "        pi=clonne_des_classes.count(classes[i]/len(S[:,-1]))\n",
    "        s+=pi**2\n",
    "    return 1-s\n",
    "\n",
    "def Mesure_desordre(S,numero_colon_attribut):\n",
    "    Bonne_mesure_desordre =+ inf \n",
    "    Bonne_valeur_de_repartition = 0\n",
    "    classes = list(set(S[:,-1]))\n",
    "    valeurs_attribut = list(set(S[:,numero_colon_attribut]))\n",
    "    valeurs_attribut.sort()\n",
    "    Gauche = [] \n",
    "    Droite = [] \n",
    "    for i in range(len(valeurs_attribut)-1):\n",
    "        v = valeurs_attribut[i]; Gauche.clear() ; Droite.clear()\n",
    "        for e in S :\n",
    "            val_attribut_pour_e= e[numero_colon_attribut]\n",
    "            if val_attribut_pour_e <= v :\n",
    "                Gauche.append(e)\n",
    "        \n",
    "            else:\n",
    "                Droite.append(e)\n",
    "        \n",
    "            pGau= len(Gauche)/len(S)\n",
    "            pDr=len(Droite)/len(S)\n",
    "            mesure= (pGau) * GINI(Gauche)+ (pDr) * GINI(Droite)\n",
    "            if mesure < Bonne_mesure_desordre:\n",
    "                Bonne_mesure_desordre=mesure\n",
    "                Bonne_mesure_de_repartition=v\n",
    "        \n",
    "\n",
    "            return(Bonne_mesure_desordre , Bonne_valeur_de_repartition)\n",
    "        \n",
    "        \n",
    "        \n",
    "        \n",
    "    "
   ]
  },
  {
   "cell_type": "code",
   "execution_count": 24,
   "id": "90b5c4ef",
   "metadata": {},
   "outputs": [
    {
     "ename": "IndexError",
     "evalue": "too many indices for array: array is 1-dimensional, but 2 were indexed",
     "output_type": "error",
     "traceback": [
      "\u001b[1;31m---------------------------------------------------------------------------\u001b[0m",
      "\u001b[1;31mIndexError\u001b[0m                                Traceback (most recent call last)",
      "\u001b[1;32m<ipython-input-24-283f0b6ea4aa>\u001b[0m in \u001b[0;36m<module>\u001b[1;34m\u001b[0m\n\u001b[0;32m     12\u001b[0m \u001b[1;33m\u001b[0m\u001b[0m\n\u001b[0;32m     13\u001b[0m \u001b[1;33m\u001b[0m\u001b[0m\n\u001b[1;32m---> 14\u001b[1;33m \u001b[0mprint\u001b[0m\u001b[1;33m(\u001b[0m\u001b[0mmeilleur_attribut_meilleure_valeur\u001b[0m\u001b[1;33m(\u001b[0m\u001b[0mData_train\u001b[0m\u001b[1;33m)\u001b[0m\u001b[1;33m)\u001b[0m\u001b[1;33m\u001b[0m\u001b[1;33m\u001b[0m\u001b[0m\n\u001b[0m",
      "\u001b[1;32m<ipython-input-24-283f0b6ea4aa>\u001b[0m in \u001b[0;36mmeilleur_attribut_meilleure_valeur\u001b[1;34m(S)\u001b[0m\n\u001b[0;32m      4\u001b[0m     \u001b[0mmeilleure_mesure\u001b[0m\u001b[1;33m=\u001b[0m\u001b[1;33m+\u001b[0m\u001b[0minf\u001b[0m\u001b[1;33m\u001b[0m\u001b[1;33m\u001b[0m\u001b[0m\n\u001b[0;32m      5\u001b[0m     \u001b[1;32mfor\u001b[0m \u001b[0mnum_attribut\u001b[0m \u001b[1;32min\u001b[0m \u001b[0mrange\u001b[0m\u001b[1;33m(\u001b[0m\u001b[0mlen\u001b[0m\u001b[1;33m(\u001b[0m\u001b[0mS\u001b[0m\u001b[1;33m[\u001b[0m\u001b[1;36m0\u001b[0m\u001b[1;33m]\u001b[0m\u001b[1;33m)\u001b[0m\u001b[1;33m-\u001b[0m\u001b[1;36m1\u001b[0m\u001b[1;33m)\u001b[0m\u001b[1;33m:\u001b[0m\u001b[1;33m\u001b[0m\u001b[1;33m\u001b[0m\u001b[0m\n\u001b[1;32m----> 6\u001b[1;33m         \u001b[0mmesures\u001b[0m\u001b[1;33m,\u001b[0m\u001b[0mvaleur\u001b[0m\u001b[1;33m=\u001b[0m\u001b[0mMesure_desordre\u001b[0m\u001b[1;33m(\u001b[0m\u001b[0mS\u001b[0m\u001b[1;33m,\u001b[0m\u001b[0mnum_attribut\u001b[0m\u001b[1;33m)\u001b[0m\u001b[1;33m\u001b[0m\u001b[1;33m\u001b[0m\u001b[0m\n\u001b[0m\u001b[0;32m      7\u001b[0m         \u001b[1;32mif\u001b[0m \u001b[0mmesure\u001b[0m\u001b[1;33m<\u001b[0m\u001b[0mmeilleure_mesure\u001b[0m\u001b[1;33m:\u001b[0m\u001b[1;33m\u001b[0m\u001b[1;33m\u001b[0m\u001b[0m\n\u001b[0;32m      8\u001b[0m             \u001b[0mmeilleure_val\u001b[0m\u001b[1;33m=\u001b[0m\u001b[0mvaleur\u001b[0m\u001b[1;33m\u001b[0m\u001b[1;33m\u001b[0m\u001b[0m\n",
      "\u001b[1;32m<ipython-input-23-be6f5cf7c972>\u001b[0m in \u001b[0;36mMesure_desordre\u001b[1;34m(S, numero_colon_attribut)\u001b[0m\n\u001b[0;32m     30\u001b[0m             \u001b[0mpGau\u001b[0m\u001b[1;33m=\u001b[0m \u001b[0mlen\u001b[0m\u001b[1;33m(\u001b[0m\u001b[0mGauche\u001b[0m\u001b[1;33m)\u001b[0m\u001b[1;33m/\u001b[0m\u001b[0mlen\u001b[0m\u001b[1;33m(\u001b[0m\u001b[0mS\u001b[0m\u001b[1;33m)\u001b[0m\u001b[1;33m\u001b[0m\u001b[1;33m\u001b[0m\u001b[0m\n\u001b[0;32m     31\u001b[0m             \u001b[0mpDr\u001b[0m\u001b[1;33m=\u001b[0m\u001b[0mlen\u001b[0m\u001b[1;33m(\u001b[0m\u001b[0mDroite\u001b[0m\u001b[1;33m)\u001b[0m\u001b[1;33m/\u001b[0m\u001b[0mlen\u001b[0m\u001b[1;33m(\u001b[0m\u001b[0mS\u001b[0m\u001b[1;33m)\u001b[0m\u001b[1;33m\u001b[0m\u001b[1;33m\u001b[0m\u001b[0m\n\u001b[1;32m---> 32\u001b[1;33m             \u001b[0mmesure\u001b[0m\u001b[1;33m=\u001b[0m \u001b[1;33m(\u001b[0m\u001b[0mpGau\u001b[0m\u001b[1;33m)\u001b[0m \u001b[1;33m*\u001b[0m \u001b[0mGINI\u001b[0m\u001b[1;33m(\u001b[0m\u001b[0mGauche\u001b[0m\u001b[1;33m)\u001b[0m\u001b[1;33m+\u001b[0m \u001b[1;33m(\u001b[0m\u001b[0mpDr\u001b[0m\u001b[1;33m)\u001b[0m \u001b[1;33m*\u001b[0m \u001b[0mGINI\u001b[0m\u001b[1;33m(\u001b[0m\u001b[0mDroite\u001b[0m\u001b[1;33m)\u001b[0m\u001b[1;33m\u001b[0m\u001b[1;33m\u001b[0m\u001b[0m\n\u001b[0m\u001b[0;32m     33\u001b[0m             \u001b[1;32mif\u001b[0m \u001b[0mmesure\u001b[0m \u001b[1;33m<\u001b[0m \u001b[0mBonne_mesure_desordre\u001b[0m\u001b[1;33m:\u001b[0m\u001b[1;33m\u001b[0m\u001b[1;33m\u001b[0m\u001b[0m\n\u001b[0;32m     34\u001b[0m                 \u001b[0mBonne_mesure_desordre\u001b[0m\u001b[1;33m=\u001b[0m\u001b[0mmesure\u001b[0m\u001b[1;33m\u001b[0m\u001b[1;33m\u001b[0m\u001b[0m\n",
      "\u001b[1;32m<ipython-input-23-be6f5cf7c972>\u001b[0m in \u001b[0;36mGINI\u001b[1;34m(S)\u001b[0m\n\u001b[0;32m      1\u001b[0m \u001b[1;32mdef\u001b[0m \u001b[0mGINI\u001b[0m\u001b[1;33m(\u001b[0m\u001b[0mS\u001b[0m\u001b[1;33m)\u001b[0m\u001b[1;33m:\u001b[0m\u001b[1;33m\u001b[0m\u001b[1;33m\u001b[0m\u001b[0m\n\u001b[0;32m      2\u001b[0m     \u001b[0mS\u001b[0m\u001b[1;33m=\u001b[0m\u001b[0marray\u001b[0m\u001b[1;33m(\u001b[0m\u001b[0mS\u001b[0m\u001b[1;33m)\u001b[0m\u001b[1;33m\u001b[0m\u001b[1;33m\u001b[0m\u001b[0m\n\u001b[1;32m----> 3\u001b[1;33m     \u001b[0mclonne_des_classes\u001b[0m\u001b[1;33m=\u001b[0m\u001b[0mlist\u001b[0m\u001b[1;33m(\u001b[0m\u001b[0mS\u001b[0m\u001b[1;33m[\u001b[0m\u001b[1;33m:\u001b[0m\u001b[1;33m,\u001b[0m\u001b[1;33m-\u001b[0m\u001b[1;36m1\u001b[0m\u001b[1;33m]\u001b[0m\u001b[1;33m)\u001b[0m\u001b[1;33m\u001b[0m\u001b[1;33m\u001b[0m\u001b[0m\n\u001b[0m\u001b[0;32m      4\u001b[0m     \u001b[0mclasses\u001b[0m\u001b[1;33m=\u001b[0m\u001b[0mlist\u001b[0m\u001b[1;33m(\u001b[0m\u001b[0mset\u001b[0m\u001b[1;33m(\u001b[0m\u001b[0mS\u001b[0m\u001b[1;33m[\u001b[0m\u001b[1;33m:\u001b[0m\u001b[1;33m,\u001b[0m\u001b[1;33m-\u001b[0m\u001b[1;36m1\u001b[0m\u001b[1;33m]\u001b[0m\u001b[1;33m)\u001b[0m\u001b[1;33m)\u001b[0m\u001b[1;33m\u001b[0m\u001b[1;33m\u001b[0m\u001b[0m\n\u001b[0;32m      5\u001b[0m     \u001b[0mk\u001b[0m\u001b[1;33m=\u001b[0m\u001b[0mlen\u001b[0m\u001b[1;33m(\u001b[0m\u001b[0mclasses\u001b[0m\u001b[1;33m)\u001b[0m\u001b[1;33m\u001b[0m\u001b[1;33m\u001b[0m\u001b[0m\n",
      "\u001b[1;31mIndexError\u001b[0m: too many indices for array: array is 1-dimensional, but 2 were indexed"
     ]
    }
   ],
   "source": [
    "def meilleur_attribut_meilleure_valeur(S):\n",
    "    meilleur_attribut=0\n",
    "    meilleur_val=0\n",
    "    meilleure_mesure=+inf\n",
    "    for num_attribut in range(len(S[0])-1):\n",
    "        mesures,valeur=Mesure_desordre(S,num_attribut)\n",
    "        if mesure<meilleure_mesure:\n",
    "            meilleure_val=valeur\n",
    "            meilleure_mesure=mesure\n",
    "            meilleur_attribut=num_attribut\n",
    "        return meilleur_attribut,meilleure_val\n",
    "    \n",
    "    \n",
    "print(meilleur_attribut_meilleure_valeur(Data_train))"
   ]
  },
  {
   "cell_type": "code",
   "execution_count": null,
   "id": "479d3fc6",
   "metadata": {},
   "outputs": [],
   "source": [
    "X = data[:8,0:3] ;Y =data[:8,3] ;X_test = data[:8,0:3] ; y_test=data[8:,3]"
   ]
  },
  {
   "cell_type": "code",
   "execution_count": null,
   "id": "47d8ed5f",
   "metadata": {},
   "outputs": [],
   "source": [
    "clf_gini = DecisionTreeClassifier(criterion = \"gini\")\n",
    "clf_gini.fit(X,Y)\n",
    "clf_"
   ]
  },
  {
   "cell_type": "code",
   "execution_count": null,
   "id": "3f98cbbd",
   "metadata": {},
   "outputs": [],
   "source": []
  }
 ],
 "metadata": {
  "kernelspec": {
   "display_name": "Python 3",
   "language": "python",
   "name": "python3"
  },
  "language_info": {
   "codemirror_mode": {
    "name": "ipython",
    "version": 3
   },
   "file_extension": ".py",
   "mimetype": "text/x-python",
   "name": "python",
   "nbconvert_exporter": "python",
   "pygments_lexer": "ipython3",
   "version": "3.8.8"
  }
 },
 "nbformat": 4,
 "nbformat_minor": 5
}
