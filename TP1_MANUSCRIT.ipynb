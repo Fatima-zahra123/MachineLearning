{
 "cells": [
  {
   "cell_type": "code",
   "execution_count": 11,
   "id": "b6cdb32e",
   "metadata": {},
   "outputs": [],
   "source": [
    "import numpy as np\n",
    "import matplotlib.pyplot as plt\n",
    "import pandas as pd\n",
    "from sklearn.tree import DecisionTreeClassifier\n",
    "from sklearn.neighbors import KNeighborsClassifier\n"
   ]
  },
  {
   "cell_type": "code",
   "execution_count": 35,
   "id": "f43ee655",
   "metadata": {
    "scrolled": true
   },
   "outputs": [
    {
     "data": {
      "text/html": [
       "<div>\n",
       "<style scoped>\n",
       "    .dataframe tbody tr th:only-of-type {\n",
       "        vertical-align: middle;\n",
       "    }\n",
       "\n",
       "    .dataframe tbody tr th {\n",
       "        vertical-align: top;\n",
       "    }\n",
       "\n",
       "    .dataframe thead th {\n",
       "        text-align: right;\n",
       "    }\n",
       "</style>\n",
       "<table border=\"1\" class=\"dataframe\">\n",
       "  <thead>\n",
       "    <tr style=\"text-align: right;\">\n",
       "      <th></th>\n",
       "      <th>label</th>\n",
       "      <th>pixel0</th>\n",
       "      <th>pixel1</th>\n",
       "      <th>pixel2</th>\n",
       "      <th>pixel3</th>\n",
       "      <th>pixel4</th>\n",
       "      <th>pixel5</th>\n",
       "      <th>pixel6</th>\n",
       "      <th>pixel7</th>\n",
       "      <th>pixel8</th>\n",
       "      <th>...</th>\n",
       "      <th>pixel774</th>\n",
       "      <th>pixel775</th>\n",
       "      <th>pixel776</th>\n",
       "      <th>pixel777</th>\n",
       "      <th>pixel778</th>\n",
       "      <th>pixel779</th>\n",
       "      <th>pixel780</th>\n",
       "      <th>pixel781</th>\n",
       "      <th>pixel782</th>\n",
       "      <th>pixel783</th>\n",
       "    </tr>\n",
       "  </thead>\n",
       "  <tbody>\n",
       "    <tr>\n",
       "      <th>0</th>\n",
       "      <td>1</td>\n",
       "      <td>0</td>\n",
       "      <td>0</td>\n",
       "      <td>0</td>\n",
       "      <td>0</td>\n",
       "      <td>0</td>\n",
       "      <td>0</td>\n",
       "      <td>0</td>\n",
       "      <td>0</td>\n",
       "      <td>0</td>\n",
       "      <td>...</td>\n",
       "      <td>0</td>\n",
       "      <td>0</td>\n",
       "      <td>0</td>\n",
       "      <td>0</td>\n",
       "      <td>0</td>\n",
       "      <td>0</td>\n",
       "      <td>0</td>\n",
       "      <td>0</td>\n",
       "      <td>0</td>\n",
       "      <td>0</td>\n",
       "    </tr>\n",
       "    <tr>\n",
       "      <th>1</th>\n",
       "      <td>0</td>\n",
       "      <td>0</td>\n",
       "      <td>0</td>\n",
       "      <td>0</td>\n",
       "      <td>0</td>\n",
       "      <td>0</td>\n",
       "      <td>0</td>\n",
       "      <td>0</td>\n",
       "      <td>0</td>\n",
       "      <td>0</td>\n",
       "      <td>...</td>\n",
       "      <td>0</td>\n",
       "      <td>0</td>\n",
       "      <td>0</td>\n",
       "      <td>0</td>\n",
       "      <td>0</td>\n",
       "      <td>0</td>\n",
       "      <td>0</td>\n",
       "      <td>0</td>\n",
       "      <td>0</td>\n",
       "      <td>0</td>\n",
       "    </tr>\n",
       "    <tr>\n",
       "      <th>2</th>\n",
       "      <td>1</td>\n",
       "      <td>0</td>\n",
       "      <td>0</td>\n",
       "      <td>0</td>\n",
       "      <td>0</td>\n",
       "      <td>0</td>\n",
       "      <td>0</td>\n",
       "      <td>0</td>\n",
       "      <td>0</td>\n",
       "      <td>0</td>\n",
       "      <td>...</td>\n",
       "      <td>0</td>\n",
       "      <td>0</td>\n",
       "      <td>0</td>\n",
       "      <td>0</td>\n",
       "      <td>0</td>\n",
       "      <td>0</td>\n",
       "      <td>0</td>\n",
       "      <td>0</td>\n",
       "      <td>0</td>\n",
       "      <td>0</td>\n",
       "    </tr>\n",
       "    <tr>\n",
       "      <th>3</th>\n",
       "      <td>4</td>\n",
       "      <td>0</td>\n",
       "      <td>0</td>\n",
       "      <td>0</td>\n",
       "      <td>0</td>\n",
       "      <td>0</td>\n",
       "      <td>0</td>\n",
       "      <td>0</td>\n",
       "      <td>0</td>\n",
       "      <td>0</td>\n",
       "      <td>...</td>\n",
       "      <td>0</td>\n",
       "      <td>0</td>\n",
       "      <td>0</td>\n",
       "      <td>0</td>\n",
       "      <td>0</td>\n",
       "      <td>0</td>\n",
       "      <td>0</td>\n",
       "      <td>0</td>\n",
       "      <td>0</td>\n",
       "      <td>0</td>\n",
       "    </tr>\n",
       "    <tr>\n",
       "      <th>4</th>\n",
       "      <td>0</td>\n",
       "      <td>0</td>\n",
       "      <td>0</td>\n",
       "      <td>0</td>\n",
       "      <td>0</td>\n",
       "      <td>0</td>\n",
       "      <td>0</td>\n",
       "      <td>0</td>\n",
       "      <td>0</td>\n",
       "      <td>0</td>\n",
       "      <td>...</td>\n",
       "      <td>0</td>\n",
       "      <td>0</td>\n",
       "      <td>0</td>\n",
       "      <td>0</td>\n",
       "      <td>0</td>\n",
       "      <td>0</td>\n",
       "      <td>0</td>\n",
       "      <td>0</td>\n",
       "      <td>0</td>\n",
       "      <td>0</td>\n",
       "    </tr>\n",
       "    <tr>\n",
       "      <th>...</th>\n",
       "      <td>...</td>\n",
       "      <td>...</td>\n",
       "      <td>...</td>\n",
       "      <td>...</td>\n",
       "      <td>...</td>\n",
       "      <td>...</td>\n",
       "      <td>...</td>\n",
       "      <td>...</td>\n",
       "      <td>...</td>\n",
       "      <td>...</td>\n",
       "      <td>...</td>\n",
       "      <td>...</td>\n",
       "      <td>...</td>\n",
       "      <td>...</td>\n",
       "      <td>...</td>\n",
       "      <td>...</td>\n",
       "      <td>...</td>\n",
       "      <td>...</td>\n",
       "      <td>...</td>\n",
       "      <td>...</td>\n",
       "      <td>...</td>\n",
       "    </tr>\n",
       "    <tr>\n",
       "      <th>2554</th>\n",
       "      <td>2</td>\n",
       "      <td>0</td>\n",
       "      <td>0</td>\n",
       "      <td>0</td>\n",
       "      <td>0</td>\n",
       "      <td>0</td>\n",
       "      <td>0</td>\n",
       "      <td>0</td>\n",
       "      <td>0</td>\n",
       "      <td>0</td>\n",
       "      <td>...</td>\n",
       "      <td>0</td>\n",
       "      <td>0</td>\n",
       "      <td>0</td>\n",
       "      <td>0</td>\n",
       "      <td>0</td>\n",
       "      <td>0</td>\n",
       "      <td>0</td>\n",
       "      <td>0</td>\n",
       "      <td>0</td>\n",
       "      <td>0</td>\n",
       "    </tr>\n",
       "    <tr>\n",
       "      <th>2555</th>\n",
       "      <td>5</td>\n",
       "      <td>0</td>\n",
       "      <td>0</td>\n",
       "      <td>0</td>\n",
       "      <td>0</td>\n",
       "      <td>0</td>\n",
       "      <td>0</td>\n",
       "      <td>0</td>\n",
       "      <td>0</td>\n",
       "      <td>0</td>\n",
       "      <td>...</td>\n",
       "      <td>0</td>\n",
       "      <td>0</td>\n",
       "      <td>0</td>\n",
       "      <td>0</td>\n",
       "      <td>0</td>\n",
       "      <td>0</td>\n",
       "      <td>0</td>\n",
       "      <td>0</td>\n",
       "      <td>0</td>\n",
       "      <td>0</td>\n",
       "    </tr>\n",
       "    <tr>\n",
       "      <th>2556</th>\n",
       "      <td>3</td>\n",
       "      <td>0</td>\n",
       "      <td>0</td>\n",
       "      <td>0</td>\n",
       "      <td>0</td>\n",
       "      <td>0</td>\n",
       "      <td>0</td>\n",
       "      <td>0</td>\n",
       "      <td>0</td>\n",
       "      <td>0</td>\n",
       "      <td>...</td>\n",
       "      <td>0</td>\n",
       "      <td>0</td>\n",
       "      <td>0</td>\n",
       "      <td>0</td>\n",
       "      <td>0</td>\n",
       "      <td>0</td>\n",
       "      <td>0</td>\n",
       "      <td>0</td>\n",
       "      <td>0</td>\n",
       "      <td>0</td>\n",
       "    </tr>\n",
       "    <tr>\n",
       "      <th>2557</th>\n",
       "      <td>0</td>\n",
       "      <td>0</td>\n",
       "      <td>0</td>\n",
       "      <td>0</td>\n",
       "      <td>0</td>\n",
       "      <td>0</td>\n",
       "      <td>0</td>\n",
       "      <td>0</td>\n",
       "      <td>0</td>\n",
       "      <td>0</td>\n",
       "      <td>...</td>\n",
       "      <td>0</td>\n",
       "      <td>0</td>\n",
       "      <td>0</td>\n",
       "      <td>0</td>\n",
       "      <td>0</td>\n",
       "      <td>0</td>\n",
       "      <td>0</td>\n",
       "      <td>0</td>\n",
       "      <td>0</td>\n",
       "      <td>0</td>\n",
       "    </tr>\n",
       "    <tr>\n",
       "      <th>2558</th>\n",
       "      <td>7</td>\n",
       "      <td>0</td>\n",
       "      <td>0</td>\n",
       "      <td>0</td>\n",
       "      <td>0</td>\n",
       "      <td>0</td>\n",
       "      <td>0</td>\n",
       "      <td>0</td>\n",
       "      <td>0</td>\n",
       "      <td>0</td>\n",
       "      <td>...</td>\n",
       "      <td>0</td>\n",
       "      <td>0</td>\n",
       "      <td>0</td>\n",
       "      <td>0</td>\n",
       "      <td>0</td>\n",
       "      <td>0</td>\n",
       "      <td>0</td>\n",
       "      <td>0</td>\n",
       "      <td>0</td>\n",
       "      <td>0</td>\n",
       "    </tr>\n",
       "  </tbody>\n",
       "</table>\n",
       "<p>2559 rows × 785 columns</p>\n",
       "</div>"
      ],
      "text/plain": [
       "      label  pixel0  pixel1  pixel2  pixel3  pixel4  pixel5  pixel6  pixel7  \\\n",
       "0         1       0       0       0       0       0       0       0       0   \n",
       "1         0       0       0       0       0       0       0       0       0   \n",
       "2         1       0       0       0       0       0       0       0       0   \n",
       "3         4       0       0       0       0       0       0       0       0   \n",
       "4         0       0       0       0       0       0       0       0       0   \n",
       "...     ...     ...     ...     ...     ...     ...     ...     ...     ...   \n",
       "2554      2       0       0       0       0       0       0       0       0   \n",
       "2555      5       0       0       0       0       0       0       0       0   \n",
       "2556      3       0       0       0       0       0       0       0       0   \n",
       "2557      0       0       0       0       0       0       0       0       0   \n",
       "2558      7       0       0       0       0       0       0       0       0   \n",
       "\n",
       "      pixel8  ...  pixel774  pixel775  pixel776  pixel777  pixel778  pixel779  \\\n",
       "0          0  ...         0         0         0         0         0         0   \n",
       "1          0  ...         0         0         0         0         0         0   \n",
       "2          0  ...         0         0         0         0         0         0   \n",
       "3          0  ...         0         0         0         0         0         0   \n",
       "4          0  ...         0         0         0         0         0         0   \n",
       "...      ...  ...       ...       ...       ...       ...       ...       ...   \n",
       "2554       0  ...         0         0         0         0         0         0   \n",
       "2555       0  ...         0         0         0         0         0         0   \n",
       "2556       0  ...         0         0         0         0         0         0   \n",
       "2557       0  ...         0         0         0         0         0         0   \n",
       "2558       0  ...         0         0         0         0         0         0   \n",
       "\n",
       "      pixel780  pixel781  pixel782  pixel783  \n",
       "0            0         0         0         0  \n",
       "1            0         0         0         0  \n",
       "2            0         0         0         0  \n",
       "3            0         0         0         0  \n",
       "4            0         0         0         0  \n",
       "...        ...       ...       ...       ...  \n",
       "2554         0         0         0         0  \n",
       "2555         0         0         0         0  \n",
       "2556         0         0         0         0  \n",
       "2557         0         0         0         0  \n",
       "2558         0         0         0         0  \n",
       "\n",
       "[2559 rows x 785 columns]"
      ]
     },
     "execution_count": 35,
     "metadata": {},
     "output_type": "execute_result"
    }
   ],
   "source": [
    "data = pd.read_csv(r\"./datasets/images_chiffres_codees_niveau_de_gris.csv\")\n",
    "data"
   ]
  },
  {
   "cell_type": "code",
   "execution_count": 13,
   "id": "95cd969a",
   "metadata": {},
   "outputs": [
    {
     "data": {
      "text/plain": [
       "pandas.core.frame.DataFrame"
      ]
     },
     "execution_count": 13,
     "metadata": {},
     "output_type": "execute_result"
    }
   ],
   "source": [
    "type(data)\n"
   ]
  },
  {
   "cell_type": "code",
   "execution_count": 14,
   "id": "83b8711d",
   "metadata": {},
   "outputs": [
    {
     "data": {
      "text/plain": [
       "(2559, 785)"
      ]
     },
     "execution_count": 14,
     "metadata": {},
     "output_type": "execute_result"
    }
   ],
   "source": [
    "#convert dataframe to matrix\n",
    "matrix = data.to_numpy()\n",
    "type(matrix)\n",
    "matrix.shape\n"
   ]
  },
  {
   "cell_type": "code",
   "execution_count": 15,
   "id": "7f08b8bb",
   "metadata": {},
   "outputs": [],
   "source": [
    "#preparing dataset ==> isolate outputs and inputs using iloc and dataset \n",
    "inputs =  data.iloc[0:2100,1:]\n",
    "outputs = data.iloc[0:2100,0]"
   ]
  },
  {
   "cell_type": "code",
   "execution_count": 16,
   "id": "1d0c5955",
   "metadata": {},
   "outputs": [],
   "source": [
    "#preparing dataset ==> isolate outputs and inputs\n",
    "inputs= matrix[0:2100,1:]\n",
    "outputs = matrix[0:2100,0]"
   ]
  },
  {
   "cell_type": "code",
   "execution_count": 17,
   "id": "613d817d",
   "metadata": {},
   "outputs": [
    {
     "data": {
      "text/plain": [
       "DecisionTreeClassifier()"
      ]
     },
     "execution_count": 17,
     "metadata": {},
     "output_type": "execute_result"
    }
   ],
   "source": [
    "# classifer of tree trainnig \n",
    "clf = DecisionTreeClassifier()\n",
    "clf.fit(inputs,outputs)"
   ]
  },
  {
   "cell_type": "code",
   "execution_count": 18,
   "id": "ee4fd588",
   "metadata": {},
   "outputs": [],
   "source": [
    "# preparing data for testing\n",
    "xtest = matrix[2100:,1:]\n",
    "actual_label = matrix[2100:,0]\n"
   ]
  },
  {
   "cell_type": "code",
   "execution_count": 19,
   "id": "3feecbd4",
   "metadata": {},
   "outputs": [
    {
     "name": "stdout",
     "output_type": "stream",
     "text": [
      "[8 1 6 4 6 5 8 5 1 1 0 9 7 9 2 9 9 1 6 0 1 2 4 5 4 5 1 5 7 8 7 0 9 3 5 9 4\n",
      " 7 7 8 0 4 7 0 6 0 8 8 3 9 8 5 5 5 1 0 5 6 8 6 5 8 4 0 6 6 6 2 5 1 9 7 4 1\n",
      " 9 3 2 9 7 3 7 7 3 6 7 7 5 4 9 9 4 8 3 0 7 4 2 6 6 8 9 5 2 4 1 6 1 3 3 1 7\n",
      " 8 6 7 5 1 4 0 8 4 9 4 1 6 6 6 2 5 2 0 1 1 5 4 3 7 5 8 1 8 2 5 4 2 2 1 5 1\n",
      " 4 5 7 1 7 5 4 8 1 4 2 3 7 9 6 8 2 8 0 0 7 6 8 0 3 0 5 9 2 4 2 9 1 7 6 1 6\n",
      " 1 5 5 2 7 5 8 1 7 6 4 3 3 9 6 5 1 5 5 3 7 9 3 3 3 0 9 1 1 7 2 1 2 6 8 5 2\n",
      " 4 1 3 9 5 3 2 9 5 8 3 3 9 5 2 0 1 1 1 1 2 9 0 7 9 9 5 2 2 3 6 6 9 3 1 9 9\n",
      " 3 3 5 1 1 5 3 0 9 2 0 6 1 4 1 8 9 9 4 9 4 2 6 0 0 4 0 2 6 0 9 9 7 4 4 3 4\n",
      " 5 6 2 4 5 9 5 5 6 7 2 9 1 0 1 9 5 6 6 9 0 9 9 9 6 2 4 9 7 7 2 5 2 1 6 3 6\n",
      " 7 6 7 4 7 6 9 5 7 9 3 0 2 7 3 4 3 5 5 4 8 0 4 7 8 3 3 4 8 1 8 4 5 6 7 2 3\n",
      " 4 0 3 0 7 7 2 6 9 1 1 9 1 9 6 5 5 0 8 4 3 1 0 1 0 2 3 6 3 8 1 7 0 3 9 2 6\n",
      " 3 7 5 7 4 4 9 4 2 4 1 9 0 9 2 1 7 6 3 3 2 0 4 2 5 2 4 5 0 4 5 5 6 0 4 0 3\n",
      " 2 7 6 0 7 1 9 5 3 7 2 3 3 0 7]\n"
     ]
    }
   ],
   "source": [
    "p= clf.predict(xtest)\n",
    "print(p)"
   ]
  },
  {
   "cell_type": "code",
   "execution_count": 20,
   "id": "0ea749bc",
   "metadata": {},
   "outputs": [],
   "source": [
    "count =0\n",
    "count2 =0\n",
    "for i in range (0,459):\n",
    "    if p[i]==actual_label[i]:\n",
    "        count+=1\n"
   ]
  },
  {
   "cell_type": "code",
   "execution_count": 29,
   "id": "16e83299",
   "metadata": {},
   "outputs": [
    {
     "name": "stdout",
     "output_type": "stream",
     "text": [
      "Accuracy 75.38126361655773\n"
     ]
    },
    {
     "data": {
      "text/plain": [
       "0.7538126361655774"
      ]
     },
     "execution_count": 29,
     "metadata": {},
     "output_type": "execute_result"
    }
   ],
   "source": [
    "print(\"Accuracy\",(count/len(p))*100)\n",
    "clf.score(xtest,actual_label)"
   ]
  },
  {
   "cell_type": "code",
   "execution_count": 30,
   "id": "e62ecc2d",
   "metadata": {},
   "outputs": [
    {
     "data": {
      "text/plain": [
       "KNeighborsClassifier(n_neighbors=7)"
      ]
     },
     "execution_count": 30,
     "metadata": {},
     "output_type": "execute_result"
    }
   ],
   "source": [
    "KNN = KNeighborsClassifier(7) # on veut entrainer un 7-NN Classifier (on utilise 7 voisins)\n",
    "KNN.fit(inputs,outputs)"
   ]
  },
  {
   "cell_type": "code",
   "execution_count": 31,
   "id": "79a719b2",
   "metadata": {},
   "outputs": [
    {
     "name": "stdout",
     "output_type": "stream",
     "text": [
      "[8 1 6 9 0 2 1 5 1 1 0 9 4 9 9 8 1 1 6 0 1 2 4 4 4 5 1 5 9 8 7 0 9 3 0 9 4\n",
      " 9 7 8 0 4 7 0 9 0 8 9 0 4 3 3 5 5 2 0 5 6 8 6 5 8 4 0 6 6 9 3 5 1 9 2 4 1\n",
      " 4 5 2 9 7 3 7 7 8 6 7 9 5 6 9 9 1 1 5 0 9 4 2 6 6 8 9 5 2 4 1 6 1 7 3 1 7\n",
      " 8 6 7 5 1 4 0 5 4 0 4 1 4 6 0 2 5 2 0 1 1 0 4 3 7 3 7 1 8 2 5 8 2 2 1 8 1\n",
      " 4 5 7 1 7 0 4 8 1 4 6 3 7 9 4 9 2 8 0 0 7 6 8 5 3 0 5 8 1 4 6 9 1 7 6 1 6\n",
      " 1 0 2 2 7 5 3 1 7 6 4 1 3 4 6 3 1 3 5 3 7 9 3 3 5 0 9 1 1 7 2 1 2 6 8 5 2\n",
      " 4 1 3 9 7 3 2 9 5 8 3 0 4 5 2 0 1 1 1 8 2 9 0 7 9 9 8 2 2 0 6 5 2 2 1 9 9\n",
      " 3 3 3 1 1 1 3 0 5 2 0 6 1 9 1 8 9 3 5 9 4 1 6 0 0 4 0 2 6 0 5 9 7 4 4 5 4\n",
      " 5 6 2 4 1 8 5 5 6 7 2 5 1 0 1 3 5 6 7 9 0 9 9 9 6 2 4 3 7 7 2 0 2 1 6 1 2\n",
      " 7 9 7 7 7 6 3 5 7 9 0 0 3 7 9 9 3 5 5 4 6 0 4 7 8 9 3 2 8 8 9 4 5 5 7 2 3\n",
      " 4 0 5 0 1 7 4 6 4 2 1 9 1 9 6 5 5 0 8 4 3 1 2 1 0 2 3 6 3 3 1 7 0 4 9 1 1\n",
      " 3 7 8 7 4 5 9 4 2 4 1 9 0 9 2 1 3 5 3 0 2 0 1 2 5 6 4 5 0 9 5 5 6 0 4 0 3\n",
      " 2 7 6 0 7 1 9 5 3 7 2 5 3 0 7]\n"
     ]
    }
   ],
   "source": [
    "c = KNN.predict(xtest)\n",
    "print(c)"
   ]
  },
  {
   "cell_type": "code",
   "execution_count": 32,
   "id": "4c17664c",
   "metadata": {},
   "outputs": [
    {
     "name": "stdout",
     "output_type": "stream",
     "text": [
      "848\n"
     ]
    }
   ],
   "source": [
    "# calculate accuracy\n",
    "for i in range (0,459):\n",
    "    if c[i]==actual_label[i]:\n",
    "        count2+=1\n",
    "print(count2)"
   ]
  },
  {
   "cell_type": "code",
   "execution_count": 34,
   "id": "17e6fb52",
   "metadata": {},
   "outputs": [
    {
     "name": "stdout",
     "output_type": "stream",
     "text": [
      "[  0   0 110   0   0   0   0   0 229   0   7   0   0   0  64 127   0   0\n",
      "   0   0   0   0 216 129   0   0   0   0   0   0   0   0   0   0   0   0\n",
      "   0   0 114 189   0   0   0   0   0   0   0   0   0 189 139   0   0   0\n",
      " 221   0  72   0 127   0   0   0  85   0   0  74   0   0   0   0   0   0\n",
      "   0 169   0   0   0   0   0   0 103   0   0   0 198   0   0   0   0   0\n",
      "   0   6 254   0   0 241   0   0 138   0   0 252  80   0   0   0   0   0\n",
      " 155 151  46 107 133   0   0   0   0   0   0   0   0   0 107 100 230 198\n",
      "   0   0   0   0   0   0   0   0 158   0   0   0   0  69  35   0 180   0\n",
      "   0   0   0   0   0 214   0 172   0  60   0   0  57 164  10 170 170 170\n",
      "  57   0   0  10   0   0   0   0   0   0 103 122 150   0   0  88   0   0\n",
      "  19   0  37 198 255 255 255 255 255 255 104 141  75  43  96 110   0   0\n",
      "   0   0   0   0   0 103  99   0   0   0   0  64 255 255 170 141  86  57\n",
      "  86   9 136 255  86   0   0   0 220   0   0   0   0  64   0   0   0   0\n",
      "   0   0 170 255 136  86   0   0   0   0   0   0  57 226 255 199   0   0\n",
      "   0   0   0   0   0   0  78   0   0   0 168 114 255 226   0   0 126   0\n",
      "   0  29 141 198 255 178 255 160  56  83   0   0 142   0   0   0   0   0\n",
      " 117   0  29 255 226  29 116   0   0  29 114 255 255 226 170 111 124   0\n",
      "   0   0   0   0   0   0   0 101   0   0 144   0  86 157  86   0   0  57\n",
      "  58 255 177 170  86 240   0   0   0   0  52   0   0  10   0   0   0 177\n",
      "   0   0  67   0 141 226  29 197 170 255 255 170  57   0   0   0  18   0\n",
      "   0   0   0   0   0   0   0   0 166  16   0   0   0   0 198 226 170  74\n",
      " 255 146  57   0   0   0 137   0   0   0   0   0   0   0   0 182 241   0\n",
      "   0 213   0   0   0 207 170  66 255 255  86 249   0 216   0   0   0   0\n",
      "   0 124   0   0  43   0 205   0   0   0   0   0   0 120   0 135 177 255\n",
      "   0  29   0   0  84   0   0   0   0   0   0  42   0   0   0   0  33  44\n",
      "   0   0  71   0   0   0  29  60 255  82 165 198   0  21   0   0   0 157\n",
      " 156 176   0   0 160   0   0 243   0   0 127   0   0   0   0  29 104  26\n",
      " 114  29 255 255 114   0   0   0   0   0   0   0   0   0  54   0   0   0\n",
      "  84   0 196   0   0   0  49 226 141  76  29   0   0 226 255  86  56   0\n",
      "   0   0  45   0   0   0   0   0   0   0   0   0 156   0   0   0 226 255\n",
      " 141   0   0   0 179 148   1 226 183 202   0   0 122   0   0 186   0   0\n",
      "   0 138   0   0   0 212   0   0  98 255  29  61   0   0   0  10 170 128\n",
      " 170 159   0   0   0   0   0   0   0   0 231 132   0   0   0 228   0   0\n",
      " 226 255  29   0   0   0   0   0  57 255 255  29   0   0   0   0   0   0\n",
      "  48  84 190  58   0   0   0   0  90   0 114 255 198 114   0 145 141 255\n",
      " 255 255 255   0   0 124   0   0 181   0   0   0   0   0  99  66   0 241\n",
      "   0   0  29 170 255 255 255 255 255  53 196 216   0   0   0   0   0   0\n",
      " 187   0   0   0  11   0 152   0  78   0 164  28 162   0  29  86 114 170\n",
      " 114  29   0 120 143   9   0  85   0   0   0   0   0   0   0   0   0 138\n",
      "   0   0 124 162   0   0   0 160   0   0   0   0   0   0   0 243   0  82\n",
      "   0 192   0   0   0   0   0   0   0   0   0   0   0   0   0   0   0   0\n",
      "  63   0   0   0 179   0   0 243   0   0   0   0   0   0   0   0   0  80\n",
      "   0   0   0   0   0   0   0   0   0   0   0   0   0   0   0 116   0   0\n",
      "   0   0   0   0   0 117   0 124   0   0] 8\n",
      "[1]\n",
      "[8]\n"
     ]
    },
    {
     "data": {
      "image/png": "[encoded data removed]",
      "text/plain": [
       "<Figure size 432x288 with 1 Axes>"
      ]
     },
     "metadata": {
      "needs_background": "light"
     },
     "output_type": "display_data"
    }
   ],
   "source": [
    "d = xtest[15]\n",
    "\n",
    "print(d, actual_label[15])\n",
    "# Nombre de pixels erronee\n",
    "Nombre_de_pixels_errone = 110\n",
    "for i in range(Nombre_de_pixels_errone):\n",
    "    position = np.random.randint(0,785,1)[0]\n",
    "    bruit = np.random.randint(-200,200,1)[0]\n",
    "    d[position] += bruit \n",
    "    d[position] =d[position]%255\n",
    "\n",
    "print(clf.predict([d]))\n",
    "print(KNN.predict([d]))\n",
    "d.shape=(28,28)\n",
    "plt.imshow(255-d,cmap='gray')\n",
    "plt.show()\n",
    "\n"
   ]
  },
  {
   "cell_type": "code",
   "execution_count": null,
   "id": "7ae43f54",
   "metadata": {},
   "outputs": [],
   "source": []
  }
 ],
 "metadata": {
  "kernelspec": {
   "display_name": "Python 3",
   "language": "python",
   "name": "python3"
  },
  "language_info": {
   "codemirror_mode": {
    "name": "ipython",
    "version": 3
   },
   "file_extension": ".py",
   "mimetype": "text/x-python",
   "name": "python",
   "nbconvert_exporter": "python",
   "pygments_lexer": "ipython3",
   "version": "3.8.8"
  }
 },
 "nbformat": 4,
 "nbformat_minor": 5
}
