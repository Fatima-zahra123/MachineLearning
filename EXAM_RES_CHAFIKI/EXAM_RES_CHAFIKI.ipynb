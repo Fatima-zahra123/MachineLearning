{
 "cells": [
  {
   "cell_type": "markdown",
   "id": "6fb67f0f",
   "metadata": {},
   "source": [
    "# #  CHAFIKI FATIMA ELZAHRA"
   ]
  },
  {
   "cell_type": "markdown",
   "id": "3513fd3d",
   "metadata": {},
   "source": [
    "#  l'importation des librairies"
   ]
  },
  {
   "cell_type": "code",
   "execution_count": 392,
   "id": "09d2ae57",
   "metadata": {},
   "outputs": [],
   "source": [
    "import seaborn as sns \n",
    "import numpy as np \n",
    "import pandas as pd \n",
    "from sklearn.metrics import confusion_matrix , accuracy_score\n",
    "from sklearn.tree import DecisionTreeRegressor \n",
    "from sklearn.metrics import * \n",
    "from sklearn.model_selection import train_test_split ,cross_val_score\n",
    "from sklearn.feature_selection import VarianceThreshold\n",
    "from sklearn.preprocessing import LabelEncoder\n",
    "from sklearn.preprocessing import StandardScaler ,MinMaxScaler\n",
    "from sklearn.feature_selection import SelectKBest\n",
    "from sklearn.feature_selection import chi2\n",
    "from sklearn.svm import SVC ,SVR\n",
    "from sklearn.neighbors import NearestNeighbors\n",
    "from sklearn.linear_model import LogisticRegression\n",
    "from sklearn.feature_extraction.text import CountVectorizer\n",
    "from sklearn.linear_model import LinearRegression\n",
    "from sklearn.pipeline import make_pipeline\n",
    "from sklearn import datasets, ensemble"
   ]
  },
  {
   "cell_type": "markdown",
   "id": "ea092182",
   "metadata": {},
   "source": [
    "#  Collecte des données"
   ]
  },
  {
   "cell_type": "code",
   "execution_count": 393,
   "id": "9328db52",
   "metadata": {},
   "outputs": [
    {
     "name": "stdout",
     "output_type": "stream",
     "text": [
      "(21, 4)\n"
     ]
    },
    {
     "data": {
      "text/html": [
       "<div>\n",
       "<style scoped>\n",
       "    .dataframe tbody tr th:only-of-type {\n",
       "        vertical-align: middle;\n",
       "    }\n",
       "\n",
       "    .dataframe tbody tr th {\n",
       "        vertical-align: top;\n",
       "    }\n",
       "\n",
       "    .dataframe thead th {\n",
       "        text-align: right;\n",
       "    }\n",
       "</style>\n",
       "<table border=\"1\" class=\"dataframe\">\n",
       "  <thead>\n",
       "    <tr style=\"text-align: right;\">\n",
       "      <th></th>\n",
       "      <th>storyPoint</th>\n",
       "      <th>velocity</th>\n",
       "      <th>teamSize</th>\n",
       "      <th>Effort</th>\n",
       "    </tr>\n",
       "  </thead>\n",
       "  <tbody>\n",
       "    <tr>\n",
       "      <th>0</th>\n",
       "      <td>156</td>\n",
       "      <td>2.7</td>\n",
       "      <td>5</td>\n",
       "      <td>63</td>\n",
       "    </tr>\n",
       "    <tr>\n",
       "      <th>1</th>\n",
       "      <td>202</td>\n",
       "      <td>2.5</td>\n",
       "      <td>5</td>\n",
       "      <td>92</td>\n",
       "    </tr>\n",
       "    <tr>\n",
       "      <th>2</th>\n",
       "      <td>173</td>\n",
       "      <td>3.3</td>\n",
       "      <td>5</td>\n",
       "      <td>56</td>\n",
       "    </tr>\n",
       "    <tr>\n",
       "      <th>3</th>\n",
       "      <td>331</td>\n",
       "      <td>3.8</td>\n",
       "      <td>5</td>\n",
       "      <td>86</td>\n",
       "    </tr>\n",
       "    <tr>\n",
       "      <th>4</th>\n",
       "      <td>124</td>\n",
       "      <td>4.2</td>\n",
       "      <td>5</td>\n",
       "      <td>32</td>\n",
       "    </tr>\n",
       "    <tr>\n",
       "      <th>5</th>\n",
       "      <td>339</td>\n",
       "      <td>3.6</td>\n",
       "      <td>7</td>\n",
       "      <td>91</td>\n",
       "    </tr>\n",
       "    <tr>\n",
       "      <th>6</th>\n",
       "      <td>97</td>\n",
       "      <td>3.4</td>\n",
       "      <td>5</td>\n",
       "      <td>35</td>\n",
       "    </tr>\n",
       "    <tr>\n",
       "      <th>7</th>\n",
       "      <td>257</td>\n",
       "      <td>3.0</td>\n",
       "      <td>5</td>\n",
       "      <td>93</td>\n",
       "    </tr>\n",
       "    <tr>\n",
       "      <th>8</th>\n",
       "      <td>84</td>\n",
       "      <td>2.4</td>\n",
       "      <td>5</td>\n",
       "      <td>36</td>\n",
       "    </tr>\n",
       "    <tr>\n",
       "      <th>9</th>\n",
       "      <td>211</td>\n",
       "      <td>3.2</td>\n",
       "      <td>5</td>\n",
       "      <td>62</td>\n",
       "    </tr>\n",
       "    <tr>\n",
       "      <th>10</th>\n",
       "      <td>131</td>\n",
       "      <td>3.2</td>\n",
       "      <td>5</td>\n",
       "      <td>45</td>\n",
       "    </tr>\n",
       "    <tr>\n",
       "      <th>11</th>\n",
       "      <td>112</td>\n",
       "      <td>2.9</td>\n",
       "      <td>5</td>\n",
       "      <td>37</td>\n",
       "    </tr>\n",
       "    <tr>\n",
       "      <th>12</th>\n",
       "      <td>101</td>\n",
       "      <td>2.9</td>\n",
       "      <td>5</td>\n",
       "      <td>32</td>\n",
       "    </tr>\n",
       "    <tr>\n",
       "      <th>13</th>\n",
       "      <td>74</td>\n",
       "      <td>2.9</td>\n",
       "      <td>7</td>\n",
       "      <td>30</td>\n",
       "    </tr>\n",
       "    <tr>\n",
       "      <th>14</th>\n",
       "      <td>62</td>\n",
       "      <td>2.9</td>\n",
       "      <td>5</td>\n",
       "      <td>21</td>\n",
       "    </tr>\n",
       "    <tr>\n",
       "      <th>15</th>\n",
       "      <td>289</td>\n",
       "      <td>2.8</td>\n",
       "      <td>5</td>\n",
       "      <td>112</td>\n",
       "    </tr>\n",
       "    <tr>\n",
       "      <th>16</th>\n",
       "      <td>113</td>\n",
       "      <td>2.8</td>\n",
       "      <td>5</td>\n",
       "      <td>39</td>\n",
       "    </tr>\n",
       "    <tr>\n",
       "      <th>17</th>\n",
       "      <td>141</td>\n",
       "      <td>2.8</td>\n",
       "      <td>5</td>\n",
       "      <td>52</td>\n",
       "    </tr>\n",
       "    <tr>\n",
       "      <th>18</th>\n",
       "      <td>213</td>\n",
       "      <td>2.8</td>\n",
       "      <td>5</td>\n",
       "      <td>80</td>\n",
       "    </tr>\n",
       "    <tr>\n",
       "      <th>19</th>\n",
       "      <td>137</td>\n",
       "      <td>2.7</td>\n",
       "      <td>5</td>\n",
       "      <td>56</td>\n",
       "    </tr>\n",
       "    <tr>\n",
       "      <th>20</th>\n",
       "      <td>91</td>\n",
       "      <td>2.7</td>\n",
       "      <td>5</td>\n",
       "      <td>35</td>\n",
       "    </tr>\n",
       "  </tbody>\n",
       "</table>\n",
       "</div>"
      ],
      "text/plain": [
       "    storyPoint  velocity  teamSize  Effort\n",
       "0          156       2.7         5      63\n",
       "1          202       2.5         5      92\n",
       "2          173       3.3         5      56\n",
       "3          331       3.8         5      86\n",
       "4          124       4.2         5      32\n",
       "5          339       3.6         7      91\n",
       "6           97       3.4         5      35\n",
       "7          257       3.0         5      93\n",
       "8           84       2.4         5      36\n",
       "9          211       3.2         5      62\n",
       "10         131       3.2         5      45\n",
       "11         112       2.9         5      37\n",
       "12         101       2.9         5      32\n",
       "13          74       2.9         7      30\n",
       "14          62       2.9         5      21\n",
       "15         289       2.8         5     112\n",
       "16         113       2.8         5      39\n",
       "17         141       2.8         5      52\n",
       "18         213       2.8         5      80\n",
       "19         137       2.7         5      56\n",
       "20          91       2.7         5      35"
      ]
     },
     "execution_count": 393,
     "metadata": {},
     "output_type": "execute_result"
    }
   ],
   "source": [
    "data = pd.read_csv(\"./zia.csv\" ,delimiter=\";\")\n",
    "data.insert(2, \"teamSize\",[5]*5+[7]+[5]*7+[7]+[5]*7 )\n",
    "print(data.shape)\n",
    "data\n"
   ]
  },
  {
   "cell_type": "markdown",
   "id": "ddaae984",
   "metadata": {},
   "source": [
    "#  Analyse des données "
   ]
  },
  {
   "cell_type": "raw",
   "id": "8b2049a8",
   "metadata": {},
   "source": [
    "d'aprés les résultat ,le dataset contient 21 enregistrements et 3 colonnes qui décrit l’effort de  développement d’un projet logiciel  en fonction de 2 features  : storyPoint et velocity ."
   ]
  },
  {
   "cell_type": "code",
   "execution_count": 394,
   "id": "4543c7bc",
   "metadata": {},
   "outputs": [
    {
     "data": {
      "text/plain": [
       "storyPoint    0\n",
       "velocity      0\n",
       "teamSize      0\n",
       "Effort        0\n",
       "dtype: int64"
      ]
     },
     "execution_count": 394,
     "metadata": {},
     "output_type": "execute_result"
    }
   ],
   "source": [
    "data.isnull().sum() "
   ]
  },
  {
   "cell_type": "raw",
   "id": "f07804de",
   "metadata": {},
   "source": [
    "On a pas de valeur manquante dans notre data set"
   ]
  },
  {
   "cell_type": "code",
   "execution_count": 395,
   "id": "363de337",
   "metadata": {},
   "outputs": [
    {
     "data": {
      "text/html": [
       "<div>\n",
       "<style scoped>\n",
       "    .dataframe tbody tr th:only-of-type {\n",
       "        vertical-align: middle;\n",
       "    }\n",
       "\n",
       "    .dataframe tbody tr th {\n",
       "        vertical-align: top;\n",
       "    }\n",
       "\n",
       "    .dataframe thead th {\n",
       "        text-align: right;\n",
       "    }\n",
       "</style>\n",
       "<table border=\"1\" class=\"dataframe\">\n",
       "  <thead>\n",
       "    <tr style=\"text-align: right;\">\n",
       "      <th></th>\n",
       "      <th>storyPoint</th>\n",
       "      <th>velocity</th>\n",
       "      <th>teamSize</th>\n",
       "      <th>Effort</th>\n",
       "    </tr>\n",
       "  </thead>\n",
       "  <tbody>\n",
       "    <tr>\n",
       "      <th>count</th>\n",
       "      <td>21.000000</td>\n",
       "      <td>21.000000</td>\n",
       "      <td>21.000000</td>\n",
       "      <td>21.000000</td>\n",
       "    </tr>\n",
       "    <tr>\n",
       "      <th>mean</th>\n",
       "      <td>163.714286</td>\n",
       "      <td>3.023810</td>\n",
       "      <td>5.190476</td>\n",
       "      <td>56.428571</td>\n",
       "    </tr>\n",
       "    <tr>\n",
       "      <th>std</th>\n",
       "      <td>82.743062</td>\n",
       "      <td>0.438069</td>\n",
       "      <td>0.601585</td>\n",
       "      <td>26.177417</td>\n",
       "    </tr>\n",
       "    <tr>\n",
       "      <th>min</th>\n",
       "      <td>62.000000</td>\n",
       "      <td>2.400000</td>\n",
       "      <td>5.000000</td>\n",
       "      <td>21.000000</td>\n",
       "    </tr>\n",
       "    <tr>\n",
       "      <th>25%</th>\n",
       "      <td>101.000000</td>\n",
       "      <td>2.800000</td>\n",
       "      <td>5.000000</td>\n",
       "      <td>35.000000</td>\n",
       "    </tr>\n",
       "    <tr>\n",
       "      <th>50%</th>\n",
       "      <td>137.000000</td>\n",
       "      <td>2.900000</td>\n",
       "      <td>5.000000</td>\n",
       "      <td>52.000000</td>\n",
       "    </tr>\n",
       "    <tr>\n",
       "      <th>75%</th>\n",
       "      <td>211.000000</td>\n",
       "      <td>3.200000</td>\n",
       "      <td>5.000000</td>\n",
       "      <td>80.000000</td>\n",
       "    </tr>\n",
       "    <tr>\n",
       "      <th>max</th>\n",
       "      <td>339.000000</td>\n",
       "      <td>4.200000</td>\n",
       "      <td>7.000000</td>\n",
       "      <td>112.000000</td>\n",
       "    </tr>\n",
       "  </tbody>\n",
       "</table>\n",
       "</div>"
      ],
      "text/plain": [
       "       storyPoint   velocity   teamSize      Effort\n",
       "count   21.000000  21.000000  21.000000   21.000000\n",
       "mean   163.714286   3.023810   5.190476   56.428571\n",
       "std     82.743062   0.438069   0.601585   26.177417\n",
       "min     62.000000   2.400000   5.000000   21.000000\n",
       "25%    101.000000   2.800000   5.000000   35.000000\n",
       "50%    137.000000   2.900000   5.000000   52.000000\n",
       "75%    211.000000   3.200000   5.000000   80.000000\n",
       "max    339.000000   4.200000   7.000000  112.000000"
      ]
     },
     "execution_count": 395,
     "metadata": {},
     "output_type": "execute_result"
    }
   ],
   "source": [
    "data.describe()"
   ]
  },
  {
   "cell_type": "code",
   "execution_count": 396,
   "id": "8fca9dd4",
   "metadata": {},
   "outputs": [],
   "source": [
    "corelation = data.corr()"
   ]
  },
  {
   "cell_type": "code",
   "execution_count": 397,
   "id": "5117d888",
   "metadata": {},
   "outputs": [
    {
     "data": {
      "text/plain": [
       "<AxesSubplot:>"
      ]
     },
     "execution_count": 397,
     "metadata": {},
     "output_type": "execute_result"
    },
    {
     "data": {
      "image/png": "[encoded data removed]",
      "text/plain": [
       "<Figure size 432x288 with 2 Axes>"
      ]
     },
     "metadata": {
      "needs_background": "light"
     },
     "output_type": "display_data"
    }
   ],
   "source": [
    "sns.heatmap(corelation , xticklabels=data.columns , yticklabels=data.columns , annot=True)"
   ]
  },
  {
   "cell_type": "code",
   "execution_count": 398,
   "id": "f68acadd",
   "metadata": {},
   "outputs": [
    {
     "data": {
      "text/plain": [
       "<seaborn.axisgrid.PairGrid at 0x17090b4ed90>"
      ]
     },
     "execution_count": 398,
     "metadata": {},
     "output_type": "execute_result"
    },
    {
     "data": {
      "image/png": "[encoded data removed]",
      "text/plain": [
       "<Figure size 720x720 with 20 Axes>"
      ]
     },
     "metadata": {
      "needs_background": "light"
     },
     "output_type": "display_data"
    }
   ],
   "source": [
    "sns.pairplot(data)"
   ]
  },
  {
   "cell_type": "raw",
   "id": "2d615ee0",
   "metadata": {},
   "source": [
    "On constate qu'on a une corrélation entre Effort et storyPoint car le coefficient de corrélation est 0.91 ."
   ]
  },
  {
   "cell_type": "markdown",
   "id": "fe85d945",
   "metadata": {},
   "source": [
    "# Préprocessing des données"
   ]
  },
  {
   "cell_type": "raw",
   "id": "791822a8",
   "metadata": {},
   "source": [
    "Avant le préprocessing des données ,On doit faire la dévision des données en deux parties : training dataset et testing dataset"
   ]
  },
  {
   "cell_type": "code",
   "execution_count": 399,
   "id": "6827c0ec",
   "metadata": {},
   "outputs": [],
   "source": [
    "X = data.iloc[:,0:3]\n",
    "Y = data.iloc[:,3]\n",
    "\n",
    "\n",
    "\n",
    "X_train, X_test, y_train, y_test = train_test_split(X, Y, test_size=0.3)"
   ]
  },
  {
   "cell_type": "code",
   "execution_count": 400,
   "id": "6813db74",
   "metadata": {},
   "outputs": [],
   "source": [
    "def trouver_donnees_importantes(X_train,TR):\n",
    "    Filtre=VarianceThreshold(threshold=TR)\n",
    "    Donnees_filtrees=Filtre.fit_transform(X_train)\n",
    "    FS=list(Filtre.get_support())\n",
    "    X=[]\n",
    "    for i in range(0,len(FS)):\n",
    "        if FS[i]==True:\n",
    "            X += [i]\n",
    "    return tuple(X)   \n"
   ]
  },
  {
   "cell_type": "code",
   "execution_count": 401,
   "id": "2873aa17",
   "metadata": {},
   "outputs": [
    {
     "data": {
      "text/plain": [
       "(0, 1, 2)"
      ]
     },
     "execution_count": 401,
     "metadata": {},
     "output_type": "execute_result"
    }
   ],
   "source": [
    "trouver_donnees_importantes(X_train,0.01)"
   ]
  },
  {
   "cell_type": "raw",
   "id": "7e1fe231",
   "metadata": {},
   "source": [
    "Don On peut désuire que les 3 features : velocity , teamSize et StoryPoint ont un impact sur l'effort"
   ]
  },
  {
   "cell_type": "markdown",
   "id": "bdbe8d30",
   "metadata": {},
   "source": [
    "#  Modélisation"
   ]
  },
  {
   "cell_type": "code",
   "execution_count": 402,
   "id": "79c1e577",
   "metadata": {},
   "outputs": [],
   "source": [
    "# On va définir une fonction qui va calculer l'erreur pour l'évaluation\n",
    "\n",
    "# calculer MRE\n",
    "def MRE(y_test,y_predict):\n",
    "    y_test = np.array(y_test)\n",
    "    y_predict = np.array(y_predict)\n",
    "    AbEi = np.abs(y_test-y_predict)\n",
    "#     print(AbEi)\n",
    "    MRE = AbEi / y_test\n",
    "    return MRE\n",
    "\n",
    "# calculer pred(25)\n",
    "def pred_25(y_test,y_predict):\n",
    "    mre =MRE(y_test,y_predict)\n",
    "    s= 0 \n",
    "    for i in mre :\n",
    "        if i <= 0.25 :\n",
    "            s += 1\n",
    "    return s / len(mre)\n",
    "            \n",
    "# calculer le MMRE\n",
    "def MMRE(y_test,y_predict) :\n",
    "    mre =MRE(y_test,y_predict)\n",
    "    return np.sum(mre) / len(mre)\n",
    "\n",
    "    \n",
    "    \n",
    "    "
   ]
  },
  {
   "cell_type": "markdown",
   "id": "ca820b2c",
   "metadata": {},
   "source": [
    "# le modéle de regression linéaire "
   ]
  },
  {
   "cell_type": "code",
   "execution_count": 403,
   "id": "76179f4f",
   "metadata": {},
   "outputs": [],
   "source": [
    "regressor0 = LinearRegression().fit(X_train, y_train)"
   ]
  },
  {
   "cell_type": "code",
   "execution_count": 404,
   "id": "5550af32",
   "metadata": {},
   "outputs": [],
   "source": [
    "regressor0.score(X_train, y_train)\n",
    "y_predict = regressor0.predict(X_test)\n"
   ]
  },
  {
   "cell_type": "code",
   "execution_count": 405,
   "id": "f7cd0df6",
   "metadata": {},
   "outputs": [
    {
     "name": "stdout",
     "output_type": "stream",
     "text": [
      "l'accuracy ---->  71.42857142857143\n",
      "l'erreur ------> 0.16822185375800586\n"
     ]
    }
   ],
   "source": [
    "print(\"l'accuracy ----> \",pred_25(y_test,y_predict)*100)\n",
    "print(\"l'erreur ------>\" ,MMRE(y_test,y_predict))"
   ]
  },
  {
   "cell_type": "markdown",
   "id": "fc34ae81",
   "metadata": {},
   "source": [
    "#  le modéle de SVR"
   ]
  },
  {
   "cell_type": "code",
   "execution_count": 406,
   "id": "83f3768a",
   "metadata": {},
   "outputs": [
    {
     "data": {
      "text/plain": [
       "SVR(C=1000)"
      ]
     },
     "execution_count": 406,
     "metadata": {},
     "output_type": "execute_result"
    }
   ],
   "source": [
    "regressor1 = SVR(C=1000)\n",
    "regressor1.fit(X_train, y_train)"
   ]
  },
  {
   "cell_type": "code",
   "execution_count": 407,
   "id": "b1325a40",
   "metadata": {},
   "outputs": [],
   "source": [
    "regressor1.score(X_train, y_train)\n",
    "y_predict1 = regressor1.predict(X_test)"
   ]
  },
  {
   "cell_type": "code",
   "execution_count": 408,
   "id": "178d3e7d",
   "metadata": {},
   "outputs": [
    {
     "name": "stdout",
     "output_type": "stream",
     "text": [
      "l'accuracy ---->  71.42857142857143\n",
      "l'erreur ------> 0.08693320168404169\n"
     ]
    }
   ],
   "source": [
    "print(\"l'accuracy ----> \",pred_25(y_test,y_predict)*100)\n",
    "print(\"l'erreur ------>\" ,MMRE(y_test,y_predict1))"
   ]
  },
  {
   "cell_type": "markdown",
   "id": "f11a9fd5",
   "metadata": {},
   "source": [
    "#  le modéle d'arbre de décidion de régression\n"
   ]
  },
  {
   "cell_type": "code",
   "execution_count": 409,
   "id": "ade329f2",
   "metadata": {},
   "outputs": [
    {
     "data": {
      "text/plain": [
       "DecisionTreeRegressor(random_state=0)"
      ]
     },
     "execution_count": 409,
     "metadata": {},
     "output_type": "execute_result"
    }
   ],
   "source": [
    "regressor2 = DecisionTreeRegressor(random_state=0)\n",
    "regressor2.fit(X_train, y_train)\n"
   ]
  },
  {
   "cell_type": "code",
   "execution_count": 410,
   "id": "16af5482",
   "metadata": {},
   "outputs": [],
   "source": [
    "regressor2.score(X_train, y_train)\n",
    "y_predict2 = regressor2.predict(X_test)"
   ]
  },
  {
   "cell_type": "code",
   "execution_count": 411,
   "id": "c79fdab5",
   "metadata": {},
   "outputs": [
    {
     "name": "stdout",
     "output_type": "stream",
     "text": [
      "l'accuracy ---->  100.0\n",
      "l'erreur ------> 0.09529369440083725\n"
     ]
    }
   ],
   "source": [
    "print(\"l'accuracy ----> \",pred_25(y_test,y_predict2)*100)\n",
    "print(\"l'erreur ------>\" ,MMRE(y_test,y_predict2))"
   ]
  },
  {
   "cell_type": "raw",
   "id": "916a5772",
   "metadata": {},
   "source": [
    "On va creer un tableau pour comparer les modéles \n"
   ]
  },
  {
   "cell_type": "code",
   "execution_count": 412,
   "id": "921aac02",
   "metadata": {},
   "outputs": [
    {
     "data": {
      "text/html": [
       "<div>\n",
       "<style scoped>\n",
       "    .dataframe tbody tr th:only-of-type {\n",
       "        vertical-align: middle;\n",
       "    }\n",
       "\n",
       "    .dataframe tbody tr th {\n",
       "        vertical-align: top;\n",
       "    }\n",
       "\n",
       "    .dataframe thead th {\n",
       "        text-align: right;\n",
       "    }\n",
       "</style>\n",
       "<table border=\"1\" class=\"dataframe\">\n",
       "  <thead>\n",
       "    <tr style=\"text-align: right;\">\n",
       "      <th></th>\n",
       "      <th>TR.MMRE</th>\n",
       "      <th>TR.pred</th>\n",
       "      <th>Tst.MMRE</th>\n",
       "      <th>Tst.pred</th>\n",
       "    </tr>\n",
       "  </thead>\n",
       "  <tbody>\n",
       "    <tr>\n",
       "      <th>regression lineaire</th>\n",
       "      <td>0.114032</td>\n",
       "      <td>0.857143</td>\n",
       "      <td>0.168222</td>\n",
       "      <td>0.714286</td>\n",
       "    </tr>\n",
       "    <tr>\n",
       "      <th>SVR</th>\n",
       "      <td>0.106845</td>\n",
       "      <td>0.928571</td>\n",
       "      <td>0.086933</td>\n",
       "      <td>1.000000</td>\n",
       "    </tr>\n",
       "    <tr>\n",
       "      <th>Decision tree regressor</th>\n",
       "      <td>0.000000</td>\n",
       "      <td>1.000000</td>\n",
       "      <td>0.095294</td>\n",
       "      <td>1.000000</td>\n",
       "    </tr>\n",
       "  </tbody>\n",
       "</table>\n",
       "</div>"
      ],
      "text/plain": [
       "                          TR.MMRE   TR.pred  Tst.MMRE  Tst.pred\n",
       "regression lineaire      0.114032  0.857143  0.168222  0.714286\n",
       "SVR                      0.106845  0.928571  0.086933  1.000000\n",
       "Decision tree regressor  0.000000  1.000000  0.095294  1.000000"
      ]
     },
     "execution_count": 412,
     "metadata": {},
     "output_type": "execute_result"
    }
   ],
   "source": [
    "Tst_MMRE = [MMRE(y_test,regressor0.predict(X_test)) ,MMRE(y_test,regressor1.predict(X_test)) ,MMRE(y_test,regressor2.predict(X_test)) ]\n",
    "TR_MMRE = [MMRE(y_train,regressor0.predict(X_train)) ,MMRE(y_train,regressor1.predict(X_train)) ,MMRE(y_train,regressor2.predict(X_train)) ]\n",
    "Tst_pred = [pred_25(y_test,regressor0.predict(X_test)) ,pred_25(y_test,regressor1.predict(X_test)) ,pred_25(y_test,regressor2.predict(X_test)) ]\n",
    "TR_pred = [pred_25(y_train,regressor0.predict(X_train)) ,pred_25(y_train,regressor1.predict(X_train)) ,pred_25(y_train,regressor2.predict(X_train)) ]\n",
    "\n",
    "dic ={ \"TR.MMRE\" : TR_MMRE  ,\"TR.pred\":TR_pred , \"Tst.MMRE\" :Tst_MMRE, \"Tst.pred\":Tst_pred}\n",
    "pd.DataFrame(dic , index=[\"regression lineaire\" , \"SVR\" ,\"Decision tree regressor\"])"
   ]
  },
  {
   "cell_type": "raw",
   "id": "3cf55bff",
   "metadata": {},
   "source": [
    "le modéle le plus performant est Decision tree regressor car les MMRE de training et testing sont petits par contre les autres "
   ]
  },
  {
   "cell_type": "markdown",
   "id": "1741769a",
   "metadata": {},
   "source": [
    "#  Amélioration de peformance"
   ]
  },
  {
   "cell_type": "raw",
   "id": "788b407d",
   "metadata": {},
   "source": [
    "On peut utiliser  le ENSEMBLE LEARNING exactement le boosting"
   ]
  },
  {
   "cell_type": "code",
   "execution_count": 413,
   "id": "2958bbc4",
   "metadata": {},
   "outputs": [
    {
     "data": {
      "text/plain": [
       "GradientBoostingRegressor(learning_rate=0.01, max_depth=4, min_samples_split=5,\n",
       "                          n_estimators=1000)"
      ]
     },
     "execution_count": 413,
     "metadata": {},
     "output_type": "execute_result"
    }
   ],
   "source": [
    "params = {\n",
    "    \"n_estimators\": 1000,\n",
    "    \"max_depth\": 4,\n",
    "    \"min_samples_split\": 5,\n",
    "    \"learning_rate\": 0.01,\n",
    "  \n",
    "}\n",
    "reg = ensemble.GradientBoostingRegressor(**params)\n",
    "reg.fit(X_train, y_train)\n"
   ]
  },
  {
   "cell_type": "code",
   "execution_count": 414,
   "id": "8d0523a4",
   "metadata": {},
   "outputs": [],
   "source": [
    "reg.score(X_train, y_train)\n",
    "y_predict2 = regr.predict(X_test)"
   ]
  },
  {
   "cell_type": "code",
   "execution_count": 415,
   "id": "e4aa54f2",
   "metadata": {},
   "outputs": [
    {
     "name": "stdout",
     "output_type": "stream",
     "text": [
      "l'accuracy ---->  42.857142857142854\n",
      "l'erreur ------> 0.28550488780446165\n"
     ]
    }
   ],
   "source": [
    "print(\"l'accuracy ----> \",pred_25(y_test,y_predict2)*100)\n",
    "print(\"l'erreur ------>\" ,MMRE(y_test,y_predict2))"
   ]
  },
  {
   "cell_type": "raw",
   "id": "91190add",
   "metadata": {},
   "source": [
    "le boosting ne donne aucune amélioration  parce que on a pas une grande quantité de données"
   ]
  },
  {
   "cell_type": "code",
   "execution_count": null,
   "id": "1d946b3b",
   "metadata": {},
   "outputs": [],
   "source": []
  },
  {
   "cell_type": "code",
   "execution_count": null,
   "id": "e2d9ace4",
   "metadata": {},
   "outputs": [],
   "source": []
  }
 ],
 "metadata": {
  "kernelspec": {
   "display_name": "Python 3",
   "language": "python",
   "name": "python3"
  },
  "language_info": {
   "codemirror_mode": {
    "name": "ipython",
    "version": 3
   },
   "file_extension": ".py",
   "mimetype": "text/x-python",
   "name": "python",
   "nbconvert_exporter": "python",
   "pygments_lexer": "ipython3",
   "version": "3.8.8"
  }
 },
 "nbformat": 4,
 "nbformat_minor": 5
}
