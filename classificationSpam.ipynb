{
 "cells": [
  {
   "cell_type": "code",
   "execution_count": 29,
   "id": "218515f6",
   "metadata": {},
   "outputs": [
    {
     "name": "stderr",
     "output_type": "stream",
     "text": [
      "[nltk_data] Downloading package stopwords to\n",
      "[nltk_data]     C:\\Users\\pc\\AppData\\Roaming\\nltk_data...\n",
      "[nltk_data]   Package stopwords is already up-to-date!\n"
     ]
    }
   ],
   "source": [
    "import string\n",
    "import nltk\n",
    "nltk.download('stopwords')\n",
    "from nltk.corpus import stopwords\n",
    "def netoyage(corpus_ensemble_documents):\n",
    "    for i in range(len(corpus_ensemble_documents)):\n",
    "        corpus_ensemble_documents[i] = corpus_ensemble_documents[i].lower()\n",
    "    for i in range(len(corpus_ensemble_documents)):\n",
    "        for c in string.punctuation:\n",
    "             x = corpus_ensemble_documents[i].replace(c,\" \")\n",
    "             corpus_ensemble_documents[i] = x\n",
    "    stopwords_anglais = stopwords.words('french') #ou french\n",
    "    for i in range(len(corpus_ensemble_documents)):\n",
    "        L = corpus_ensemble_documents[i].split()\n",
    "        for mot in L:\n",
    "            if mot in stopwords_anglais:\n",
    "                while mot in L:\n",
    "                    L.remove(mot)\n",
    "        corpus_ensemble_documents[i] = \" \".join(L)\n",
    "    return(corpus_ensemble_documents)"
   ]
  },
  {
   "cell_type": "code",
   "execution_count": 30,
   "id": "a37bd25f",
   "metadata": {},
   "outputs": [],
   "source": [
    "import numpy as np\n",
    "import pandas as pd\n",
    "from sklearn.model_selection import train_test_split \n",
    "\n",
    "spams = pd.read_csv(r\"C:\\Users\\pc\\Desktop\\S7\\MachineLearningTps\\SMSSpamCollection.txt\" ,sep=\"\\t\",header=0)\n",
    "spamsTrain , spamsTest = train_test_split(spams,train_size=0.7,random_state=1)\n"
   ]
  },
  {
   "cell_type": "code",
   "execution_count": 31,
   "id": "1c507903",
   "metadata": {},
   "outputs": [
    {
     "data": {
      "text/plain": [
       "0.9976923076923077"
      ]
     },
     "execution_count": 31,
     "metadata": {},
     "output_type": "execute_result"
    }
   ],
   "source": [
    "from  sklearn.feature_extraction.text import CountVectorizer\n",
    "\n",
    "parseur = CountVectorizer()\n",
    "Xtrain = parseur.fit_transform(spamsTrain[\"message\"])\n",
    "Xtest = parseur.fit_transform(spamsTest[\"message\"])\n",
    "mdtTest = Xtest.toarray()\n",
    "a=list(parseur.vocabulary_.keys())\n",
    "\n",
    "#print(a)netoyage(spamsTrain[\"message\"])\n",
    "from sklearn.linear_model import  LogisticRegression\n",
    "model = LogisticRegression()\n",
    "model.fit(mdtTrain ,spamsTrain[\"classe\"])\n",
    "score = model.score(mdtTrain ,spamsTrain[\"classe\"])\n",
    "score\n"
   ]
  },
  {
   "cell_type": "code",
   "execution_count": 32,
   "id": "39798a30",
   "metadata": {},
   "outputs": [],
   "source": [
    "from sklearn.tree import DecisionTreeClassifier"
   ]
  },
  {
   "cell_type": "code",
   "execution_count": 35,
   "id": "5baf1d25",
   "metadata": {},
   "outputs": [
    {
     "data": {
      "text/plain": [
       "(1078     ham\n",
       " 4028     ham\n",
       " 958      ham\n",
       " 4642     ham\n",
       " 4674     ham\n",
       "         ... \n",
       " 3954    spam\n",
       " 619      ham\n",
       " 1987     ham\n",
       " 2358     ham\n",
       " 3594     ham\n",
       " Name: classe, Length: 1672, dtype: object,\n",
       " array([[0, 0, 0, ..., 0, 0, 0],\n",
       "        [0, 0, 0, ..., 0, 0, 0],\n",
       "        [0, 0, 0, ..., 0, 0, 0],\n",
       "        ...,\n",
       "        [0, 0, 0, ..., 0, 0, 0],\n",
       "        [0, 0, 0, ..., 0, 0, 0],\n",
       "        [0, 0, 0, ..., 0, 0, 0]], dtype=int64))"
      ]
     },
     "execution_count": 35,
     "metadata": {},
     "output_type": "execute_result"
    }
   ],
   "source": [
    "model = DecisionTreeClassifier()\n",
    "model.fit(mdtTrain , spamsTrain[\"classe\"])\n",
    "score_train =model.score(mdtTrain , spamsTrain[\"classe\"])\n",
    "# score_test = model.score(mdtTest ,spamsTest[\"classe\"])\n",
    "mdtTrain.shape , spamsTrain[\"classe\"].shape ,mdtTest.shape \n",
    "spamsTest[\"classe\"],mdtTest"
   ]
  },
  {
   "cell_type": "code",
   "execution_count": null,
   "id": "ed6f8351",
   "metadata": {},
   "outputs": [],
   "source": []
  },
  {
   "cell_type": "code",
   "execution_count": null,
   "id": "7ca7634b",
   "metadata": {},
   "outputs": [],
   "source": []
  }
 ],
 "metadata": {
  "kernelspec": {
   "display_name": "Python 3",
   "language": "python",
   "name": "python3"
  },
  "language_info": {
   "codemirror_mode": {
    "name": "ipython",
    "version": 3
   },
   "file_extension": ".py",
   "mimetype": "text/x-python",
   "name": "python",
   "nbconvert_exporter": "python",
   "pygments_lexer": "ipython3",
   "version": "3.8.8"
  }
 },
 "nbformat": 4,
 "nbformat_minor": 5
}
