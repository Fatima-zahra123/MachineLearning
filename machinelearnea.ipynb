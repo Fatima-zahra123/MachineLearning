{
 "cells": [
  {
   "cell_type": "code",
   "execution_count": 1,
   "id": "43eb4ee1",
   "metadata": {},
   "outputs": [],
   "source": [
    "import numpy as np\n",
    "import matplotlib.pyplot as plt\n",
    "from sklearn.linear_model import LinearRegression \n",
    "from sklearn.svm import SVR ,SVC\n",
    "import seaborn as sns \n",
    "\n",
    "\n"
   ]
  },
  {
   "cell_type": "code",
   "execution_count": 2,
   "id": "8c67503c",
   "metadata": {},
   "outputs": [
    {
     "data": {
      "text/plain": [
       "<matplotlib.collections.PathCollection at 0x23d29a7f490>"
      ]
     },
     "execution_count": 2,
     "metadata": {},
     "output_type": "execute_result"
    },
    {
     "data": {
      "image/png": "[encoded data removed]",
      "text/plain": [
       "<Figure size 432x288 with 1 Axes>"
      ]
     },
     "metadata": {
      "needs_background": "light"
     },
     "output_type": "display_data"
    }
   ],
   "source": [
    "np.random.seed(0)\n",
    "m=100\n",
    "X = np.linspace(0,10,m).reshape(m,1)\n",
    "y = X**2 + np.random.randn(m,1)\n",
    "plt.scatter(X,y)\n",
    "\n"
   ]
  },
  {
   "cell_type": "code",
   "execution_count": 3,
   "id": "ade1a06a",
   "metadata": {},
   "outputs": [
    {
     "name": "stderr",
     "output_type": "stream",
     "text": [
      "C:\\Users\\pc\\anaconda3\\lib\\site-packages\\sklearn\\utils\\validation.py:63: DataConversionWarning: A column-vector y was passed when a 1d array was expected. Please change the shape of y to (n_samples, ), for example using ravel().\n",
      "  return f(*args, **kwargs)\n"
     ]
    },
    {
     "data": {
      "text/plain": [
       "[<matplotlib.lines.Line2D at 0x23d2a2304f0>]"
      ]
     },
     "execution_count": 3,
     "metadata": {},
     "output_type": "execute_result"
    },
    {
     "data": {
      "image/png": "[encoded data removed]",
      "text/plain": [
       "<Figure size 432x288 with 1 Axes>"
      ]
     },
     "metadata": {
      "needs_background": "light"
     },
     "output_type": "display_data"
    }
   ],
   "source": [
    "model = SVR(C=100)\n",
    "model.fit(X,y)\n",
    "model.score(X,y)\n",
    "prediction =model.predict(X)\n",
    "plt.scatter(X,y)\n",
    "plt.plot(X,prediction ,color='r')"
   ]
  },
  {
   "cell_type": "code",
   "execution_count": 4,
   "id": "4b2d3229",
   "metadata": {},
   "outputs": [
    {
     "data": {
      "text/html": [
       "<div>\n",
       "<style scoped>\n",
       "    .dataframe tbody tr th:only-of-type {\n",
       "        vertical-align: middle;\n",
       "    }\n",
       "\n",
       "    .dataframe tbody tr th {\n",
       "        vertical-align: top;\n",
       "    }\n",
       "\n",
       "    .dataframe thead th {\n",
       "        text-align: right;\n",
       "    }\n",
       "</style>\n",
       "<table border=\"1\" class=\"dataframe\">\n",
       "  <thead>\n",
       "    <tr style=\"text-align: right;\">\n",
       "      <th></th>\n",
       "      <th>survived</th>\n",
       "      <th>pclass</th>\n",
       "      <th>sex</th>\n",
       "      <th>age</th>\n",
       "      <th>sibsp</th>\n",
       "      <th>parch</th>\n",
       "      <th>fare</th>\n",
       "      <th>embarked</th>\n",
       "      <th>class</th>\n",
       "      <th>who</th>\n",
       "      <th>adult_male</th>\n",
       "      <th>deck</th>\n",
       "      <th>embark_town</th>\n",
       "      <th>alive</th>\n",
       "      <th>alone</th>\n",
       "    </tr>\n",
       "  </thead>\n",
       "  <tbody>\n",
       "    <tr>\n",
       "      <th>0</th>\n",
       "      <td>0</td>\n",
       "      <td>3</td>\n",
       "      <td>male</td>\n",
       "      <td>22.0</td>\n",
       "      <td>1</td>\n",
       "      <td>0</td>\n",
       "      <td>7.2500</td>\n",
       "      <td>S</td>\n",
       "      <td>Third</td>\n",
       "      <td>man</td>\n",
       "      <td>True</td>\n",
       "      <td>NaN</td>\n",
       "      <td>Southampton</td>\n",
       "      <td>no</td>\n",
       "      <td>False</td>\n",
       "    </tr>\n",
       "    <tr>\n",
       "      <th>1</th>\n",
       "      <td>1</td>\n",
       "      <td>1</td>\n",
       "      <td>female</td>\n",
       "      <td>38.0</td>\n",
       "      <td>1</td>\n",
       "      <td>0</td>\n",
       "      <td>71.2833</td>\n",
       "      <td>C</td>\n",
       "      <td>First</td>\n",
       "      <td>woman</td>\n",
       "      <td>False</td>\n",
       "      <td>C</td>\n",
       "      <td>Cherbourg</td>\n",
       "      <td>yes</td>\n",
       "      <td>False</td>\n",
       "    </tr>\n",
       "    <tr>\n",
       "      <th>2</th>\n",
       "      <td>1</td>\n",
       "      <td>3</td>\n",
       "      <td>female</td>\n",
       "      <td>26.0</td>\n",
       "      <td>0</td>\n",
       "      <td>0</td>\n",
       "      <td>7.9250</td>\n",
       "      <td>S</td>\n",
       "      <td>Third</td>\n",
       "      <td>woman</td>\n",
       "      <td>False</td>\n",
       "      <td>NaN</td>\n",
       "      <td>Southampton</td>\n",
       "      <td>yes</td>\n",
       "      <td>True</td>\n",
       "    </tr>\n",
       "    <tr>\n",
       "      <th>3</th>\n",
       "      <td>1</td>\n",
       "      <td>1</td>\n",
       "      <td>female</td>\n",
       "      <td>35.0</td>\n",
       "      <td>1</td>\n",
       "      <td>0</td>\n",
       "      <td>53.1000</td>\n",
       "      <td>S</td>\n",
       "      <td>First</td>\n",
       "      <td>woman</td>\n",
       "      <td>False</td>\n",
       "      <td>C</td>\n",
       "      <td>Southampton</td>\n",
       "      <td>yes</td>\n",
       "      <td>False</td>\n",
       "    </tr>\n",
       "    <tr>\n",
       "      <th>4</th>\n",
       "      <td>0</td>\n",
       "      <td>3</td>\n",
       "      <td>male</td>\n",
       "      <td>35.0</td>\n",
       "      <td>0</td>\n",
       "      <td>0</td>\n",
       "      <td>8.0500</td>\n",
       "      <td>S</td>\n",
       "      <td>Third</td>\n",
       "      <td>man</td>\n",
       "      <td>True</td>\n",
       "      <td>NaN</td>\n",
       "      <td>Southampton</td>\n",
       "      <td>no</td>\n",
       "      <td>True</td>\n",
       "    </tr>\n",
       "  </tbody>\n",
       "</table>\n",
       "</div>"
      ],
      "text/plain": [
       "   survived  pclass     sex   age  sibsp  parch     fare embarked  class  \\\n",
       "0         0       3    male  22.0      1      0   7.2500        S  Third   \n",
       "1         1       1  female  38.0      1      0  71.2833        C  First   \n",
       "2         1       3  female  26.0      0      0   7.9250        S  Third   \n",
       "3         1       1  female  35.0      1      0  53.1000        S  First   \n",
       "4         0       3    male  35.0      0      0   8.0500        S  Third   \n",
       "\n",
       "     who  adult_male deck  embark_town alive  alone  \n",
       "0    man        True  NaN  Southampton    no  False  \n",
       "1  woman       False    C    Cherbourg   yes  False  \n",
       "2  woman       False  NaN  Southampton   yes   True  \n",
       "3  woman       False    C  Southampton   yes  False  \n",
       "4    man        True  NaN  Southampton    no   True  "
      ]
     },
     "execution_count": 4,
     "metadata": {},
     "output_type": "execute_result"
    }
   ],
   "source": [
    "titanic = sns.load_dataset(\"titanic\")\n",
    "titanic.shape\n",
    "titanic.head()"
   ]
  },
  {
   "cell_type": "code",
   "execution_count": 5,
   "id": "df3a6b21",
   "metadata": {},
   "outputs": [
    {
     "data": {
      "text/html": [
       "<div>\n",
       "<style scoped>\n",
       "    .dataframe tbody tr th:only-of-type {\n",
       "        vertical-align: middle;\n",
       "    }\n",
       "\n",
       "    .dataframe tbody tr th {\n",
       "        vertical-align: top;\n",
       "    }\n",
       "\n",
       "    .dataframe thead th {\n",
       "        text-align: right;\n",
       "    }\n",
       "</style>\n",
       "<table border=\"1\" class=\"dataframe\">\n",
       "  <thead>\n",
       "    <tr style=\"text-align: right;\">\n",
       "      <th></th>\n",
       "      <th>survived</th>\n",
       "      <th>pclass</th>\n",
       "      <th>sex</th>\n",
       "      <th>age</th>\n",
       "    </tr>\n",
       "  </thead>\n",
       "  <tbody>\n",
       "    <tr>\n",
       "      <th>0</th>\n",
       "      <td>0</td>\n",
       "      <td>3</td>\n",
       "      <td>0</td>\n",
       "      <td>22.0</td>\n",
       "    </tr>\n",
       "    <tr>\n",
       "      <th>1</th>\n",
       "      <td>1</td>\n",
       "      <td>1</td>\n",
       "      <td>1</td>\n",
       "      <td>38.0</td>\n",
       "    </tr>\n",
       "    <tr>\n",
       "      <th>2</th>\n",
       "      <td>1</td>\n",
       "      <td>3</td>\n",
       "      <td>1</td>\n",
       "      <td>26.0</td>\n",
       "    </tr>\n",
       "    <tr>\n",
       "      <th>3</th>\n",
       "      <td>1</td>\n",
       "      <td>1</td>\n",
       "      <td>1</td>\n",
       "      <td>35.0</td>\n",
       "    </tr>\n",
       "    <tr>\n",
       "      <th>4</th>\n",
       "      <td>0</td>\n",
       "      <td>3</td>\n",
       "      <td>0</td>\n",
       "      <td>35.0</td>\n",
       "    </tr>\n",
       "  </tbody>\n",
       "</table>\n",
       "</div>"
      ],
      "text/plain": [
       "   survived  pclass  sex   age\n",
       "0         0       3    0  22.0\n",
       "1         1       1    1  38.0\n",
       "2         1       3    1  26.0\n",
       "3         1       1    1  35.0\n",
       "4         0       3    0  35.0"
      ]
     },
     "execution_count": 5,
     "metadata": {},
     "output_type": "execute_result"
    }
   ],
   "source": [
    "titanic = titanic[['survived','pclass','sex','age']]\n",
    "titanic.dropna(axis=0,inplace=True)\n",
    "titanic['sex'].replace([\"male\",\"female\"],[0,1],inplace=True)\n",
    "titanic.head()"
   ]
  },
  {
   "cell_type": "code",
   "execution_count": 6,
   "id": "a769f42e",
   "metadata": {},
   "outputs": [],
   "source": [
    "from sklearn.neighbors import KNeighborsClassifier"
   ]
  },
  {
   "cell_type": "code",
   "execution_count": 7,
   "id": "5495d243",
   "metadata": {},
   "outputs": [
    {
     "name": "stderr",
     "output_type": "stream",
     "text": [
      "C:\\Users\\pc\\anaconda3\\lib\\site-packages\\sklearn\\utils\\validation.py:70: FutureWarning: Pass param_name=n_neighbors, param_range=range(1, 50) as keyword args. From version 1.0 (renaming of 0.25) passing these as positional arguments will result in an error\n",
      "  warnings.warn(f\"Pass {args_msg} as keyword args. From version \"\n"
     ]
    },
    {
     "data": {
      "text/plain": [
       "[<matplotlib.lines.Line2D at 0x23d2a443c40>]"
      ]
     },
     "execution_count": 7,
     "metadata": {},
     "output_type": "execute_result"
    },
    {
     "data": {
      "image/png": "[encoded data removed]",
      "text/plain": [
       "<Figure size 432x288 with 1 Axes>"
      ]
     },
     "metadata": {
      "needs_background": "light"
     },
     "output_type": "display_data"
    }
   ],
   "source": [
    "model = KNeighborsClassifier()\n",
    "y = titanic['survived']\n",
    "X = titanic.drop('survived',axis=1)\n",
    "model.fit(X,y)\n",
    "from sklearn.model_selection import cross_val_score , train_test_split ,validation_curve\n",
    "X_train , X_test ,y_train ,y_test = train_test_split(X,y ,test_size = 0.3, shuffle=False)\n",
    "\n",
    "val_score =[]\n",
    "for i in range(1,50):\n",
    "    score =cross_val_score(KNeighborsClassifier(i),X_train ,y_train).mean()\n",
    "    val_score.append(score)\n",
    "\n",
    "tarins,vals=validation_curve(KNeighborsClassifier(),X_train ,y_train,'n_neighbors',range(1,50),cv=5)   \n",
    "plt.plot(vals.mean(axis=1))"
   ]
  },
  {
   "cell_type": "code",
   "execution_count": 8,
   "id": "be2e45b5",
   "metadata": {},
   "outputs": [],
   "source": [
    "from sklearn.model_selection import KFold ,cross_val_score ,ShuffleSplit ,StratifiedKFold\n",
    "CV =StratifiedKFold(4)\n",
    "a =cross_val_score(KNeighborsClassifier() ,X_train,y_train,cv=CV)\n",
    "b =cross_val_score(SVC(C=500) ,X_train,y_train,cv=CV)\n",
    "\n"
   ]
  },
  {
   "cell_type": "code",
   "execution_count": 18,
   "id": "f87f0dcc",
   "metadata": {},
   "outputs": [],
   "source": [
    "from sklearn.preprocessing import LabelEncoder , OneHotEncoder ,LabelBinarizer ,PolynomialFeatures\n",
    "import matplotlib.pyplot as plt\n"
   ]
  },
  {
   "cell_type": "code",
   "execution_count": 25,
   "id": "d6887a3a",
   "metadata": {},
   "outputs": [
    {
     "data": {
      "text/plain": [
       "array([[1.00000000e+00, 0.00000000e+00, 0.00000000e+00, 0.00000000e+00],\n",
       "       [1.00000000e+00, 1.01010101e-01, 1.02030405e-02, 1.03061015e-03],\n",
       "       [1.00000000e+00, 2.02020202e-01, 4.08121620e-02, 8.24488122e-03],\n",
       "       [1.00000000e+00, 3.03030303e-01, 9.18273646e-02, 2.78264741e-02],\n",
       "       [1.00000000e+00, 4.04040404e-01, 1.63248648e-01, 6.59590497e-02],\n",
       "       [1.00000000e+00, 5.05050505e-01, 2.55076013e-01, 1.28826269e-01],\n",
       "       [1.00000000e+00, 6.06060606e-01, 3.67309458e-01, 2.22611793e-01],\n",
       "       [1.00000000e+00, 7.07070707e-01, 4.99948985e-01, 3.53499282e-01],\n",
       "       [1.00000000e+00, 8.08080808e-01, 6.52994592e-01, 5.27672398e-01],\n",
       "       [1.00000000e+00, 9.09090909e-01, 8.26446281e-01, 7.51314801e-01],\n",
       "       [1.00000000e+00, 1.01010101e+00, 1.02030405e+00, 1.03061015e+00],\n",
       "       [1.00000000e+00, 1.11111111e+00, 1.23456790e+00, 1.37174211e+00],\n",
       "       [1.00000000e+00, 1.21212121e+00, 1.46923783e+00, 1.78089434e+00],\n",
       "       [1.00000000e+00, 1.31313131e+00, 1.72431385e+00, 2.26425050e+00],\n",
       "       [1.00000000e+00, 1.41414141e+00, 1.99979594e+00, 2.82799426e+00],\n",
       "       [1.00000000e+00, 1.51515152e+00, 2.29568411e+00, 3.47830926e+00],\n",
       "       [1.00000000e+00, 1.61616162e+00, 2.61197837e+00, 4.22137918e+00],\n",
       "       [1.00000000e+00, 1.71717172e+00, 2.94867871e+00, 5.06338768e+00],\n",
       "       [1.00000000e+00, 1.81818182e+00, 3.30578512e+00, 6.01051841e+00],\n",
       "       [1.00000000e+00, 1.91919192e+00, 3.68329762e+00, 7.06895503e+00],\n",
       "       [1.00000000e+00, 2.02020202e+00, 4.08121620e+00, 8.24488122e+00],\n",
       "       [1.00000000e+00, 2.12121212e+00, 4.49954086e+00, 9.54448062e+00],\n",
       "       [1.00000000e+00, 2.22222222e+00, 4.93827160e+00, 1.09739369e+01],\n",
       "       [1.00000000e+00, 2.32323232e+00, 5.39740843e+00, 1.25394337e+01],\n",
       "       [1.00000000e+00, 2.42424242e+00, 5.87695133e+00, 1.42471547e+01],\n",
       "       [1.00000000e+00, 2.52525253e+00, 6.37690032e+00, 1.61032836e+01],\n",
       "       [1.00000000e+00, 2.62626263e+00, 6.89725538e+00, 1.81140040e+01],\n",
       "       [1.00000000e+00, 2.72727273e+00, 7.43801653e+00, 2.02854996e+01],\n",
       "       [1.00000000e+00, 2.82828283e+00, 7.99918376e+00, 2.26239541e+01],\n",
       "       [1.00000000e+00, 2.92929293e+00, 8.58075707e+00, 2.51355510e+01],\n",
       "       [1.00000000e+00, 3.03030303e+00, 9.18273646e+00, 2.78264741e+01],\n",
       "       [1.00000000e+00, 3.13131313e+00, 9.80512193e+00, 3.07029070e+01],\n",
       "       [1.00000000e+00, 3.23232323e+00, 1.04479135e+01, 3.37710335e+01],\n",
       "       [1.00000000e+00, 3.33333333e+00, 1.11111111e+01, 3.70370370e+01],\n",
       "       [1.00000000e+00, 3.43434343e+00, 1.17947148e+01, 4.05071014e+01],\n",
       "       [1.00000000e+00, 3.53535354e+00, 1.24987246e+01, 4.41874103e+01],\n",
       "       [1.00000000e+00, 3.63636364e+00, 1.32231405e+01, 4.80841473e+01],\n",
       "       [1.00000000e+00, 3.73737374e+00, 1.39679625e+01, 5.22034960e+01],\n",
       "       [1.00000000e+00, 3.83838384e+00, 1.47331905e+01, 5.65516403e+01],\n",
       "       [1.00000000e+00, 3.93939394e+00, 1.55188246e+01, 6.11347636e+01],\n",
       "       [1.00000000e+00, 4.04040404e+00, 1.63248648e+01, 6.59590497e+01],\n",
       "       [1.00000000e+00, 4.14141414e+00, 1.71513111e+01, 7.10306823e+01],\n",
       "       [1.00000000e+00, 4.24242424e+00, 1.79981635e+01, 7.63558450e+01],\n",
       "       [1.00000000e+00, 4.34343434e+00, 1.88654219e+01, 8.19407214e+01],\n",
       "       [1.00000000e+00, 4.44444444e+00, 1.97530864e+01, 8.77914952e+01],\n",
       "       [1.00000000e+00, 4.54545455e+00, 2.06611570e+01, 9.39143501e+01],\n",
       "       [1.00000000e+00, 4.64646465e+00, 2.15896337e+01, 1.00315470e+02],\n",
       "       [1.00000000e+00, 4.74747475e+00, 2.25385165e+01, 1.07001038e+02],\n",
       "       [1.00000000e+00, 4.84848485e+00, 2.35078053e+01, 1.13977238e+02],\n",
       "       [1.00000000e+00, 4.94949495e+00, 2.44975003e+01, 1.21250254e+02],\n",
       "       [1.00000000e+00, 5.05050505e+00, 2.55076013e+01, 1.28826269e+02],\n",
       "       [1.00000000e+00, 5.15151515e+00, 2.65381084e+01, 1.36711467e+02],\n",
       "       [1.00000000e+00, 5.25252525e+00, 2.75890215e+01, 1.44912032e+02],\n",
       "       [1.00000000e+00, 5.35353535e+00, 2.86603408e+01, 1.53434148e+02],\n",
       "       [1.00000000e+00, 5.45454545e+00, 2.97520661e+01, 1.62283997e+02],\n",
       "       [1.00000000e+00, 5.55555556e+00, 3.08641975e+01, 1.71467764e+02],\n",
       "       [1.00000000e+00, 5.65656566e+00, 3.19967350e+01, 1.80991632e+02],\n",
       "       [1.00000000e+00, 5.75757576e+00, 3.31496786e+01, 1.90861786e+02],\n",
       "       [1.00000000e+00, 5.85858586e+00, 3.43230283e+01, 2.01084408e+02],\n",
       "       [1.00000000e+00, 5.95959596e+00, 3.55167840e+01, 2.11665682e+02],\n",
       "       [1.00000000e+00, 6.06060606e+00, 3.67309458e+01, 2.22611793e+02],\n",
       "       [1.00000000e+00, 6.16161616e+00, 3.79655137e+01, 2.33928923e+02],\n",
       "       [1.00000000e+00, 6.26262626e+00, 3.92204877e+01, 2.45623256e+02],\n",
       "       [1.00000000e+00, 6.36363636e+00, 4.04958678e+01, 2.57700977e+02],\n",
       "       [1.00000000e+00, 6.46464646e+00, 4.17916539e+01, 2.70168268e+02],\n",
       "       [1.00000000e+00, 6.56565657e+00, 4.31078461e+01, 2.83031313e+02],\n",
       "       [1.00000000e+00, 6.66666667e+00, 4.44444444e+01, 2.96296296e+02],\n",
       "       [1.00000000e+00, 6.76767677e+00, 4.58014488e+01, 3.09969401e+02],\n",
       "       [1.00000000e+00, 6.86868687e+00, 4.71788593e+01, 3.24056811e+02],\n",
       "       [1.00000000e+00, 6.96969697e+00, 4.85766758e+01, 3.38564710e+02],\n",
       "       [1.00000000e+00, 7.07070707e+00, 4.99948985e+01, 3.53499282e+02],\n",
       "       [1.00000000e+00, 7.17171717e+00, 5.14335272e+01, 3.68866710e+02],\n",
       "       [1.00000000e+00, 7.27272727e+00, 5.28925620e+01, 3.84673178e+02],\n",
       "       [1.00000000e+00, 7.37373737e+00, 5.43720029e+01, 4.00924870e+02],\n",
       "       [1.00000000e+00, 7.47474747e+00, 5.58718498e+01, 4.17627968e+02],\n",
       "       [1.00000000e+00, 7.57575758e+00, 5.73921028e+01, 4.34788658e+02],\n",
       "       [1.00000000e+00, 7.67676768e+00, 5.89327620e+01, 4.52413122e+02],\n",
       "       [1.00000000e+00, 7.77777778e+00, 6.04938272e+01, 4.70507545e+02],\n",
       "       [1.00000000e+00, 7.87878788e+00, 6.20752984e+01, 4.89078109e+02],\n",
       "       [1.00000000e+00, 7.97979798e+00, 6.36771758e+01, 5.08130999e+02],\n",
       "       [1.00000000e+00, 8.08080808e+00, 6.52994592e+01, 5.27672398e+02],\n",
       "       [1.00000000e+00, 8.18181818e+00, 6.69421488e+01, 5.47708490e+02],\n",
       "       [1.00000000e+00, 8.28282828e+00, 6.86052444e+01, 5.68245458e+02],\n",
       "       [1.00000000e+00, 8.38383838e+00, 7.02887460e+01, 5.89289487e+02],\n",
       "       [1.00000000e+00, 8.48484848e+00, 7.19926538e+01, 6.10846760e+02],\n",
       "       [1.00000000e+00, 8.58585859e+00, 7.37169677e+01, 6.32923460e+02],\n",
       "       [1.00000000e+00, 8.68686869e+00, 7.54616876e+01, 6.55525771e+02],\n",
       "       [1.00000000e+00, 8.78787879e+00, 7.72268136e+01, 6.78659877e+02],\n",
       "       [1.00000000e+00, 8.88888889e+00, 7.90123457e+01, 7.02331962e+02],\n",
       "       [1.00000000e+00, 8.98989899e+00, 8.08182838e+01, 7.26548208e+02],\n",
       "       [1.00000000e+00, 9.09090909e+00, 8.26446281e+01, 7.51314801e+02],\n",
       "       [1.00000000e+00, 9.19191919e+00, 8.44913784e+01, 7.76637923e+02],\n",
       "       [1.00000000e+00, 9.29292929e+00, 8.63585348e+01, 8.02523758e+02],\n",
       "       [1.00000000e+00, 9.39393939e+00, 8.82460973e+01, 8.28978490e+02],\n",
       "       [1.00000000e+00, 9.49494949e+00, 9.01540659e+01, 8.56008303e+02],\n",
       "       [1.00000000e+00, 9.59595960e+00, 9.20824406e+01, 8.83619379e+02],\n",
       "       [1.00000000e+00, 9.69696970e+00, 9.40312213e+01, 9.11817904e+02],\n",
       "       [1.00000000e+00, 9.79797980e+00, 9.60004081e+01, 9.40610059e+02],\n",
       "       [1.00000000e+00, 9.89898990e+00, 9.79900010e+01, 9.70002030e+02],\n",
       "       [1.00000000e+00, 1.00000000e+01, 1.00000000e+02, 1.00000000e+03]])"
      ]
     },
     "execution_count": 25,
     "metadata": {},
     "output_type": "execute_result"
    }
   ],
   "source": [
    "transformer = LabelBinarizer()\n",
    "titanic = sns.load_dataset(\"titanic\")\n",
    "array = np.array(titanic[\"who\"])\n",
    "transformer.fit_transform(titanic[\"who\"])\n",
    "X = np.linspace(0,10,m).reshape(m,1)\n",
    "Yp  = PolynomialFeatures(3).fit_transform(X)\n",
    "# plt.scatter(X,Yp\n",
    "Yp\n",
    "\n"
   ]
  },
  {
   "cell_type": "code",
   "execution_count": null,
   "id": "ecf70796",
   "metadata": {},
   "outputs": [],
   "source": []
  },
  {
   "cell_type": "code",
   "execution_count": null,
   "id": "be2a19e1",
   "metadata": {},
   "outputs": [],
   "source": []
  }
 ],
 "metadata": {
  "kernelspec": {
   "display_name": "Python 3",
   "language": "python",
   "name": "python3"
  },
  "language_info": {
   "codemirror_mode": {
    "name": "ipython",
    "version": 3
   },
   "file_extension": ".py",
   "mimetype": "text/x-python",
   "name": "python",
   "nbconvert_exporter": "python",
   "pygments_lexer": "ipython3",
   "version": "3.8.8"
  }
 },
 "nbformat": 4,
 "nbformat_minor": 5
}
