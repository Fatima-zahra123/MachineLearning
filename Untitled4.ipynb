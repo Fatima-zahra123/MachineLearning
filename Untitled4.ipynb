{
 "cells": [
  {
   "cell_type": "code",
   "execution_count": 5,
   "id": "fc6db9cb",
   "metadata": {},
   "outputs": [
    {
     "name": "stdout",
     "output_type": "stream",
     "text": [
      "dictionnaire_des_mots : {'la': 3, 'vie': 5, 'est': 2, 'douce': 1, 'tranquille': 4, 'belle': 0}\n"
     ]
    }
   ],
   "source": [
    "from sklearn.feature_extraction.text import CountVectorizer\n",
    "texte = [\"La vie est douce\" ,\"la vie est tranquille ,est belle ,est douce\"]\n",
    "vect = CountVectorizer()\n",
    "T = vect.fit_transform(texte)\n",
    "dictionnaire_des_mots = vect.vocabulary_\n",
    "print(\"dictionnaire_des_mots :\" ,dictionnaire_des_mots )\n"
   ]
  },
  {
   "cell_type": "code",
   "execution_count": 8,
   "id": "605412ae",
   "metadata": {},
   "outputs": [
    {
     "name": "stdout",
     "output_type": "stream",
     "text": [
      "liste_des_mots : ['la', 'vie', 'est', 'douce', 'tranquille', 'belle']\n",
      "Matrice_sparse_correspondante :\n",
      " [[0 1 1 1 0 1]\n",
      " [1 1 3 1 1 1]]   (0, 3)\t1\n",
      "  (0, 5)\t1\n",
      "  (0, 2)\t1\n",
      "  (0, 1)\t1\n",
      "  (1, 3)\t1\n",
      "  (1, 5)\t1\n",
      "  (1, 2)\t3\n",
      "  (1, 1)\t1\n",
      "  (1, 4)\t1\n",
      "  (1, 0)\t1\n"
     ]
    }
   ],
   "source": [
    "liste_des_mots = list(dictionnaire_des_mots.keys())\n",
    "print(\"liste_des_mots :\",liste_des_mots)\n",
    "Matrice_sparse_correspondante = T.toarray()\n",
    "print(\"Matrice_sparse_correspondante :\\n\",Matrice_sparse_correspondante ,T è)"
   ]
  },
  {
   "cell_type": "code",
   "execution_count": null,
   "id": "5f63a73f",
   "metadata": {},
   "outputs": [],
   "source": []
  },
  {
   "cell_type": "code",
   "execution_count": null,
   "id": "a0a4ee77",
   "metadata": {},
   "outputs": [],
   "source": []
  }
 ],
 "metadata": {
  "kernelspec": {
   "display_name": "Python 3",
   "language": "python",
   "name": "python3"
  },
  "language_info": {
   "codemirror_mode": {
    "name": "ipython",
    "version": 3
   },
   "file_extension": ".py",
   "mimetype": "text/x-python",
   "name": "python",
   "nbconvert_exporter": "python",
   "pygments_lexer": "ipython3",
   "version": "3.8.8"
  }
 },
 "nbformat": 4,
 "nbformat_minor": 5
}
