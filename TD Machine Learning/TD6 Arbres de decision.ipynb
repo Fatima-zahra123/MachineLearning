{
 "cells": [
  {
   "cell_type": "code",
   "execution_count": 1,
   "id": "4d32dce2",
   "metadata": {},
   "outputs": [
    {
     "name": "stdout",
     "output_type": "stream",
     "text": [
      "[[0 1 'C1']\n",
      " [0 0 'C1']\n",
      " [1 1 'C2']\n",
      " [1 0 'C2']]\n",
      "1.0\n"
     ]
    }
   ],
   "source": [
    "from numpy import*\n",
    "import pandas\n",
    "df = pandas.DataFrame([[0,1,'C1'],[0,0,'C1'],[1,1,'C2'],[1,0,'C2']],columns=['A','B','Classes'])\n",
    "df=df.to_numpy()\n",
    "print(df)\n",
    "def Entropie(S):\n",
    "    S=array(S)# important\n",
    "    classes_distinctes=set(S[:,-1]) #supprimer les redandances dans la derniere colonne pour determiner \n",
    "    classes=list(S[:,-1])\n",
    "    #print(\"classes_distinctes:\",classes_distinctes)\n",
    "    #print(\"classes:\",classes)\n",
    "    \n",
    "    s=0\n",
    "    for c in classes_distinctes:\n",
    "        p=classes.count(c)/len(classes) # calcul du portion\n",
    "        s+=p*log2(p)\n",
    "    return(-1.0*s)\n",
    "print(Entropie(df))\n"
   ]
  },
  {
   "cell_type": "code",
   "execution_count": 1,
   "id": "86150571",
   "metadata": {},
   "outputs": [],
   "source": [
    "def Gain_d_information(S,numero_colon_attribut):\n",
    "    classes=list(set(S[:,-1]))\n",
    "    valeurs_attribut=list(set(S[:,numero_colon_attribut]))\n",
    "   # print('val att',valeurs_attribut)\n",
    "    Si= [ []for i in range(len(valeurs_attribut))]\n",
    "    [[],[]]#inistialiser la var Si par de deux sous ensemble vides []\n",
    "    #print('Si 1:',Si)\n",
    "    for l in S:   #ligne de l'ensemble S\n",
    "        l=list(l)\n",
    "        print('ligne :',l)\n",
    "        val_attribut_pour_l=l[numero_colon_attribut]\n",
    "        print('val atri pour l :',val_attribut_pour_l)\n",
    "        numero_sous_ensemble=valeurs_attribut.index(val_attribut_pour_l)  #num=[0,1].index(0)\n",
    "        print('numero_sous_ensemble=',numero_sous_ensemble)\n",
    "        Si[numero_sous_ensemble].append(l)\n",
    "    Si=array(Si); som=0\n",
    "    #print('Si 2:',Si)\n",
    "    for sous_ensemble in Si:\n",
    "        som+=(len(sous_ensemble)/len(S))*Entropie(sous_ensemble)\n",
    "    return(Entropie(S)-som)    "
   ]
  },
  {
   "cell_type": "code",
   "execution_count": 2,
   "id": "77864b47",
   "metadata": {},
   "outputs": [
    {
     "ename": "NameError",
     "evalue": "name 'df' is not defined",
     "output_type": "error",
     "traceback": [
      "\u001b[1;31m---------------------------------------------------------------------------\u001b[0m",
      "\u001b[1;31mNameError\u001b[0m                                 Traceback (most recent call last)",
      "\u001b[1;32m~\\AppData\\Local\\Temp/ipykernel_2468/3287471283.py\u001b[0m in \u001b[0;36m<module>\u001b[1;34m\u001b[0m\n\u001b[1;32m----> 1\u001b[1;33m \u001b[0mprint\u001b[0m\u001b[1;33m(\u001b[0m\u001b[1;34m\"le gain de l'attribut A =\"\u001b[0m\u001b[1;33m,\u001b[0m\u001b[0mGain_d_information\u001b[0m\u001b[1;33m(\u001b[0m\u001b[0mdf\u001b[0m\u001b[1;33m,\u001b[0m\u001b[1;36m0\u001b[0m\u001b[1;33m)\u001b[0m\u001b[1;33m)\u001b[0m\u001b[1;33m\u001b[0m\u001b[1;33m\u001b[0m\u001b[0m\n\u001b[0m\u001b[0;32m      2\u001b[0m \u001b[0mprint\u001b[0m\u001b[1;33m(\u001b[0m\u001b[1;34m\"le gain de l'attribut B =\"\u001b[0m\u001b[1;33m,\u001b[0m\u001b[0mGain_d_information\u001b[0m\u001b[1;33m(\u001b[0m\u001b[0mdf\u001b[0m\u001b[1;33m,\u001b[0m\u001b[1;36m1\u001b[0m\u001b[1;33m)\u001b[0m\u001b[1;33m)\u001b[0m\u001b[1;33m\u001b[0m\u001b[1;33m\u001b[0m\u001b[0m\n",
      "\u001b[1;31mNameError\u001b[0m: name 'df' is not defined"
     ]
    }
   ],
   "source": [
    "print(\"le gain de l'attribut A =\",Gain_d_information(df,0)) \n",
    "print(\"le gain de l'attribut B =\",Gain_d_information(df,1))"
   ]
  },
  {
   "cell_type": "code",
   "execution_count": 24,
   "id": "f768b63c",
   "metadata": {},
   "outputs": [
    {
     "name": "stdout",
     "output_type": "stream",
     "text": [
      "0.02904940554533142\n",
      "1.0\n"
     ]
    },
    {
     "data": {
      "text/plain": [
       "array([['poitrine', 45, 'oui', 'oui'],\n",
       "       ['ailleurs', 25, 'oui', 'oui'],\n",
       "       ['poitrine', 35, 'non', 'oui'],\n",
       "       ['poitrine', 70, 'oui', 'oui'],\n",
       "       ['ailleurs', 34, 'non', 'oui'],\n",
       "       ['poitrine', 60, 'non', 'non'],\n",
       "       ['ailleurs', 67, 'non', 'non'],\n",
       "       ['poitrine', 52, 'oui', 'non'],\n",
       "       ['ailleurs', 58, 'non', 'non'],\n",
       "       ['ailleurs', 34, 'non', 'non']], dtype=object)"
      ]
     },
     "execution_count": 24,
     "metadata": {},
     "output_type": "execute_result"
    }
   ],
   "source": [
    "from numpy import *\n",
    "import pandas\n",
    "fich = pandas.read_csv('C:\\\\donneesAD.csv',sep =\";\")\n",
    "#Data_train = fich.iloc[:,:] #to_numpy\n",
    "Data_train = fich.to_numpy()\n",
    "print(Gain_d_information(Data_train,0)) #gain de a\n",
    "print(Gain_d_information(Data_train,3)) #gain de b\n",
    "Data_train"
   ]
  },
  {
   "cell_type": "code",
   "execution_count": null,
   "id": "3143e3da",
   "metadata": {},
   "outputs": [],
   "source": []
  },
  {
   "cell_type": "code",
   "execution_count": null,
   "id": "a4bef7d5",
   "metadata": {},
   "outputs": [],
   "source": []
  }
 ],
 "metadata": {
  "kernelspec": {
   "display_name": "Python 3 (ipykernel)",
   "language": "python",
   "name": "python3"
  },
  "language_info": {
   "codemirror_mode": {
    "name": "ipython",
    "version": 3
   },
   "file_extension": ".py",
   "mimetype": "text/x-python",
   "name": "python",
   "nbconvert_exporter": "python",
   "pygments_lexer": "ipython3",
   "version": "3.9.7"
  }
 },
 "nbformat": 4,
 "nbformat_minor": 5
}
