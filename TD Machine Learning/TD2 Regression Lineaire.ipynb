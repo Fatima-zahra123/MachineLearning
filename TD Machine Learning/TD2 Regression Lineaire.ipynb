{
 "cells": [
  {
   "cell_type": "code",
   "execution_count": 2,
   "id": "dd0c4bf6",
   "metadata": {},
   "outputs": [],
   "source": [
    "#regression lineaire\n",
    "import numpy as np\n",
    "import pandas as pd\n",
    "import matplotlib.pyplot as plt\n",
    "from scipy import stats\n"
   ]
  },
  {
   "cell_type": "code",
   "execution_count": 9,
   "id": "96336e5a",
   "metadata": {},
   "outputs": [
    {
     "data": {
      "text/html": [
       "<div>\n",
       "<style scoped>\n",
       "    .dataframe tbody tr th:only-of-type {\n",
       "        vertical-align: middle;\n",
       "    }\n",
       "\n",
       "    .dataframe tbody tr th {\n",
       "        vertical-align: top;\n",
       "    }\n",
       "\n",
       "    .dataframe thead th {\n",
       "        text-align: right;\n",
       "    }\n",
       "</style>\n",
       "<table border=\"1\" class=\"dataframe\">\n",
       "  <thead>\n",
       "    <tr style=\"text-align: right;\">\n",
       "      <th></th>\n",
       "      <th>6.1101</th>\n",
       "      <th>17.592</th>\n",
       "    </tr>\n",
       "  </thead>\n",
       "  <tbody>\n",
       "    <tr>\n",
       "      <th>0</th>\n",
       "      <td>5.5277</td>\n",
       "      <td>9.13020</td>\n",
       "    </tr>\n",
       "    <tr>\n",
       "      <th>1</th>\n",
       "      <td>8.5186</td>\n",
       "      <td>13.66200</td>\n",
       "    </tr>\n",
       "    <tr>\n",
       "      <th>2</th>\n",
       "      <td>7.0032</td>\n",
       "      <td>11.85400</td>\n",
       "    </tr>\n",
       "    <tr>\n",
       "      <th>3</th>\n",
       "      <td>5.8598</td>\n",
       "      <td>6.82330</td>\n",
       "    </tr>\n",
       "    <tr>\n",
       "      <th>4</th>\n",
       "      <td>8.3829</td>\n",
       "      <td>11.88600</td>\n",
       "    </tr>\n",
       "    <tr>\n",
       "      <th>...</th>\n",
       "      <td>...</td>\n",
       "      <td>...</td>\n",
       "    </tr>\n",
       "    <tr>\n",
       "      <th>91</th>\n",
       "      <td>5.8707</td>\n",
       "      <td>7.20290</td>\n",
       "    </tr>\n",
       "    <tr>\n",
       "      <th>92</th>\n",
       "      <td>5.3054</td>\n",
       "      <td>1.98690</td>\n",
       "    </tr>\n",
       "    <tr>\n",
       "      <th>93</th>\n",
       "      <td>8.2934</td>\n",
       "      <td>0.14454</td>\n",
       "    </tr>\n",
       "    <tr>\n",
       "      <th>94</th>\n",
       "      <td>13.3940</td>\n",
       "      <td>9.05510</td>\n",
       "    </tr>\n",
       "    <tr>\n",
       "      <th>95</th>\n",
       "      <td>5.4369</td>\n",
       "      <td>0.61705</td>\n",
       "    </tr>\n",
       "  </tbody>\n",
       "</table>\n",
       "<p>96 rows × 2 columns</p>\n",
       "</div>"
      ],
      "text/plain": [
       "     6.1101    17.592\n",
       "0    5.5277   9.13020\n",
       "1    8.5186  13.66200\n",
       "2    7.0032  11.85400\n",
       "3    5.8598   6.82330\n",
       "4    8.3829  11.88600\n",
       "..      ...       ...\n",
       "91   5.8707   7.20290\n",
       "92   5.3054   1.98690\n",
       "93   8.2934   0.14454\n",
       "94  13.3940   9.05510\n",
       "95   5.4369   0.61705\n",
       "\n",
       "[96 rows x 2 columns]"
      ]
     },
     "execution_count": 9,
     "metadata": {},
     "output_type": "execute_result"
    }
   ],
   "source": [
    "df=pd.read_csv('C:/univariate_linear_regression_dataset.csv')\n",
    "#df=df.to_numpy()\n",
    "#dfm[2,:]\n",
    "df"
   ]
  },
  {
   "cell_type": "code",
   "execution_count": 12,
   "id": "ae1de1d7",
   "metadata": {},
   "outputs": [
    {
     "data": {
      "image/png": "[encoded data removed]",
      "text/plain": [
       "<Figure size 432x288 with 1 Axes>"
      ]
     },
     "metadata": {
      "needs_background": "light"
     },
     "output_type": "display_data"
    }
   ],
   "source": [
    "X=df.iloc[:,0] #iloc pour selectioner une partie de dataframe (same result as to_numpy())\n",
    "Y=df.iloc[:,1]\n",
    "axes=plt.axes()\n",
    "axes.grid() #pour tracer le grid\n",
    "plt.scatter(X,Y) #tracer le nuage de pt\n",
    "plt.show()"
   ]
  },
  {
   "cell_type": "code",
   "execution_count": 5,
   "id": "1c673ba3",
   "metadata": {},
   "outputs": [
    {
     "data": {
      "image/png": "[encoded data removed]",
      "text/plain": [
       "<Figure size 432x288 with 1 Axes>"
      ]
     },
     "metadata": {
      "needs_background": "light"
     },
     "output_type": "display_data"
    }
   ],
   "source": [
    "SL=stats.linregress(X,Y)\n",
    "slope=SL.slope;intercept=SL.intercept;coef_correlation=SL.rvalue\n",
    "def predict(x):\n",
    "    return slope* x + intercept\n",
    "axes=plt.axes()\n",
    "axes.grid()\n",
    "plt.scatter(X,Y)\n",
    "fitLine=predict(X)\n",
    "plt.plot(X,fitLine,c='r')\n",
    "plt.show()\n"
   ]
  },
  {
   "cell_type": "code",
   "execution_count": 6,
   "id": "ed82ffd9",
   "metadata": {},
   "outputs": [
    {
     "name": "stdout",
     "output_type": "stream",
     "text": [
      "Slope= 1.2135472539083587 intercept= -4.211504005424093 coeffecient de correlation= 0.8721572919685905\n"
     ]
    }
   ],
   "source": [
    "print(\"Slope=\",slope,\"intercept=\",intercept,\"coeffecient de correlation=\",coef_correlation)"
   ]
  },
  {
   "cell_type": "code",
   "execution_count": 7,
   "id": "0ae485a3",
   "metadata": {},
   "outputs": [
    {
     "data": {
      "text/plain": [
       "23.09330920751398"
      ]
     },
     "execution_count": 7,
     "metadata": {},
     "output_type": "execute_result"
    }
   ],
   "source": [
    "\n",
    "predict(22.5)"
   ]
  },
  {
   "cell_type": "code",
   "execution_count": 13,
   "id": "05fb795d",
   "metadata": {},
   "outputs": [],
   "source": [
    "#regression polynomiale\n",
    "def afficher_pol(LPol):\n",
    "    L=LPol[:];L.reverse()\n",
    "    L=[round(e,2)for e in L]\n",
    "    for i in range(len(L)):\n",
    "        print('('+str(L[i])+'*X^'+str(i)+')',end='+')\n",
    "def Evaluer_pol(LPol,x):\n",
    "    s=0\n",
    "    L=LPol[:]\n",
    "    L.reverse()\n",
    "    for i in range(len(LPol)):\n",
    "        s+=L[i]*(x**i)\n",
    "    return(s)\n",
    "def MAPE(Y_actual,Y_Predicted): #poir calculer l'erreur \n",
    "    mape = np.mean(np.abs((Y_actual - Y_Predicted)/Y_actual))*100\n",
    "    return mape\n"
   ]
  },
  {
   "cell_type": "code",
   "execution_count": 14,
   "id": "fe5a4b36",
   "metadata": {},
   "outputs": [],
   "source": [
    "data=pd.read_csv('C:\\dataset_polynomial3.csv')\n",
    "dataMatrix=data.to_numpy()\n",
    "x=dataMatrix[1:1001,0]\n",
    "y=dataMatrix[1:1001,1]\n"
   ]
  },
  {
   "cell_type": "code",
   "execution_count": 11,
   "id": "10eb7922",
   "metadata": {},
   "outputs": [
    {
     "name": "stdout",
     "output_type": "stream",
     "text": [
      "(-7.38*X^0)+(13.53*X^1)+(-7.38*X^2)+(1.23*X^3)+"
     ]
    },
    {
     "data": {
      "image/png": "[encoded data removed]",
      "text/plain": [
       "<Figure size 432x288 with 1 Axes>"
      ]
     },
     "metadata": {
      "needs_background": "light"
     },
     "output_type": "display_data"
    }
   ],
   "source": [
    "\n",
    "degre_polynome=3\n",
    "p=np.poly1d(np.polyfit(x,y,degre_polynome)) #trouver la relation enre x et y \n",
    "LPol=list(p)\n",
    "afficher_pol(LPol)\n",
    "les_x=np.linspace(min(x),max(x),100)#l'intervale\n",
    "plt.scatter(x,y)\n",
    "plt.plot(les_x,p(les_x),c='r')\n",
    "plt.show()"
   ]
  },
  {
   "cell_type": "code",
   "execution_count": 30,
   "id": "5bc0a648",
   "metadata": {},
   "outputs": [
    {
     "name": "stdout",
     "output_type": "stream",
     "text": [
      "(-3.45*X^0)+(1.84*X^1)+(-0.04*X^2)+"
     ]
    },
    {
     "data": {
      "image/png": "[encoded data removed]",
      "text/plain": [
       "<Figure size 432x288 with 1 Axes>"
      ]
     },
     "metadata": {
      "needs_background": "light"
     },
     "output_type": "display_data"
    },
    {
     "name": "stdout",
     "output_type": "stream",
     "text": [
      "x    0.991997\n",
      "y    1.490473\n",
      "dtype: float64\n",
      "mape= 459.8801600283723\n"
     ]
    }
   ],
   "source": [
    "degre_polynome=2\n",
    "p=np.poly1d(np.polyfit(x,y,degre_polynome))\n",
    "LPol=list(p)\n",
    "afficher_pol(LPol)\n",
    "les_x=np.linspace(-100,100,100)\n",
    "plt.scatter(x,y)\n",
    "plt.plot(les_x,p(les_x),c='r')\n",
    "plt.show()\n",
    "\n",
    "mad=data.mad(axis=0)\n",
    "print(mad)\n",
    "mape=MAPE(y,Evaluer_pol(LPol,x))\n",
    "print(\"mape=\",mape)"
   ]
  },
  {
   "cell_type": "code",
   "execution_count": 22,
   "id": "4ea56384",
   "metadata": {},
   "outputs": [
    {
     "name": "stdout",
     "output_type": "stream",
     "text": [
      "(-3.45*X^0)+(1.84*X^1)+(-0.04*X^2)+"
     ]
    },
    {
     "data": {
      "image/png": "[encoded data removed]",
      "text/plain": [
       "<Figure size 432x288 with 1 Axes>"
      ]
     },
     "metadata": {
      "needs_background": "light"
     },
     "output_type": "display_data"
    }
   ],
   "source": [
    "degre_polynome=2\n",
    "p=np.poly1d(np.polyfit(x,y,degre_polynome))\n",
    "LPol=list(p)\n",
    "afficher_pol(LPol)\n",
    "les_x=np.linspace(min(x),max(x),100)\n",
    "plt.scatter(x,y)\n",
    "plt.plot(les_x,p(les_x),c='r')\n",
    "plt.show()"
   ]
  },
  {
   "cell_type": "code",
   "execution_count": null,
   "id": "409a3421",
   "metadata": {},
   "outputs": [],
   "source": []
  }
 ],
 "metadata": {
  "celltoolbar": "Format de la Cellule Texte Brut",
  "kernelspec": {
   "display_name": "Python 3 (ipykernel)",
   "language": "python",
   "name": "python3"
  },
  "language_info": {
   "codemirror_mode": {
    "name": "ipython",
    "version": 3
   },
   "file_extension": ".py",
   "mimetype": "text/x-python",
   "name": "python",
   "nbconvert_exporter": "python",
   "pygments_lexer": "ipython3",
   "version": "3.9.7"
  }
 },
 "nbformat": 4,
 "nbformat_minor": 5
}
