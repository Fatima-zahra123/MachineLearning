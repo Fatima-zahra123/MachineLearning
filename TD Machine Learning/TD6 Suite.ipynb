{
 "cells": [
  {
   "cell_type": "code",
   "execution_count": 8,
   "id": "f2a55350",
   "metadata": {},
   "outputs": [],
   "source": [
    "from numpy import *\n",
    "import pandas\n",
    "fich = pandas.read_csv('C:\\\\donneesAD.csv',sep =\";\")\n",
    "Data_train = fich.iloc[:,:]\n",
    "Data_train = Data_train.to_numpy()"
   ]
  },
  {
   "cell_type": "code",
   "execution_count": 9,
   "id": "1414df5f",
   "metadata": {},
   "outputs": [],
   "source": [
    "def GINI(S):\n",
    "    S=array(S)\n",
    "    clonne_des_classes=list(S[:,-1])\n",
    "    classes=list(set(S[:,-1]))\n",
    "    k=len(classes)\n",
    "    s=0\n",
    "    for i in range(k):\n",
    "        pi=clonne_des_classes.count(classes[i]/len(S[:,-1]))\n",
    "        s+=pi**2\n",
    "    return 1-s\n"
   ]
  },
  {
   "cell_type": "code",
   "execution_count": 10,
   "id": "ac50abb4",
   "metadata": {},
   "outputs": [],
   "source": [
    "def Mesure_desordre(S,numero_colon_attribut):\n",
    "    Bonne_mesure_desordre =+ inf \n",
    "    Bonne_valeur_de_repartition = 0\n",
    "    classes = list(set(S[:,-1]))\n",
    "    valeurs_attribut = list(set(S[:,numero_colon_attribut])) #eliminer la redondance\n",
    "    valeurs_attribut.sort() #faire le tri (1 2 3 7 ..)\n",
    "    Gauche = [] \n",
    "    Droite = [] \n",
    "    for i in range(len(valeurs_attribut)-1):\n",
    "        v = valeurs_attribut[i]; Gauche.clear() ; Droite.clear()\n",
    "        for e in S :\n",
    "            val_attribut_pour_e= e[numero_colon_attribut]\n",
    "            if val_attribut_pour_e <= v :\n",
    "                Gauche.append(e)\n",
    "        \n",
    "            else:\n",
    "                Droite.append(e)\n",
    "        \n",
    "    pGau= len(Gauche)/len(S)\n",
    "    pDr=len(Droite)/len(S)\n",
    "    mesure= (pGau) * GINI(Gauche)+ (pDr) * GINI(Droite)\n",
    "    if mesure < Bonne_mesure_desordre:\n",
    "        Bonne_mesure_desordre=mesure\n",
    "        Bonne_mesure_de_repartition=v\n",
    "    return(Bonne_mesure_desordre , Bonne_valeur_de_repartition)"
   ]
  },
  {
   "cell_type": "code",
   "execution_count": 11,
   "id": "0d791d96",
   "metadata": {},
   "outputs": [
    {
     "ename": "TypeError",
     "evalue": "unsupported operand type(s) for /: 'str' and 'int'",
     "output_type": "error",
     "traceback": [
      "\u001b[1;31m---------------------------------------------------------------------------\u001b[0m",
      "\u001b[1;31mTypeError\u001b[0m                                 Traceback (most recent call last)",
      "\u001b[1;32m~\\AppData\\Local\\Temp/ipykernel_656/940097335.py\u001b[0m in \u001b[0;36m<module>\u001b[1;34m\u001b[0m\n\u001b[0;32m     10\u001b[0m             \u001b[0mmeilleur_attribut\u001b[0m\u001b[1;33m=\u001b[0m\u001b[0mnum_attribut\u001b[0m\u001b[1;33m\u001b[0m\u001b[1;33m\u001b[0m\u001b[0m\n\u001b[0;32m     11\u001b[0m         \u001b[1;32mreturn\u001b[0m \u001b[0mmeilleur_attribut\u001b[0m\u001b[1;33m,\u001b[0m\u001b[0mmeilleure_val\u001b[0m\u001b[1;33m\u001b[0m\u001b[1;33m\u001b[0m\u001b[0m\n\u001b[1;32m---> 12\u001b[1;33m \u001b[0mprint\u001b[0m\u001b[1;33m(\u001b[0m\u001b[0mmeilleur_attribut_meilleure_valeur\u001b[0m\u001b[1;33m(\u001b[0m\u001b[0mData_train\u001b[0m\u001b[1;33m)\u001b[0m\u001b[1;33m)\u001b[0m\u001b[1;33m\u001b[0m\u001b[1;33m\u001b[0m\u001b[0m\n\u001b[0m",
      "\u001b[1;32m~\\AppData\\Local\\Temp/ipykernel_656/940097335.py\u001b[0m in \u001b[0;36mmeilleur_attribut_meilleure_valeur\u001b[1;34m(S)\u001b[0m\n\u001b[0;32m      4\u001b[0m     \u001b[0mmeilleure_mesure\u001b[0m\u001b[1;33m=\u001b[0m\u001b[1;33m+\u001b[0m\u001b[0minf\u001b[0m\u001b[1;33m\u001b[0m\u001b[1;33m\u001b[0m\u001b[0m\n\u001b[0;32m      5\u001b[0m     \u001b[1;32mfor\u001b[0m \u001b[0mnum_attribut\u001b[0m \u001b[1;32min\u001b[0m \u001b[0mrange\u001b[0m\u001b[1;33m(\u001b[0m\u001b[0mlen\u001b[0m\u001b[1;33m(\u001b[0m\u001b[0mS\u001b[0m\u001b[1;33m[\u001b[0m\u001b[1;36m0\u001b[0m\u001b[1;33m]\u001b[0m\u001b[1;33m)\u001b[0m\u001b[1;33m-\u001b[0m\u001b[1;36m1\u001b[0m\u001b[1;33m)\u001b[0m\u001b[1;33m:\u001b[0m\u001b[1;33m\u001b[0m\u001b[1;33m\u001b[0m\u001b[0m\n\u001b[1;32m----> 6\u001b[1;33m         \u001b[0mmesures\u001b[0m\u001b[1;33m,\u001b[0m\u001b[0mvaleur\u001b[0m\u001b[1;33m=\u001b[0m\u001b[0mMesure_desordre\u001b[0m\u001b[1;33m(\u001b[0m\u001b[0mS\u001b[0m\u001b[1;33m,\u001b[0m\u001b[0mnum_attribut\u001b[0m\u001b[1;33m)\u001b[0m\u001b[1;33m\u001b[0m\u001b[1;33m\u001b[0m\u001b[0m\n\u001b[0m\u001b[0;32m      7\u001b[0m         \u001b[1;32mif\u001b[0m \u001b[0mmesure\u001b[0m\u001b[1;33m<\u001b[0m\u001b[0mmeilleure_mesure\u001b[0m\u001b[1;33m:\u001b[0m\u001b[1;33m\u001b[0m\u001b[1;33m\u001b[0m\u001b[0m\n\u001b[0;32m      8\u001b[0m             \u001b[0mmeilleure_val\u001b[0m\u001b[1;33m=\u001b[0m\u001b[0mvaleur\u001b[0m\u001b[1;33m\u001b[0m\u001b[1;33m\u001b[0m\u001b[0m\n",
      "\u001b[1;32m~\\AppData\\Local\\Temp/ipykernel_656/1572803231.py\u001b[0m in \u001b[0;36mMesure_desordre\u001b[1;34m(S, numero_colon_attribut)\u001b[0m\n\u001b[0;32m     19\u001b[0m     \u001b[0mpGau\u001b[0m\u001b[1;33m=\u001b[0m \u001b[0mlen\u001b[0m\u001b[1;33m(\u001b[0m\u001b[0mGauche\u001b[0m\u001b[1;33m)\u001b[0m\u001b[1;33m/\u001b[0m\u001b[0mlen\u001b[0m\u001b[1;33m(\u001b[0m\u001b[0mS\u001b[0m\u001b[1;33m)\u001b[0m\u001b[1;33m\u001b[0m\u001b[1;33m\u001b[0m\u001b[0m\n\u001b[0;32m     20\u001b[0m     \u001b[0mpDr\u001b[0m\u001b[1;33m=\u001b[0m\u001b[0mlen\u001b[0m\u001b[1;33m(\u001b[0m\u001b[0mDroite\u001b[0m\u001b[1;33m)\u001b[0m\u001b[1;33m/\u001b[0m\u001b[0mlen\u001b[0m\u001b[1;33m(\u001b[0m\u001b[0mS\u001b[0m\u001b[1;33m)\u001b[0m\u001b[1;33m\u001b[0m\u001b[1;33m\u001b[0m\u001b[0m\n\u001b[1;32m---> 21\u001b[1;33m     \u001b[0mmesure\u001b[0m\u001b[1;33m=\u001b[0m \u001b[1;33m(\u001b[0m\u001b[0mpGau\u001b[0m\u001b[1;33m)\u001b[0m \u001b[1;33m*\u001b[0m \u001b[0mGINI\u001b[0m\u001b[1;33m(\u001b[0m\u001b[0mGauche\u001b[0m\u001b[1;33m)\u001b[0m\u001b[1;33m+\u001b[0m \u001b[1;33m(\u001b[0m\u001b[0mpDr\u001b[0m\u001b[1;33m)\u001b[0m \u001b[1;33m*\u001b[0m \u001b[0mGINI\u001b[0m\u001b[1;33m(\u001b[0m\u001b[0mDroite\u001b[0m\u001b[1;33m)\u001b[0m\u001b[1;33m\u001b[0m\u001b[1;33m\u001b[0m\u001b[0m\n\u001b[0m\u001b[0;32m     22\u001b[0m     \u001b[1;32mif\u001b[0m \u001b[0mmesure\u001b[0m \u001b[1;33m<\u001b[0m \u001b[0mBonne_mesure_desordre\u001b[0m\u001b[1;33m:\u001b[0m\u001b[1;33m\u001b[0m\u001b[1;33m\u001b[0m\u001b[0m\n\u001b[0;32m     23\u001b[0m         \u001b[0mBonne_mesure_desordre\u001b[0m\u001b[1;33m=\u001b[0m\u001b[0mmesure\u001b[0m\u001b[1;33m\u001b[0m\u001b[1;33m\u001b[0m\u001b[0m\n",
      "\u001b[1;32m~\\AppData\\Local\\Temp/ipykernel_656/318500586.py\u001b[0m in \u001b[0;36mGINI\u001b[1;34m(S)\u001b[0m\n\u001b[0;32m      6\u001b[0m     \u001b[0ms\u001b[0m\u001b[1;33m=\u001b[0m\u001b[1;36m0\u001b[0m\u001b[1;33m\u001b[0m\u001b[1;33m\u001b[0m\u001b[0m\n\u001b[0;32m      7\u001b[0m     \u001b[1;32mfor\u001b[0m \u001b[0mi\u001b[0m \u001b[1;32min\u001b[0m \u001b[0mrange\u001b[0m\u001b[1;33m(\u001b[0m\u001b[0mk\u001b[0m\u001b[1;33m)\u001b[0m\u001b[1;33m:\u001b[0m\u001b[1;33m\u001b[0m\u001b[1;33m\u001b[0m\u001b[0m\n\u001b[1;32m----> 8\u001b[1;33m         \u001b[0mpi\u001b[0m\u001b[1;33m=\u001b[0m\u001b[0mclonne_des_classes\u001b[0m\u001b[1;33m.\u001b[0m\u001b[0mcount\u001b[0m\u001b[1;33m(\u001b[0m\u001b[0mclasses\u001b[0m\u001b[1;33m[\u001b[0m\u001b[0mi\u001b[0m\u001b[1;33m]\u001b[0m\u001b[1;33m/\u001b[0m\u001b[0mlen\u001b[0m\u001b[1;33m(\u001b[0m\u001b[0mS\u001b[0m\u001b[1;33m[\u001b[0m\u001b[1;33m:\u001b[0m\u001b[1;33m,\u001b[0m\u001b[1;33m-\u001b[0m\u001b[1;36m1\u001b[0m\u001b[1;33m]\u001b[0m\u001b[1;33m)\u001b[0m\u001b[1;33m)\u001b[0m\u001b[1;33m\u001b[0m\u001b[1;33m\u001b[0m\u001b[0m\n\u001b[0m\u001b[0;32m      9\u001b[0m         \u001b[0ms\u001b[0m\u001b[1;33m+=\u001b[0m\u001b[0mpi\u001b[0m\u001b[1;33m**\u001b[0m\u001b[1;36m2\u001b[0m\u001b[1;33m\u001b[0m\u001b[1;33m\u001b[0m\u001b[0m\n\u001b[0;32m     10\u001b[0m     \u001b[1;32mreturn\u001b[0m \u001b[1;36m1\u001b[0m\u001b[1;33m-\u001b[0m\u001b[0ms\u001b[0m\u001b[1;33m\u001b[0m\u001b[1;33m\u001b[0m\u001b[0m\n",
      "\u001b[1;31mTypeError\u001b[0m: unsupported operand type(s) for /: 'str' and 'int'"
     ]
    }
   ],
   "source": [
    "def meilleur_attribut_meilleure_valeur(S):\n",
    "    meilleur_attribut=0\n",
    "    meilleur_val=0\n",
    "    meilleure_mesure=+inf\n",
    "    for num_attribut in range(len(S[0])-1):\n",
    "        mesures,valeur=Mesure_desordre(S,num_attribut)\n",
    "        if mesure<meilleure_mesure:\n",
    "            meilleure_val=valeur\n",
    "            meilleure_mesure=mesure\n",
    "            meilleur_attribut=num_attribut\n",
    "        return meilleur_attribut,meilleure_val\n",
    "print(meilleur_attribut_meilleure_valeur(Data_train))    "
   ]
  },
  {
   "cell_type": "code",
   "execution_count": null,
   "id": "60f30e26",
   "metadata": {},
   "outputs": [],
   "source": [
    "def GINI(S):\n",
    "    S = array(S)\n",
    "    clonne_des_classes = list(S[:, -1])\n",
    "    classes = list(set(S[:, -1]))\n",
    "    k = len(classes)\n",
    "    s = 0\n",
    "    for i in range(k):\n",
    "        pi = clonne_des_classes.count(classes[i]/len(S[:, -1]))\n",
    "        s += pi**2\n",
    "    return 1-s"
   ]
  },
  {
   "cell_type": "code",
   "execution_count": null,
   "id": "0c0bbc78",
   "metadata": {},
   "outputs": [],
   "source": []
  }
 ],
 "metadata": {
  "kernelspec": {
   "display_name": "Python 3 (ipykernel)",
   "language": "python",
   "name": "python3"
  },
  "language_info": {
   "codemirror_mode": {
    "name": "ipython",
    "version": 3
   },
   "file_extension": ".py",
   "mimetype": "text/x-python",
   "name": "python",
   "nbconvert_exporter": "python",
   "pygments_lexer": "ipython3",
   "version": "3.9.7"
  }
 },
 "nbformat": 4,
 "nbformat_minor": 5
}
