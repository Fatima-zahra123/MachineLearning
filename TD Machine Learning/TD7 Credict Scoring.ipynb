{
 "cells": [
  {
   "cell_type": "code",
   "execution_count": 12,
   "id": "ec624e67",
   "metadata": {},
   "outputs": [
    {
     "data": {
      "text/html": [
       "<div>\n",
       "<style scoped>\n",
       "    .dataframe tbody tr th:only-of-type {\n",
       "        vertical-align: middle;\n",
       "    }\n",
       "\n",
       "    .dataframe tbody tr th {\n",
       "        vertical-align: top;\n",
       "    }\n",
       "\n",
       "    .dataframe thead th {\n",
       "        text-align: right;\n",
       "    }\n",
       "</style>\n",
       "<table border=\"1\" class=\"dataframe\">\n",
       "  <thead>\n",
       "    <tr style=\"text-align: right;\">\n",
       "      <th></th>\n",
       "      <th>BAD</th>\n",
       "      <th>LOAN</th>\n",
       "      <th>MORTDUE</th>\n",
       "      <th>VALUE</th>\n",
       "      <th>REASON</th>\n",
       "      <th>JOB</th>\n",
       "      <th>YOJ</th>\n",
       "      <th>DEROG</th>\n",
       "      <th>DELINQ</th>\n",
       "      <th>CLAGE</th>\n",
       "      <th>NINQ</th>\n",
       "      <th>CLNO</th>\n",
       "      <th>DEBTINC</th>\n",
       "    </tr>\n",
       "  </thead>\n",
       "  <tbody>\n",
       "    <tr>\n",
       "      <th>0</th>\n",
       "      <td>1</td>\n",
       "      <td>1100</td>\n",
       "      <td>25860.0</td>\n",
       "      <td>39025.0</td>\n",
       "      <td>HomeImp</td>\n",
       "      <td>Other</td>\n",
       "      <td>10.5</td>\n",
       "      <td>0.0</td>\n",
       "      <td>0.0</td>\n",
       "      <td>94.366667</td>\n",
       "      <td>1.0</td>\n",
       "      <td>9.0</td>\n",
       "      <td>NaN</td>\n",
       "    </tr>\n",
       "    <tr>\n",
       "      <th>1</th>\n",
       "      <td>1</td>\n",
       "      <td>1300</td>\n",
       "      <td>70053.0</td>\n",
       "      <td>68400.0</td>\n",
       "      <td>HomeImp</td>\n",
       "      <td>Other</td>\n",
       "      <td>7.0</td>\n",
       "      <td>0.0</td>\n",
       "      <td>2.0</td>\n",
       "      <td>121.833333</td>\n",
       "      <td>0.0</td>\n",
       "      <td>14.0</td>\n",
       "      <td>NaN</td>\n",
       "    </tr>\n",
       "    <tr>\n",
       "      <th>2</th>\n",
       "      <td>1</td>\n",
       "      <td>1500</td>\n",
       "      <td>13500.0</td>\n",
       "      <td>16700.0</td>\n",
       "      <td>HomeImp</td>\n",
       "      <td>Other</td>\n",
       "      <td>4.0</td>\n",
       "      <td>0.0</td>\n",
       "      <td>0.0</td>\n",
       "      <td>149.466667</td>\n",
       "      <td>1.0</td>\n",
       "      <td>10.0</td>\n",
       "      <td>NaN</td>\n",
       "    </tr>\n",
       "    <tr>\n",
       "      <th>3</th>\n",
       "      <td>1</td>\n",
       "      <td>1500</td>\n",
       "      <td>NaN</td>\n",
       "      <td>NaN</td>\n",
       "      <td>NaN</td>\n",
       "      <td>NaN</td>\n",
       "      <td>NaN</td>\n",
       "      <td>NaN</td>\n",
       "      <td>NaN</td>\n",
       "      <td>NaN</td>\n",
       "      <td>NaN</td>\n",
       "      <td>NaN</td>\n",
       "      <td>NaN</td>\n",
       "    </tr>\n",
       "    <tr>\n",
       "      <th>4</th>\n",
       "      <td>0</td>\n",
       "      <td>1700</td>\n",
       "      <td>97800.0</td>\n",
       "      <td>112000.0</td>\n",
       "      <td>HomeImp</td>\n",
       "      <td>Office</td>\n",
       "      <td>3.0</td>\n",
       "      <td>0.0</td>\n",
       "      <td>0.0</td>\n",
       "      <td>93.333333</td>\n",
       "      <td>0.0</td>\n",
       "      <td>14.0</td>\n",
       "      <td>NaN</td>\n",
       "    </tr>\n",
       "    <tr>\n",
       "      <th>5</th>\n",
       "      <td>1</td>\n",
       "      <td>1700</td>\n",
       "      <td>30548.0</td>\n",
       "      <td>40320.0</td>\n",
       "      <td>HomeImp</td>\n",
       "      <td>Other</td>\n",
       "      <td>9.0</td>\n",
       "      <td>0.0</td>\n",
       "      <td>0.0</td>\n",
       "      <td>101.466002</td>\n",
       "      <td>1.0</td>\n",
       "      <td>8.0</td>\n",
       "      <td>37.113614</td>\n",
       "    </tr>\n",
       "    <tr>\n",
       "      <th>6</th>\n",
       "      <td>1</td>\n",
       "      <td>1800</td>\n",
       "      <td>48649.0</td>\n",
       "      <td>57037.0</td>\n",
       "      <td>HomeImp</td>\n",
       "      <td>Other</td>\n",
       "      <td>5.0</td>\n",
       "      <td>3.0</td>\n",
       "      <td>2.0</td>\n",
       "      <td>77.100000</td>\n",
       "      <td>1.0</td>\n",
       "      <td>17.0</td>\n",
       "      <td>NaN</td>\n",
       "    </tr>\n",
       "    <tr>\n",
       "      <th>7</th>\n",
       "      <td>1</td>\n",
       "      <td>1800</td>\n",
       "      <td>28502.0</td>\n",
       "      <td>43034.0</td>\n",
       "      <td>HomeImp</td>\n",
       "      <td>Other</td>\n",
       "      <td>11.0</td>\n",
       "      <td>0.0</td>\n",
       "      <td>0.0</td>\n",
       "      <td>88.766030</td>\n",
       "      <td>0.0</td>\n",
       "      <td>8.0</td>\n",
       "      <td>36.884894</td>\n",
       "    </tr>\n",
       "    <tr>\n",
       "      <th>8</th>\n",
       "      <td>1</td>\n",
       "      <td>2000</td>\n",
       "      <td>32700.0</td>\n",
       "      <td>46740.0</td>\n",
       "      <td>HomeImp</td>\n",
       "      <td>Other</td>\n",
       "      <td>3.0</td>\n",
       "      <td>0.0</td>\n",
       "      <td>2.0</td>\n",
       "      <td>216.933333</td>\n",
       "      <td>1.0</td>\n",
       "      <td>12.0</td>\n",
       "      <td>NaN</td>\n",
       "    </tr>\n",
       "    <tr>\n",
       "      <th>9</th>\n",
       "      <td>1</td>\n",
       "      <td>2000</td>\n",
       "      <td>NaN</td>\n",
       "      <td>62250.0</td>\n",
       "      <td>HomeImp</td>\n",
       "      <td>Sales</td>\n",
       "      <td>16.0</td>\n",
       "      <td>0.0</td>\n",
       "      <td>0.0</td>\n",
       "      <td>115.800000</td>\n",
       "      <td>0.0</td>\n",
       "      <td>13.0</td>\n",
       "      <td>NaN</td>\n",
       "    </tr>\n",
       "  </tbody>\n",
       "</table>\n",
       "</div>"
      ],
      "text/plain": [
       "   BAD  LOAN  MORTDUE     VALUE   REASON     JOB   YOJ  DEROG  DELINQ  \\\n",
       "0    1  1100  25860.0   39025.0  HomeImp   Other  10.5    0.0     0.0   \n",
       "1    1  1300  70053.0   68400.0  HomeImp   Other   7.0    0.0     2.0   \n",
       "2    1  1500  13500.0   16700.0  HomeImp   Other   4.0    0.0     0.0   \n",
       "3    1  1500      NaN       NaN      NaN     NaN   NaN    NaN     NaN   \n",
       "4    0  1700  97800.0  112000.0  HomeImp  Office   3.0    0.0     0.0   \n",
       "5    1  1700  30548.0   40320.0  HomeImp   Other   9.0    0.0     0.0   \n",
       "6    1  1800  48649.0   57037.0  HomeImp   Other   5.0    3.0     2.0   \n",
       "7    1  1800  28502.0   43034.0  HomeImp   Other  11.0    0.0     0.0   \n",
       "8    1  2000  32700.0   46740.0  HomeImp   Other   3.0    0.0     2.0   \n",
       "9    1  2000      NaN   62250.0  HomeImp   Sales  16.0    0.0     0.0   \n",
       "\n",
       "        CLAGE  NINQ  CLNO    DEBTINC  \n",
       "0   94.366667   1.0   9.0        NaN  \n",
       "1  121.833333   0.0  14.0        NaN  \n",
       "2  149.466667   1.0  10.0        NaN  \n",
       "3         NaN   NaN   NaN        NaN  \n",
       "4   93.333333   0.0  14.0        NaN  \n",
       "5  101.466002   1.0   8.0  37.113614  \n",
       "6   77.100000   1.0  17.0        NaN  \n",
       "7   88.766030   0.0   8.0  36.884894  \n",
       "8  216.933333   1.0  12.0        NaN  \n",
       "9  115.800000   0.0  13.0        NaN  "
      ]
     },
     "execution_count": 12,
     "metadata": {},
     "output_type": "execute_result"
    }
   ],
   "source": [
    "from numpy import*\n",
    "import pandas as pd\n",
    "df=pd.read_csv('C:\\CreditScoring.csv')\n",
    "#columnNames = pd.Series(df.columns.values)\n",
    "df.head(10)\n"
   ]
  },
  {
   "cell_type": "code",
   "execution_count": 13,
   "id": "da089215",
   "metadata": {},
   "outputs": [
    {
     "name": "stdout",
     "output_type": "stream",
     "text": [
      "le nombre de données est: 5960\n",
      "le nombre de features 'les attributs' est: 13\n"
     ]
    },
    {
     "data": {
      "text/plain": [
       "BAD          int64\n",
       "LOAN         int64\n",
       "MORTDUE    float64\n",
       "VALUE      float64\n",
       "REASON      object\n",
       "JOB         object\n",
       "YOJ        float64\n",
       "DEROG      float64\n",
       "DELINQ     float64\n",
       "CLAGE      float64\n",
       "NINQ       float64\n",
       "CLNO       float64\n",
       "DEBTINC    float64\n",
       "dtype: object"
      ]
     },
     "execution_count": 13,
     "metadata": {},
     "output_type": "execute_result"
    }
   ],
   "source": [
    "print(\"le nombre de données est:\",df.shape[0])\n",
    "print(\"le nombre de features 'les attributs' est:\",df.shape[1])\n",
    "\n",
    "data_types=df.dtypes\n",
    "data_types"
   ]
  },
  {
   "cell_type": "code",
   "execution_count": 14,
   "id": "dd32c6ac",
   "metadata": {},
   "outputs": [
    {
     "name": "stdout",
     "output_type": "stream",
     "text": [
      "L'entropie de l'ensemble = 12.54109661535006\n"
     ]
    }
   ],
   "source": [
    "#df=df.to_numpy()\n",
    "def Entropie(S):\n",
    "    S=array(S)# important\n",
    "    classes_distinctes=set(S[:,-1]) #supprimer les redandances dans la derniere colonne pour determiner \n",
    "    classes=list(S[:,-1])\n",
    "    #print(\"classes_distinctes:\",classes_distinctes)\n",
    "    #print(\"classes:\",classes)\n",
    "    \n",
    "    s=0\n",
    "    for c in classes_distinctes:\n",
    "        p=classes.count(c)/len(classes) # calcul du portion\n",
    "        s+=p*log2(p)\n",
    "    return(-1.0*s)\n",
    "print(\"L'entropie de l'ensemble =\",Entropie(df))"
   ]
  },
  {
   "cell_type": "code",
   "execution_count": 15,
   "id": "79323bc4",
   "metadata": {},
   "outputs": [],
   "source": [
    "def Gain_d_information(S,numero_colon_attribut):\n",
    "    classes=list(set(S[:,-1]))\n",
    "    valeurs_attribut=list(set(S[:,numero_colon_attribut]))\n",
    "    #print(valeurs_attribut)\n",
    "    Si= [ []for i in range(len(valeurs_attribut))] #inistialiser la var Si par de deux sous ensemble vides []\n",
    "    #print('Si 1:',Si)\n",
    "    for e in S:\n",
    "        e=list(e)\n",
    "        #print('e :',e)\n",
    "        val_attribut_pour_e=e[numero_colon_attribut]\n",
    "        #print('val atri pour e :',val_attribut_pour_e)\n",
    "        numero_sous_ensemble=valeurs_attribut.index(val_attribut_pour_e)\n",
    "        #print('numero_sous_ensemble=',numero_sous_ensemble)\n",
    "        Si[numero_sous_ensemble].append(e)\n",
    "    Si=array(Si); som=0\n",
    "    #print('Si 2:',Si)\n",
    "    for sous_ensemble in Si:\n",
    "        som+=(len(sous_ensemble)/len(S))*Entropie(sous_ensemble)\n",
    "    return(Entropie(S)-som) "
   ]
  },
  {
   "cell_type": "code",
   "execution_count": 52,
   "id": "6be5d9a3",
   "metadata": {},
   "outputs": [
    {
     "name": "stderr",
     "output_type": "stream",
     "text": [
      "C:\\Users\\T460s\\AppData\\Local\\Temp/ipykernel_13520/4075743298.py:15: VisibleDeprecationWarning: Creating an ndarray from ragged nested sequences (which is a list-or-tuple of lists-or-tuples-or ndarrays with different lengths or shapes) is deprecated. If you meant to do this, you must specify 'dtype=object' when creating the ndarray.\n",
      "  Si=array(Si); som=0\n"
     ]
    },
    {
     "name": "stdout",
     "output_type": "stream",
     "text": [
      "le gain de l'attribut BAD= 2.7084554045787836\n",
      "le gain de l'attribut LOAN= 9.027683157387035\n"
     ]
    },
    {
     "name": "stderr",
     "output_type": "stream",
     "text": [
      "C:\\Users\\T460s\\AppData\\Local\\Temp/ipykernel_13520/3074136260.py:12: RuntimeWarning: divide by zero encountered in log2\n",
      "  s+=p*log2(p)\n",
      "C:\\Users\\T460s\\AppData\\Local\\Temp/ipykernel_13520/3074136260.py:12: RuntimeWarning: invalid value encountered in double_scalars\n",
      "  s+=p*log2(p)\n"
     ]
    },
    {
     "name": "stdout",
     "output_type": "stream",
     "text": [
      "le gain de l'attribut MORTUDE= nan\n",
      "le gain de l'attribut VALUE= nan\n",
      "le gain de l'attribut REASON= 3.0579134594399893\n",
      "le gain de l'attribut JOB= 3.9930705567867264\n",
      "le gain de l'attribut YOJ= nan\n",
      "le gain de l'attribut DEROG= nan\n",
      "le gain de l'attribut DELINQ= nan\n",
      "le gain de l'attribut GLAGE= nan\n",
      "le gain de l'attribut NINQ= nan\n",
      "le gain de l'attribut CLNO= nan\n",
      "le gain de l'attribut DEBTINC= 12.54109661535006\n"
     ]
    }
   ],
   "source": [
    "print(\"le gain de l'attribut BAD=\",Gain_d_information(df,0)) \n",
    "print(\"le gain de l'attribut LOAN=\",Gain_d_information(df,1)) \n",
    "print(\"le gain de l'attribut MORTUDE=\",Gain_d_information(df,2)) \n",
    "print(\"le gain de l'attribut VALUE=\",Gain_d_information(df,3)) \n",
    "print(\"le gain de l'attribut REASON=\",Gain_d_information(df,4)) \n",
    "print(\"le gain de l'attribut JOB=\",Gain_d_information(df,5)) \n",
    "print(\"le gain de l'attribut YOJ=\",Gain_d_information(df,6)) \n",
    "print(\"le gain de l'attribut DEROG=\",Gain_d_information(df,7)) \n",
    "print(\"le gain de l'attribut DELINQ=\",Gain_d_information(df,8)) \n",
    "print(\"le gain de l'attribut GLAGE=\",Gain_d_information(df,9)) \n",
    "print(\"le gain de l'attribut NINQ=\",Gain_d_information(df,10)) \n",
    "print(\"le gain de l'attribut CLNO=\",Gain_d_information(df,11)) \n",
    "print(\"le gain de l'attribut DEBTINC=\",Gain_d_information(df,12)) \n",
    "\n"
   ]
  },
  {
   "cell_type": "code",
   "execution_count": 34,
   "id": "687bdcb7",
   "metadata": {
    "scrolled": false
   },
   "outputs": [
    {
     "data": {
      "text/plain": [
       "(3364, 13)"
      ]
     },
     "execution_count": 34,
     "metadata": {},
     "output_type": "execute_result"
    }
   ],
   "source": [
    "\n",
    "df.dropna(axis=0, how='any', inplace=True)\n",
    "df.head(10)\n",
    "df.shape\n"
   ]
  },
  {
   "cell_type": "code",
   "execution_count": 36,
   "id": "5c59c0a8",
   "metadata": {},
   "outputs": [],
   "source": [
    "from sklearn.model_selection import train_test_split\n",
    "from sklearn.metrics import accuracy_score\n",
    "X=df.drop(columns=[\"BAD\",\"JOB\",\"REASON\"])\n",
    "y=df[\"BAD\"]\n",
    "x_train,x_test,y_train,y_test=train_test_split(X,y,test_size=.33,random_state=1)"
   ]
  },
  {
   "cell_type": "code",
   "execution_count": 37,
   "id": "2b582679",
   "metadata": {},
   "outputs": [
    {
     "name": "stdout",
     "output_type": "stream",
     "text": [
      "accuracy score : 0.9225922592259226\n"
     ]
    }
   ],
   "source": [
    "from sklearn.tree import DecisionTreeClassifier\n",
    "model=DecisionTreeClassifier()\n",
    "model.fit(x_train,y_train)\n",
    "y_predict=model.predict(x_test)\n",
    "acc=accuracy_score(y_test,y_predict)\n",
    "print(\"accuracy score :\",acc)"
   ]
  },
  {
   "cell_type": "code",
   "execution_count": 40,
   "id": "fdcd69fb",
   "metadata": {},
   "outputs": [],
   "source": [
    "#from sklearn.externals.six import StringIO\n",
    "from IPython.display import Image\n",
    "from sklearn.tree import export_graphviz\n",
    "#import pydotplus"
   ]
  },
  {
   "cell_type": "code",
   "execution_count": null,
   "id": "8c851b95",
   "metadata": {},
   "outputs": [],
   "source": [
    "dot_data=StringIO()\n",
    "export_graphviz()"
   ]
  }
 ],
 "metadata": {
  "kernelspec": {
   "display_name": "Python 3 (ipykernel)",
   "language": "python",
   "name": "python3"
  },
  "language_info": {
   "codemirror_mode": {
    "name": "ipython",
    "version": 3
   },
   "file_extension": ".py",
   "mimetype": "text/x-python",
   "name": "python",
   "nbconvert_exporter": "python",
   "pygments_lexer": "ipython3",
   "version": "3.9.7"
  }
 },
 "nbformat": 4,
 "nbformat_minor": 5
}
