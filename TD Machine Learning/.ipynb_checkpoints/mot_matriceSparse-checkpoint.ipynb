{
 "cells": [
  {
   "cell_type": "code",
   "execution_count": 1,
   "id": "04a6aba8-5ec2-467c-ac7d-29ebff05493d",
   "metadata": {},
   "outputs": [],
   "source": [
    "#bags of words\n",
    "from sklearn.feature_extraction.text import CountVectorizer\n",
    "texte=[\"La vie est douce\",\"La vie est tranquille, est belle, est douce\",\"Bonjour je mappelle nisrine bajja\"]\n",
    "vect= CountVectorizer() #transform a text into vector c'est un constructeur"
   ]
  },
  {
   "cell_type": "code",
   "execution_count": 2,
   "id": "35f99575-a71e-417b-9ff4-ee8f65fd2857",
   "metadata": {},
   "outputs": [
    {
     "name": "stdout",
     "output_type": "stream",
     "text": [
      "  (0, 6)\t1\n",
      "  (0, 10)\t1\n",
      "  (0, 4)\t1\n",
      "  (0, 3)\t1\n",
      "  (1, 6)\t1\n",
      "  (1, 10)\t1\n",
      "  (1, 4)\t3\n",
      "  (1, 3)\t1\n",
      "  (1, 9)\t1\n",
      "  (1, 1)\t1\n",
      "  (2, 2)\t1\n",
      "  (2, 5)\t1\n",
      "  (2, 7)\t1\n",
      "  (2, 8)\t1\n",
      "  (2, 0)\t1\n"
     ]
    }
   ],
   "source": [
    "T= vect.fit_transform(texte) #la troisieme valeur est l'occurence de ce mot dans le text\n",
    "#(le texte, l'ordre alpha)\n",
    "print(T)"
   ]
  },
  {
   "cell_type": "code",
   "execution_count": 3,
   "id": "545320a8-536d-4b27-b034-833692263322",
   "metadata": {},
   "outputs": [
    {
     "name": "stdout",
     "output_type": "stream",
     "text": [
      "dictionnaire_des_mots : {'la': 6, 'vie': 10, 'est': 4, 'douce': 3, 'tranquille': 9, 'belle': 1, 'bonjour': 2, 'je': 5, 'mappelle': 7, 'nisrine': 8, 'bajja': 0}\n"
     ]
    }
   ],
   "source": [
    "dictionnaire_des_mots=vect.vocabulary_\n",
    "print(\"dictionnaire_des_mots :\",dictionnaire_des_mots)\n"
   ]
  },
  {
   "cell_type": "code",
   "execution_count": 4,
   "id": "98c30336-42fd-4147-b0fb-3a94fb4a4bfe",
   "metadata": {},
   "outputs": [
    {
     "name": "stdout",
     "output_type": "stream",
     "text": [
      "liste_des_mots : ['la', 'vie', 'est', 'douce', 'tranquille', 'belle', 'bonjour', 'je', 'mappelle', 'nisrine', 'bajja']\n"
     ]
    }
   ],
   "source": [
    "liste_des_mots=list(dictionnaire_des_mots.keys())#affiche que les keys et non values\n",
    "print(\"liste_des_mots :\",liste_des_mots)\n"
   ]
  },
  {
   "cell_type": "code",
   "execution_count": 5,
   "id": "fbb87313-054c-44e5-a46d-b1056fbe9dbb",
   "metadata": {},
   "outputs": [
    {
     "name": "stdout",
     "output_type": "stream",
     "text": [
      "Matrice_sparse_correspondante :\n",
      " [[0 0 0 1 1 0 1 0 0 0 1]\n",
      " [0 1 0 1 3 0 1 0 0 1 1]\n",
      " [1 0 1 0 0 1 0 1 1 0 0]]\n"
     ]
    }
   ],
   "source": [
    "Matrice_sparse_correspondante= T.toarray()\n",
    "#a b c d ... et l'occurence de chacun\n",
    "print(\"Matrice_sparse_correspondante :\\n\",Matrice_sparse_correspondante)#si le mot existe on donne son occurence si il n'existe pas on donne 0"
   ]
  },
  {
   "cell_type": "code",
   "execution_count": null,
   "id": "5b6ef54e-2cca-4b16-9f09-b549cd389155",
   "metadata": {},
   "outputs": [],
   "source": []
  },
  {
   "cell_type": "code",
   "execution_count": null,
   "id": "4fb3e60f-03d3-43d6-a839-4923aaf40dea",
   "metadata": {},
   "outputs": [],
   "source": []
  }
 ],
 "metadata": {
  "kernelspec": {
   "display_name": "Python 3 (ipykernel)",
   "language": "python",
   "name": "python3"
  },
  "language_info": {
   "codemirror_mode": {
    "name": "ipython",
    "version": 3
   },
   "file_extension": ".py",
   "mimetype": "text/x-python",
   "name": "python",
   "nbconvert_exporter": "python",
   "pygments_lexer": "ipython3",
   "version": "3.9.7"
  }
 },
 "nbformat": 4,
 "nbformat_minor": 5
}
