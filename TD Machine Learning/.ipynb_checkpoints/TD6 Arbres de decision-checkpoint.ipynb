{
 "cells": [
  {
   "cell_type": "code",
   "execution_count": 3,
   "id": "4d32dce2",
   "metadata": {},
   "outputs": [
    {
     "name": "stdout",
     "output_type": "stream",
     "text": [
      "[[0 1 'C1']\n",
      " [0 0 'C1']\n",
      " [1 1 'C2']\n",
      " [1 0 'C2']]\n",
      "classes_distinctes: {'C1', 'C2'}\n",
      "classes: ['C1', 'C1', 'C2', 'C2']\n",
      "1.0\n"
     ]
    }
   ],
   "source": [
    "from numpy import*\n",
    "import pandas\n",
    "df = pandas.DataFrame([[0,1,'C1'],[0,0,'C1'],[1,1,'C2'],[1,0,'C2']],columns=['A','B','Classes'])\n",
    "df=df.to_numpy()\n",
    "print(df)\n",
    "def Entropie(S):\n",
    "    S=array(S)# important\n",
    "    classes_distinctes=set(S[:,-1]) #supprimer les redandances dans la derniere colonne pour determiner \n",
    "    classes=list(S[:,-1])\n",
    "    print(\"classes_distinctes:\",classes_distinctes)\n",
    "    print(\"classes:\",classes)\n",
    "    \n",
    "    s=0\n",
    "    for c in classes_distinctes:\n",
    "        p=classes.count(c)/len(classes) # calcul du portion\n",
    "        s+=p*log2(p)\n",
    "    return(-1.0*s)\n",
    "print(Entropie(df))\n"
   ]
  },
  {
   "cell_type": "code",
   "execution_count": 6,
   "id": "86150571",
   "metadata": {},
   "outputs": [],
   "source": [
    "def Gain_d_information(S,numero_colon_attribut):\n",
    "    classes=list(set(S[:,-1]))\n",
    "    valeurs_attribut=list(set(S[:,numero_colon_attribut]))\n",
    "    #print(valeurs_attribut)\n",
    "    Si=[[]for i in range(len(valeurs_attribut))]\n",
    "    for e in S:\n",
    "        e=list(e)\n",
    "        print('e :',e)\n",
    "        val_attribut_pour_e=e[numero_colon_attribut]\n",
    "        print('val atri pour e :',val_attribut_pour_e)\n",
    "        numero_sous_ensemble=valeurs_attribut.index(val_attribut_pour_e)\n",
    "        Si[numero_sous_ensemble].append(e)\n",
    "    Si=array(Si); som=0\n",
    "    for sous_ensemble in Si:\n",
    "        som+=(len(sous_ensemble)/len(S))*Entropie(sous_ensemble)\n",
    "    return(Entropie(S)-som)    "
   ]
  },
  {
   "cell_type": "code",
   "execution_count": 7,
   "id": "77864b47",
   "metadata": {},
   "outputs": [
    {
     "name": "stdout",
     "output_type": "stream",
     "text": [
      "e : [0, 1, 'C1']\n",
      "val atri pour e : 0\n",
      "e : [0, 0, 'C1']\n",
      "val atri pour e : 0\n",
      "e : [1, 1, 'C2']\n",
      "val atri pour e : 1\n",
      "e : [1, 0, 'C2']\n",
      "val atri pour e : 1\n",
      "classes_distinctes: {'C1'}\n",
      "classes: ['C1', 'C1']\n",
      "classes_distinctes: {'C2'}\n",
      "classes: ['C2', 'C2']\n",
      "classes_distinctes: {'C1', 'C2'}\n",
      "classes: ['C1', 'C1', 'C2', 'C2']\n",
      "le gain de l'attribut A = 1.0\n",
      "e : [0, 1, 'C1']\n",
      "val atri pour e : 1\n",
      "e : [0, 0, 'C1']\n",
      "val atri pour e : 0\n",
      "e : [1, 1, 'C2']\n",
      "val atri pour e : 1\n",
      "e : [1, 0, 'C2']\n",
      "val atri pour e : 0\n",
      "classes_distinctes: {'C1', 'C2'}\n",
      "classes: ['C1', 'C2']\n",
      "classes_distinctes: {'C1', 'C2'}\n",
      "classes: ['C1', 'C2']\n",
      "classes_distinctes: {'C1', 'C2'}\n",
      "classes: ['C1', 'C1', 'C2', 'C2']\n",
      "le gain de l'attribut B = 0.0\n"
     ]
    }
   ],
   "source": [
    "print(\"le gain de l'attribut A =\",Gain_d_information(df,0)) \n",
    "print(\"le gain de l'attribut B =\",Gain_d_information(df,1))"
   ]
  },
  {
   "cell_type": "code",
   "execution_count": 42,
   "id": "f768b63c",
   "metadata": {},
   "outputs": [
    {
     "name": "stdout",
     "output_type": "stream",
     "text": [
      "0.02904940554533142\n",
      "0.8\n"
     ]
    },
    {
     "name": "stderr",
     "output_type": "stream",
     "text": [
      "C:\\Users\\T460s\\AppData\\Local\\Temp/ipykernel_12712/1843087654.py:11: VisibleDeprecationWarning: Creating an ndarray from ragged nested sequences (which is a list-or-tuple of lists-or-tuples-or ndarrays with different lengths or shapes) is deprecated. If you meant to do this, you must specify 'dtype=object' when creating the ndarray.\n",
      "  Si=array(Si); som=0\n"
     ]
    }
   ],
   "source": [
    "from numpy import *\n",
    "import pandas\n",
    "fich = pandas.read_csv('C:\\\\donneesAD.csv',sep =\";\")\n",
    "Data_train = fich.iloc[:,:]\n",
    "Data_train = Data_train.to_numpy()\n",
    "print(Gain_d_information(Data_train,0)) #gain de a\n",
    "print(Gain_d_information(Data_train,1)) #gain de b"
   ]
  },
  {
   "cell_type": "code",
   "execution_count": null,
   "id": "3143e3da",
   "metadata": {},
   "outputs": [],
   "source": []
  },
  {
   "cell_type": "code",
   "execution_count": null,
   "id": "a4bef7d5",
   "metadata": {},
   "outputs": [],
   "source": []
  }
 ],
 "metadata": {
  "kernelspec": {
   "display_name": "Python 3 (ipykernel)",
   "language": "python",
   "name": "python3"
  },
  "language_info": {
   "codemirror_mode": {
    "name": "ipython",
    "version": 3
   },
   "file_extension": ".py",
   "mimetype": "text/x-python",
   "name": "python",
   "nbconvert_exporter": "python",
   "pygments_lexer": "ipython3",
   "version": "3.9.7"
  }
 },
 "nbformat": 4,
 "nbformat_minor": 5
}
