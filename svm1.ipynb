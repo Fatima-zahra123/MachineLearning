{
 "cells": [
  {
   "cell_type": "code",
   "execution_count": null,
   "id": "cbec7ed7-963d-4c86-89ca-346a1f2120f6",
   "metadata": {},
   "outputs": [],
   "source": [
    "#svm modele lineaire\n",
    "#pour le modele lineairement separable"
   ]
  },
  {
   "cell_type": "code",
   "execution_count": 14,
   "id": "fa191adb-91db-4ff9-8708-b4472e67449d",
   "metadata": {},
   "outputs": [
    {
     "name": "stdout",
     "output_type": "stream",
     "text": [
      "[[ 1  3 -1]\n",
      " [ 2  1 -1]\n",
      " [ 4  5 -1]\n",
      " [ 6  9 -1]\n",
      " [ 8  7 -1]\n",
      " [ 5  1  1]\n",
      " [ 7  1  1]\n",
      " [ 9  4  1]\n",
      " [12  7  1]\n",
      " [13  6  1]]\n",
      "x :  [[ 1  3]\n",
      " [ 2  1]\n",
      " [ 4  5]\n",
      " [ 6  9]\n",
      " [ 8  7]\n",
      " [ 5  1]\n",
      " [ 7  1]\n",
      " [ 9  4]\n",
      " [12  7]\n",
      " [13  6]]\n",
      "y:  [-1 -1 -1 -1 -1  1  1  1  1  1]\n"
     ]
    },
    {
     "data": {
      "image/png": "[encoded data removed]",
      "text/plain": [
       "<Figure size 432x288 with 1 Axes>"
      ]
     },
     "metadata": {
      "needs_background": "light"
     },
     "output_type": "display_data"
    },
    {
     "name": "stdout",
     "output_type": "stream",
     "text": [
      "le score est :  1.0\n",
      "les coefficients des betas sont:  [-1.5553672487680952, 0.6666017503309343, -0.7776943194015515]\n"
     ]
    }
   ],
   "source": [
    "\n",
    "import pandas as pd; \n",
    "from numpy import *\n",
    "import matplotlib.pyplot as plt\n",
    "from sklearn.metrics import confusion_matrix\n",
    "\n",
    "donnees=pd.read_csv(\"/Users/mac/Downloads/pointsSVM.csv\",sep=';')\n",
    "#print(donnees)\n",
    "donnees=array(donnees)\n",
    "print(donnees)\n",
    "X=donnees[:,0:2]\n",
    "print(\"x : \",X)\n",
    "y=donnees[:,2]\n",
    "print(\"y: \",y)\n",
    "axes = plt.axes() \n",
    "axes.grid()\n",
    "plt.scatter(X[y ==+1][:, 0], X[y ==+1][:, 1], color='r') #pour les positifs\n",
    "plt.scatter(X[y ==-1][:, 0], X[y == -1][:, 1], color='b') #pour les negatifs\n",
    "plt.show()\n",
    "def f(X, Beta): #pour la fonction f(x)\n",
    "    return Beta[0]+sum(X.T*Beta[1:])\n",
    "\n",
    "def classer (X,Beta): #retourne le signe de f(x)\n",
    "    return int(sign(f(X,Beta)))\n",
    "\n",
    "from sklearn.svm import LinearSVC, SVC\n",
    "#pour le svm de classification\n",
    "lsvm = LinearSVC(C=10000); \n",
    "X_train=donnees[:,0:2] #pour les x\n",
    "y_train=donnees[:,2] #pour les y\n",
    "lsvm.fit(X_train, y_train); \n",
    "score=lsvm.score(X_train, y_train)\n",
    "print(\"le score est : \",score); \n",
    "Beta=list(lsvm.intercept_)+list(lsvm.coef_[0]) #pour trouver les coefficients beta\n",
    "print(\"les coefficients des betas sont: \",Beta)\n"
   ]
  },
  {
   "cell_type": "code",
   "execution_count": null,
   "id": "02152b17-f537-4e37-84de-ab30e0e21dd5",
   "metadata": {},
   "outputs": [],
   "source": [
    "#pour tracer les droites de separation"
   ]
  },
  {
   "cell_type": "code",
   "execution_count": 24,
   "id": "346f3a99-5508-4afb-b21e-f7c67a76af83",
   "metadata": {},
   "outputs": [
    {
     "data": {
      "image/png": "[encoded data removed]",
      "text/plain": [
       "<Figure size 432x288 with 1 Axes>"
      ]
     },
     "metadata": {
      "needs_background": "light"
     },
     "output_type": "display_data"
    },
    {
     "name": "stdout",
     "output_type": "stream",
     "text": [
      "[-1.5553672487680952, 0.6666017503309343, -0.7776943194015515]\n",
      "[5,1]==› 0.9999471834850244\n",
      "[2,1] -0.9998580675077782\n",
      "[6,9]==› -4.555005621396454\n",
      "[12,2] 5.666159435801564\n"
     ]
    }
   ],
   "source": [
    "axes = plt.axes()\n",
    "axes.grid()\n",
    "plt.scatter(X[y ==+1][:, 0], X[y ==+1][:, 1], color='r')\n",
    "plt.scatter(X[y ==-1][:, 0], X[y == -1][:, 1], color='b')\n",
    "Bleu=[] #pour la droite bleu\n",
    "Rouge=[] #pour la droite rouge\n",
    "milieu=[] #pour la droite verte\n",
    "for abscisseX in range(1,13): #f(x)=-0.777*X2 + 0.666*X1 - 1.555\n",
    "    y=-1.0*(Beta[0]+Beta[1]*abscisseX+1)/Beta[2]\n",
    "    Bleu+=[y]\n",
    "    y=-1.0*(Beta[0]+Beta[1]*abscisseX-1)/Beta[2]\n",
    "    Rouge+=[y]\n",
    "    y=-1.0*(Beta[0]+Beta[1]*abscisseX)/Beta[2]\n",
    "    milieu+=[y]\n",
    "plt.plot(arange(1,13),Bleu,color='b')\n",
    "plt.plot(arange(1,13), Rouge, color='r')\n",
    "plt.plot(arange(1,13),milieu,color='g')\n",
    "plt.show()\n",
    "print(Beta)\n",
    "print('[5,1]==›',f(array([5,1]),Beta));\n",
    "print('[2,1]',f(array([2,1]),Beta))\n",
    "print('[6,9]==›',f(array([6,9]),Beta));\n",
    "print('[12,2]',f(array([12,1]),Beta))"
   ]
  },
  {
   "cell_type": "code",
   "execution_count": null,
   "id": "60cb8432-5709-424d-a2ca-3846cbed29d4",
   "metadata": {},
   "outputs": [],
   "source": [
    "#pour le modele non lineairement separable \n",
    "\n",
    "#SVC(kernel='linear') <==> LinearSVC\n",
    "\n",
    "#SVC(C=1000) <==> NuSVC(auto='gamma')\n",
    "\n",
    "#le C doit etre superieure\n",
    "\n",
    "#gamma doit etre grande pour prendre en cpnsideration tous les points de donnees"
   ]
  },
  {
   "cell_type": "code",
   "execution_count": 42,
   "id": "b2af4ecf-5152-448f-93b5-f7a8f9e6ad65",
   "metadata": {},
   "outputs": [
    {
     "name": "stdout",
     "output_type": "stream",
     "text": [
      "pour le modele svc\n",
      "1.0\n",
      "pour le model nusvc\n",
      "1.0\n",
      "pour le modele linearSVC\n",
      "0.6\n",
      "[0.5673110108984909, 0.05833850204411373, -0.35945811503438196]\n"
     ]
    },
    {
     "name": "stderr",
     "output_type": "stream",
     "text": [
      "/Users/mac/opt/anaconda3/lib/python3.9/site-packages/sklearn/svm/_base.py:985: ConvergenceWarning: Liblinear failed to converge, increase the number of iterations.\n",
      "  warnings.warn(\"Liblinear failed to converge, increase \"\n"
     ]
    },
    {
     "data": {
      "image/png": "[encoded data removed]",
      "text/plain": [
       "<Figure size 432x288 with 1 Axes>"
      ]
     },
     "metadata": {
      "needs_background": "light"
     },
     "output_type": "display_data"
    }
   ],
   "source": [
    "import pandas as pd\n",
    "from numpy import *\n",
    "import matplotlib.pyplot as plt\n",
    "\n",
    "donnees= pd. read_csv (\"/Users/mac/Downloads/pointsSVM2.csv\", sep=';')\n",
    "donnees=array(donnees)\n",
    "#print(donnees)\n",
    "x=donnees[:,0:2] #les 2 colonnes\n",
    "y=donnees[:,2] #la 3 colonne\n",
    "axes= plt.axes()\n",
    "axes.grid()\n",
    "plt.scatter ( x[y ==+1][:, 0], x[y ==+1][:, 1], color='r') #rouge +\n",
    "plt.scatter(x[y ==-1][:, 0], x[y == -1][:, 1], color='b') #bleu -\n",
    "\n",
    "def f(x,Beta):\n",
    "    return Beta [0]+sum(X. T*Beta[1:])\n",
    "\n",
    "def classer (X, Beta): \n",
    "    return int (sign (f(x, Beta))) \n",
    "\n",
    "from sklearn.svm import LinearSVC, SVC, NuSVC\n",
    "\n",
    "x_tr=donnees[:,0: 2]\n",
    "y_tr=donnees [:,2]\n",
    "\n",
    "print(\"pour le modele svc\")\n",
    "lsvm=SVC(gamma='auto')\n",
    "lsvm.fit(x_tr, y_tr)\n",
    "score = lsvm. score (x_tr, y_tr) \n",
    "print (score)\n",
    "\n",
    "print(\"pour le model nusvc\")\n",
    "lsvm= NuSVC (gamma='auto')\n",
    "lsvm.fit (x_tr, y_tr)\n",
    "score = lsvm.score(x_tr, y_tr) \n",
    "print(score)\n",
    "\n",
    "print(\"pour le modele linearSVC\")\n",
    "lsvm= LinearSVC(C=1000)\n",
    "lsvm.fit(x_tr, y_tr)\n",
    "score = lsvm. score (x_tr, y_tr) \n",
    "print(score)\n",
    "\n",
    "Beta=list(lsvm.intercept_)+list(lsvm.coef_[0])\n",
    "print(Beta) \n",
    "plt.show()"
   ]
  },
  {
   "cell_type": "code",
   "execution_count": null,
   "id": "c1df83d0-e741-4518-941e-4d309e7996cb",
   "metadata": {},
   "outputs": [],
   "source": [
    "# modele pour l'analyse des sentiments"
   ]
  },
  {
   "cell_type": "code",
   "execution_count": 52,
   "id": "1109caab-e5b1-4093-be9a-6f8685434191",
   "metadata": {},
   "outputs": [
    {
     "name": "stdout",
     "output_type": "stream",
     "text": [
      "86.72 %\n"
     ]
    }
   ],
   "source": [
    "with open(\"/Users/mac/Downloads/reviews.txt\") as f:\n",
    "  reviews = f.read().split(\"\\n\")\n",
    "with open(\"/Users/mac/Downloads/labels.txt\") as f: #un texte contient positif negatif\n",
    "  labels = f.read().split(\"\\n\")\n",
    "\n",
    "reviews_tokens = [review.split() for review in reviews]\n",
    "\n",
    "from sklearn.preprocessing import MultiLabelBinarizer\n",
    "MLB = MultiLabelBinarizer()\n",
    "MLB.fit(reviews_tokens)\n",
    "\n",
    "from sklearn.model_selection import train_test_split \n",
    "X_train, X_test, y_train, y_test= train_test_split(reviews_tokens, labels, test_size=0.25, random_state=None)\n",
    "\n",
    "from sklearn.svm import LinearSVC\n",
    "\n",
    "lsvm = LinearSVC(); \n",
    "lsvm.fit (MLB.transform(X_train), y_train) \n",
    "score=lsvm.score(MLB.transform(X_test), y_test)\n",
    "print (score*100,'%')\n"
   ]
  },
  {
   "cell_type": "code",
   "execution_count": null,
   "id": "f17a7fc1-c5ec-42d6-a8e1-ca49789cb924",
   "metadata": {},
   "outputs": [],
   "source": []
  },
  {
   "cell_type": "code",
   "execution_count": null,
   "id": "2f0f8f14-2394-4fd0-a880-df0dc966d1b2",
   "metadata": {},
   "outputs": [],
   "source": []
  }
 ],
 "metadata": {
  "kernelspec": {
   "display_name": "Python 3 (ipykernel)",
   "language": "python",
   "name": "python3"
  },
  "language_info": {
   "codemirror_mode": {
    "name": "ipython",
    "version": 3
   },
   "file_extension": ".py",
   "mimetype": "text/x-python",
   "name": "python",
   "nbconvert_exporter": "python",
   "pygments_lexer": "ipython3",
   "version": "3.9.7"
  }
 },
 "nbformat": 4,
 "nbformat_minor": 5
}
