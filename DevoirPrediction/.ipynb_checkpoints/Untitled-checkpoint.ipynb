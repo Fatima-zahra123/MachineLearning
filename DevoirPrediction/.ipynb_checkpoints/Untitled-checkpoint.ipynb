{
 "cells": [
  {
   "cell_type": "code",
   "execution_count": 29,
   "id": "a71cac49",
   "metadata": {},
   "outputs": [],
   "source": [
    "import numpy as np\n",
    "import pandas as pd \n",
    "import os\n",
    "import matplotlib.pyplot as plt\n",
    "import seaborn as sns\n",
    "import re\n",
    "import random\n",
    "import nltk\n",
    "from sklearn.model_selection import KFold ,\n",
    "from sklearn.feature_extraction.text import TfidfVectorizer\n",
    "from sklearn.linear_model import LogisticRegression\n",
    "from sklearn.ensemble import RandomForestClassifier\n",
    "from sklearn.naive_bayes import MultinomialNB\n",
    "from sklearn.ensemble import AdaBoostClassifier\n",
    "from sklearn.svm import SVC\n",
    "from sklearn.linear_model import SGDClassifier\n",
    "from sklearn.linear_model import RidgeClassifier\n",
    "from sklearn.ensemble import GradientBoostingClassifier\n",
    "from sklearn.metrics import accuracy_score\n",
    "from sklearn.metrics import f1_score\n",
    "from sklearn.model_selection import cross_val_score\n",
    "from sklearn.model_selection import train_test_split\n",
    "from collections import Counter\n",
    "from sklearn.feature_extraction.text import TfidfVectorizer ,CountVectorizer\n",
    "from sklearn.naive_bayes import MultinomialNB\n",
    "from sklearn.pipeline import make_pipeline\n",
    "\n",
    "\n"
   ]
  },
  {
   "cell_type": "markdown",
   "id": "8524d393",
   "metadata": {},
   "source": [
    "#  La Collecte des données"
   ]
  },
  {
   "cell_type": "code",
   "execution_count": 4,
   "id": "06908a3b",
   "metadata": {},
   "outputs": [],
   "source": [
    "def create_dataset(textes , target ) :\n",
    "    dic = { \"texte\" : [] , \"target\" :[]}\n",
    "    for (i ,classe) in zip(textes ,target)  :\n",
    "#         lire les fichier textes \n",
    "        with open(i , encoding = 'utf-8') as f :\n",
    "            \n",
    "            text = f.read()\n",
    "#         remplacer les séparateur par *\n",
    "            text = re.sub(\"[-]+\\d+[-]+\" , \"*\" , text)\n",
    "        s = \"\"\n",
    "        \n",
    "#         associer à chaque article sa classe\n",
    "        for i in text :\n",
    "            if i != \"*\" :\n",
    "                s += i\n",
    "            else :\n",
    "                if s not in dic['texte'] :\n",
    "                    dic['texte'].append(s)\n",
    "                    dic['target'].append(classe)\n",
    "                    \n",
    "                    s=\"\"\n",
    "                continue\n",
    "        \n",
    "                \n",
    "            \n",
    "    return dic   \n",
    "            \n",
    "            "
   ]
  },
  {
   "cell_type": "code",
   "execution_count": 5,
   "id": "b26b704f",
   "metadata": {},
   "outputs": [],
   "source": [
    "dic = create_dataset([\"20 articles ecomonie (1).txt\" ,\"28 articles politique.txt\" ,\"28 articles société.txt\"  ,\"29 articles sport.txt\",\"36 articles culture.txt\"],[\"economie\" ,\"politique\",\"societe\",\"sport\" ,\"culture\"])"
   ]
  },
  {
   "cell_type": "code",
   "execution_count": 6,
   "id": "4854535f",
   "metadata": {},
   "outputs": [
    {
     "data": {
      "text/html": [
       "<div>\n",
       "<style scoped>\n",
       "    .dataframe tbody tr th:only-of-type {\n",
       "        vertical-align: middle;\n",
       "    }\n",
       "\n",
       "    .dataframe tbody tr th {\n",
       "        vertical-align: top;\n",
       "    }\n",
       "\n",
       "    .dataframe thead th {\n",
       "        text-align: right;\n",
       "    }\n",
       "</style>\n",
       "<table border=\"1\" class=\"dataframe\">\n",
       "  <thead>\n",
       "    <tr style=\"text-align: right;\">\n",
       "      <th></th>\n",
       "      <th>texte</th>\n",
       "      <th>target</th>\n",
       "    </tr>\n",
       "  </thead>\n",
       "  <tbody>\n",
       "    <tr>\n",
       "      <th>0</th>\n",
       "      <td>Renault Group et Managem Group ont scellé, mer...</td>\n",
       "      <td>economie</td>\n",
       "    </tr>\n",
       "    <tr>\n",
       "      <th>1</th>\n",
       "      <td>\\n\\nLe nombre de voyageurs transportés par l’O...</td>\n",
       "      <td>economie</td>\n",
       "    </tr>\n",
       "    <tr>\n",
       "      <th>2</th>\n",
       "      <td>\\nLa première édition des RDV du Made In Moroc...</td>\n",
       "      <td>economie</td>\n",
       "    </tr>\n",
       "    <tr>\n",
       "      <th>3</th>\n",
       "      <td>\\nLa première édition des RDV du Made In Moroc...</td>\n",
       "      <td>economie</td>\n",
       "    </tr>\n",
       "    <tr>\n",
       "      <th>4</th>\n",
       "      <td>\\nCette année est très particulière pour le Sa...</td>\n",
       "      <td>economie</td>\n",
       "    </tr>\n",
       "    <tr>\n",
       "      <th>...</th>\n",
       "      <td>...</td>\n",
       "      <td>...</td>\n",
       "    </tr>\n",
       "    <tr>\n",
       "      <th>130</th>\n",
       "      <td>\\nEn ce mois de mai, la Fondation Ali Zaoua cé...</td>\n",
       "      <td>culture</td>\n",
       "    </tr>\n",
       "    <tr>\n",
       "      <th>131</th>\n",
       "      <td>\\nUne deuxième édition d' »Un Printemps Maroca...</td>\n",
       "      <td>culture</td>\n",
       "    </tr>\n",
       "    <tr>\n",
       "      <th>132</th>\n",
       "      <td>\\nFrench Montana pourrait faire face à la just...</td>\n",
       "      <td>culture</td>\n",
       "    </tr>\n",
       "    <tr>\n",
       "      <th>133</th>\n",
       "      <td>\\nLe distributeur et producteur émirati Front ...</td>\n",
       "      <td>culture</td>\n",
       "    </tr>\n",
       "    <tr>\n",
       "      <th>134</th>\n",
       "      <td>\\nAprès deux ans d’absence due à la pandémie, ...</td>\n",
       "      <td>culture</td>\n",
       "    </tr>\n",
       "  </tbody>\n",
       "</table>\n",
       "<p>135 rows × 2 columns</p>\n",
       "</div>"
      ],
      "text/plain": [
       "                                                 texte    target\n",
       "0    Renault Group et Managem Group ont scellé, mer...  economie\n",
       "1    \\n\\nLe nombre de voyageurs transportés par l’O...  economie\n",
       "2    \\nLa première édition des RDV du Made In Moroc...  economie\n",
       "3    \\nLa première édition des RDV du Made In Moroc...  economie\n",
       "4    \\nCette année est très particulière pour le Sa...  economie\n",
       "..                                                 ...       ...\n",
       "130  \\nEn ce mois de mai, la Fondation Ali Zaoua cé...   culture\n",
       "131  \\nUne deuxième édition d' »Un Printemps Maroca...   culture\n",
       "132  \\nFrench Montana pourrait faire face à la just...   culture\n",
       "133  \\nLe distributeur et producteur émirati Front ...   culture\n",
       "134  \\nAprès deux ans d’absence due à la pandémie, ...   culture\n",
       "\n",
       "[135 rows x 2 columns]"
      ]
     },
     "execution_count": 6,
     "metadata": {},
     "output_type": "execute_result"
    }
   ],
   "source": [
    "df = pd.DataFrame(dic)\n",
    "df"
   ]
  },
  {
   "cell_type": "markdown",
   "id": "c9858704",
   "metadata": {},
   "source": [
    "#  Analyse de donnée"
   ]
  },
  {
   "cell_type": "code",
   "execution_count": 7,
   "id": "1fabc2da",
   "metadata": {},
   "outputs": [
    {
     "data": {
      "text/html": [
       "<div>\n",
       "<style scoped>\n",
       "    .dataframe tbody tr th:only-of-type {\n",
       "        vertical-align: middle;\n",
       "    }\n",
       "\n",
       "    .dataframe tbody tr th {\n",
       "        vertical-align: top;\n",
       "    }\n",
       "\n",
       "    .dataframe thead th {\n",
       "        text-align: right;\n",
       "    }\n",
       "</style>\n",
       "<table border=\"1\" class=\"dataframe\">\n",
       "  <thead>\n",
       "    <tr style=\"text-align: right;\">\n",
       "      <th></th>\n",
       "      <th>texte</th>\n",
       "      <th>target</th>\n",
       "    </tr>\n",
       "  </thead>\n",
       "  <tbody>\n",
       "    <tr>\n",
       "      <th>count</th>\n",
       "      <td>135</td>\n",
       "      <td>135</td>\n",
       "    </tr>\n",
       "    <tr>\n",
       "      <th>unique</th>\n",
       "      <td>135</td>\n",
       "      <td>5</td>\n",
       "    </tr>\n",
       "    <tr>\n",
       "      <th>top</th>\n",
       "      <td>\\nLe porte-parole du Palais Royal a annoncé, j...</td>\n",
       "      <td>culture</td>\n",
       "    </tr>\n",
       "    <tr>\n",
       "      <th>freq</th>\n",
       "      <td>1</td>\n",
       "      <td>35</td>\n",
       "    </tr>\n",
       "  </tbody>\n",
       "</table>\n",
       "</div>"
      ],
      "text/plain": [
       "                                                    texte   target\n",
       "count                                                 135      135\n",
       "unique                                                135        5\n",
       "top     \\nLe porte-parole du Palais Royal a annoncé, j...  culture\n",
       "freq                                                    1       35"
      ]
     },
     "execution_count": 7,
     "metadata": {},
     "output_type": "execute_result"
    }
   ],
   "source": [
    "df.describe()"
   ]
  },
  {
   "cell_type": "code",
   "execution_count": 8,
   "id": "2caef40d",
   "metadata": {},
   "outputs": [
    {
     "name": "stdout",
     "output_type": "stream",
     "text": [
      "<class 'pandas.core.frame.DataFrame'>\n",
      "RangeIndex: 135 entries, 0 to 134\n",
      "Data columns (total 2 columns):\n",
      " #   Column  Non-Null Count  Dtype \n",
      "---  ------  --------------  ----- \n",
      " 0   texte   135 non-null    object\n",
      " 1   target  135 non-null    object\n",
      "dtypes: object(2)\n",
      "memory usage: 2.2+ KB\n"
     ]
    }
   ],
   "source": [
    "df.info()"
   ]
  },
  {
   "cell_type": "markdown",
   "id": "2a7e42b8",
   "metadata": {},
   "source": [
    "notre dataset contient des enregistrements qui décrit le domaine de chaque article , il contient deux colonnes (texte , target ) de type chaine de caractère."
   ]
  },
  {
   "cell_type": "code",
   "execution_count": 9,
   "id": "604d572c",
   "metadata": {},
   "outputs": [
    {
     "data": {
      "text/html": [
       "<div>\n",
       "<style scoped>\n",
       "    .dataframe tbody tr th:only-of-type {\n",
       "        vertical-align: middle;\n",
       "    }\n",
       "\n",
       "    .dataframe tbody tr th {\n",
       "        vertical-align: top;\n",
       "    }\n",
       "\n",
       "    .dataframe thead th {\n",
       "        text-align: right;\n",
       "    }\n",
       "</style>\n",
       "<table border=\"1\" class=\"dataframe\">\n",
       "  <thead>\n",
       "    <tr style=\"text-align: right;\">\n",
       "      <th></th>\n",
       "      <th>target</th>\n",
       "    </tr>\n",
       "  </thead>\n",
       "  <tbody>\n",
       "    <tr>\n",
       "      <th>culture</th>\n",
       "      <td>35</td>\n",
       "    </tr>\n",
       "    <tr>\n",
       "      <th>politique</th>\n",
       "      <td>28</td>\n",
       "    </tr>\n",
       "    <tr>\n",
       "      <th>societe</th>\n",
       "      <td>27</td>\n",
       "    </tr>\n",
       "    <tr>\n",
       "      <th>sport</th>\n",
       "      <td>26</td>\n",
       "    </tr>\n",
       "    <tr>\n",
       "      <th>economie</th>\n",
       "      <td>19</td>\n",
       "    </tr>\n",
       "  </tbody>\n",
       "</table>\n",
       "</div>"
      ],
      "text/plain": [
       "           target\n",
       "culture        35\n",
       "politique      28\n",
       "societe        27\n",
       "sport          26\n",
       "economie       19"
      ]
     },
     "execution_count": 9,
     "metadata": {},
     "output_type": "execute_result"
    }
   ],
   "source": [
    "df.target.value_counts().to_frame()"
   ]
  },
  {
   "cell_type": "markdown",
   "id": "052203c6",
   "metadata": {},
   "source": [
    "On a 5 classes : culture , politique , societe , sport et economie"
   ]
  },
  {
   "cell_type": "code",
   "execution_count": 10,
   "id": "10f93e90",
   "metadata": {},
   "outputs": [
    {
     "data": {
      "image/png": "[encoded data removed]",
      "text/plain": [
       "<Figure size 1080x576 with 1 Axes>"
      ]
     },
     "metadata": {
      "needs_background": "light"
     },
     "output_type": "display_data"
    }
   ],
   "source": [
    "# Get the percentage of every class in the whole training data. \n",
    "category_percentage = (100*df.target.value_counts()/len(df)).to_frame().reset_index()\n",
    "category_percentage.columns = ['category', 'percentage']\n",
    "\n",
    "\n",
    "# Visualize the output\n",
    "plt.figure(figsize=(15,8))\n",
    "chart = sns.barplot(x='category', y='percentage', data=category_percentage)\n",
    "chart.set_title('Distrbution per class')\n",
    "chart.set_xticklabels(chart.get_xticklabels(), rotation=30)\n",
    "\n",
    "for p in chart.patches:\n",
    "             chart.annotate(\"%0.2f\" % p.get_height(), (p.get_x() + p.get_width() / 2., p.get_height()),\n",
    "                 ha='center', va='center', fontsize=10, color='black', xytext=(0, 5),\n",
    "                 textcoords='offset points')"
   ]
  },
  {
   "cell_type": "raw",
   "id": "4248408f",
   "metadata": {},
   "source": [
    "Donc On peut constater que la taille des classes est à peu prés proche ."
   ]
  },
  {
   "cell_type": "markdown",
   "id": "d1075125",
   "metadata": {},
   "source": [
    "#  Traitement des données"
   ]
  },
  {
   "cell_type": "raw",
   "id": "b1fcd0fc",
   "metadata": {},
   "source": [
    "Dans cette étape , On va faire le nettoyage des données texte afin d'enlever les ponctuations , les connecteurs ..."
   ]
  },
  {
   "cell_type": "code",
   "execution_count": 11,
   "id": "e1df5eab",
   "metadata": {},
   "outputs": [
    {
     "name": "stderr",
     "output_type": "stream",
     "text": [
      "[nltk_data] Downloading package stopwords to\n",
      "[nltk_data]     C:\\Users\\pc\\AppData\\Roaming\\nltk_data...\n",
      "[nltk_data]   Package stopwords is already up-to-date!\n"
     ]
    }
   ],
   "source": [
    "import string\n",
    "import nltk\n",
    "nltk.download('stopwords')\n",
    "from nltk.corpus import stopwords\n",
    "def netoyage(corpus_ensemble_documents):\n",
    "    for i in range(len(corpus_ensemble_documents)):\n",
    "        corpus_ensemble_documents[i] = corpus_ensemble_documents[i].lower()\n",
    "    for i in range(len(corpus_ensemble_documents)):\n",
    "        for c in string.punctuation:\n",
    "             x = corpus_ensemble_documents[i].replace(c,\" \")\n",
    "             corpus_ensemble_documents[i] = x\n",
    "    stopwords_anglais = stopwords.words('french') #ou french\n",
    "    for i in range(len(corpus_ensemble_documents)):\n",
    "        L = corpus_ensemble_documents[i].split()\n",
    "        for mot in L:\n",
    "            if mot in stopwords_anglais:\n",
    "                while mot in L:\n",
    "                    L.remove(mot)\n",
    "        corpus_ensemble_documents[i] = \" \".join(L)\n",
    "    return(corpus_ensemble_documents)"
   ]
  },
  {
   "cell_type": "code",
   "execution_count": 12,
   "id": "a3c94e9d",
   "metadata": {},
   "outputs": [],
   "source": [
    "df_nettoye = netoyage(df[\"texte\"])"
   ]
  },
  {
   "cell_type": "code",
   "execution_count": 13,
   "id": "2f129576",
   "metadata": {},
   "outputs": [
    {
     "data": {
      "text/plain": [
       "0      renault group managem group scellé mercredi ca...\n",
       "1      nombre voyageurs transportés l’office national...\n",
       "2      première édition rdv made in morocco tiendra 2...\n",
       "3      première édition rdv made in morocco tiendra 2...\n",
       "4      cette année très particulière salon internatio...\n",
       "                             ...                        \n",
       "130    ce mois mai fondation ali zaoua célèbre 13ème ...\n",
       "131    deuxième édition »un printemps marocain » orga...\n",
       "132    french montana pourrait faire face justice apr...\n",
       "133    distributeur producteur émirati front row film...\n",
       "134    après deux ans d’absence due pandémie puisque ...\n",
       "Name: texte, Length: 135, dtype: object"
      ]
     },
     "execution_count": 13,
     "metadata": {},
     "output_type": "execute_result"
    }
   ],
   "source": [
    "df_nettoye"
   ]
  },
  {
   "cell_type": "raw",
   "id": "d6a92d89",
   "metadata": {},
   "source": [
    "On va diviser le dataset en deux partie : les données d'entrainement et les données de test et pour éviter le overfitting on va utiliser StratifiedKFold ."
   ]
  },
  {
   "cell_type": "code",
   "execution_count": 25,
   "id": "f5609965",
   "metadata": {},
   "outputs": [
    {
     "data": {
      "text/plain": [
       "126      culture\n",
       "39     politique\n",
       "22     politique\n",
       "65       societe\n",
       "69       societe\n",
       "         ...    \n",
       "71       societe\n",
       "106      culture\n",
       "14      economie\n",
       "92         sport\n",
       "102      culture\n",
       "Name: target, Length: 94, dtype: object"
      ]
     },
     "execution_count": 25,
     "metadata": {},
     "output_type": "execute_result"
    }
   ],
   "source": [
    "X_train, X_test, y_train, y_test = train_test_split(df_nettoye, df[\"target\"],shuffle=True,random_state=42, test_size=0.3)\n",
    "y_train"
   ]
  },
  {
   "cell_type": "code",
   "execution_count": 28,
   "id": "69b81586",
   "metadata": {},
   "outputs": [
    {
     "name": "stdout",
     "output_type": "stream",
     "text": [
      "['economie' 'economie' 'economie' 'economie' 'economie' 'economie'\n",
      " 'economie' 'economie' 'economie' 'economie' 'economie' 'economie'\n",
      " 'economie' 'economie' 'economie' 'economie' 'economie' 'economie'\n",
      " 'economie' 'politique' 'politique' 'politique' 'politique' 'politique'\n",
      " 'politique' 'politique' 'politique' 'politique' 'politique' 'politique'\n",
      " 'politique' 'politique' 'politique' 'politique' 'politique' 'politique'\n",
      " 'politique' 'politique' 'politique' 'politique' 'politique' 'politique'\n",
      " 'politique' 'politique' 'politique' 'politique' 'politique' 'societe'\n",
      " 'societe' 'societe' 'societe' 'societe' 'societe' 'societe' 'societe'\n",
      " 'societe' 'societe' 'societe' 'societe' 'societe' 'societe' 'societe'\n",
      " 'societe' 'societe' 'societe' 'societe' 'societe' 'societe' 'societe'\n",
      " 'societe' 'societe' 'societe' 'societe' 'societe' 'sport' 'sport' 'sport'\n",
      " 'sport' 'sport' 'sport' 'sport' 'sport' 'sport' 'sport' 'sport' 'sport'\n",
      " 'sport' 'sport' 'sport' 'sport' 'sport' 'sport' 'sport' 'sport' 'sport'\n",
      " 'sport' 'sport' 'sport' 'sport' 'sport' 'culture' 'culture' 'culture'\n",
      " 'culture' 'culture' 'culture' 'culture' 'culture' 'culture' 'culture'\n",
      " 'culture' 'culture' 'culture' 'culture' 'culture' 'culture' 'culture'\n",
      " 'culture' 'culture' 'culture' 'culture' 'culture' 'culture' 'culture'\n",
      " 'culture' 'culture' 'culture' 'culture' 'culture' 'culture' 'culture'\n",
      " 'culture' 'culture' 'culture' 'culture']\n"
     ]
    },
    {
     "ename": "NameError",
     "evalue": "name 'StratifiedKFold' is not defined",
     "output_type": "error",
     "traceback": [
      "\u001b[1;31m---------------------------------------------------------------------------\u001b[0m",
      "\u001b[1;31mNameError\u001b[0m                                 Traceback (most recent call last)",
      "\u001b[1;32m<ipython-input-28-d64d84c41a8d>\u001b[0m in \u001b[0;36m<module>\u001b[1;34m\u001b[0m\n\u001b[0;32m      3\u001b[0m \u001b[0my\u001b[0m \u001b[1;33m=\u001b[0m \u001b[0mdf\u001b[0m\u001b[1;33m[\u001b[0m\u001b[1;34m\"target\"\u001b[0m\u001b[1;33m]\u001b[0m\u001b[1;33m.\u001b[0m\u001b[0mvalues\u001b[0m\u001b[1;33m\u001b[0m\u001b[1;33m\u001b[0m\u001b[0m\n\u001b[0;32m      4\u001b[0m \u001b[0mprint\u001b[0m\u001b[1;33m(\u001b[0m\u001b[0my\u001b[0m\u001b[1;33m)\u001b[0m\u001b[1;33m\u001b[0m\u001b[1;33m\u001b[0m\u001b[0m\n\u001b[1;32m----> 5\u001b[1;33m \u001b[0mskf\u001b[0m \u001b[1;33m=\u001b[0m \u001b[0mStratifiedKFold\u001b[0m\u001b[1;33m(\u001b[0m\u001b[0mn_splits\u001b[0m\u001b[1;33m=\u001b[0m\u001b[0mN_FOLDS\u001b[0m\u001b[1;33m,\u001b[0m \u001b[0mshuffle\u001b[0m\u001b[1;33m=\u001b[0m\u001b[1;32mTrue\u001b[0m\u001b[1;33m,\u001b[0m \u001b[0mrandom_state\u001b[0m\u001b[1;33m=\u001b[0m\u001b[1;36m42\u001b[0m\u001b[1;33m)\u001b[0m\u001b[1;33m\u001b[0m\u001b[1;33m\u001b[0m\u001b[0m\n\u001b[0m\u001b[0;32m      6\u001b[0m \u001b[1;32mfor\u001b[0m \u001b[0mfold\u001b[0m\u001b[1;33m,\u001b[0m \u001b[1;33m(\u001b[0m\u001b[0mtrain_indicies\u001b[0m\u001b[1;33m,\u001b[0m \u001b[0mvalid_indicies\u001b[0m\u001b[1;33m)\u001b[0m \u001b[1;32min\u001b[0m \u001b[0menumerate\u001b[0m\u001b[1;33m(\u001b[0m\u001b[0mskf\u001b[0m\u001b[1;33m.\u001b[0m\u001b[0msplit\u001b[0m\u001b[1;33m(\u001b[0m\u001b[0mX\u001b[0m\u001b[1;33m=\u001b[0m\u001b[0mtrain_df\u001b[0m\u001b[1;33m,\u001b[0m \u001b[0my\u001b[0m\u001b[1;33m=\u001b[0m\u001b[0my\u001b[0m\u001b[1;33m)\u001b[0m\u001b[1;33m)\u001b[0m\u001b[1;33m:\u001b[0m\u001b[1;33m\u001b[0m\u001b[1;33m\u001b[0m\u001b[0m\n\u001b[0;32m      7\u001b[0m     \u001b[0mtrain_df\u001b[0m\u001b[1;33m.\u001b[0m\u001b[0mloc\u001b[0m\u001b[1;33m[\u001b[0m\u001b[0mvalid_indicies\u001b[0m\u001b[1;33m,\u001b[0m \u001b[1;34m\"kfold\"\u001b[0m\u001b[1;33m]\u001b[0m \u001b[1;33m=\u001b[0m \u001b[0mfold\u001b[0m\u001b[1;33m\u001b[0m\u001b[1;33m\u001b[0m\u001b[0m\n",
      "\u001b[1;31mNameError\u001b[0m: name 'StratifiedKFold' is not defined"
     ]
    }
   ],
   "source": [
    "N_FOLDS = 5\n",
    "df[\"kfold\"] = -1\n",
    "y = df[\"target\"].values\n",
    "print(y)\n",
    "skf = StratifiedKFold(n_splits=N_FOLDS, shuffle=True, random_state=42)\n",
    "for fold, (train_indicies, valid_indicies) in enumerate(skf.split(X=train_df, y=y)):\n",
    "    train_df.loc[valid_indicies, \"kfold\"] = fold\n",
    "    \n",
    "train_df.kfold.value_counts()"
   ]
  },
  {
   "cell_type": "code",
   "execution_count": 26,
   "id": "65858f49",
   "metadata": {},
   "outputs": [],
   "source": [
    "def run_model(model):\n",
    "    for (i,j) in model :\n",
    "        model = make_pipeline(TfidfVectorizer(), j)\n",
    "        model.fit( df_nettoye , df[\"target\"])\n",
    "        print(j)\n",
    "#         model_vec = TfidfVectorizer()\n",
    "#         M=model_vec.fit_transform( df_nettoye)\n",
    "# # #         cv = KFold(n_splits=5, random_state=1, shuffle=True)\n",
    "# #         scores = cross_val_score(j,M,y_train, scoring='accuracy', cv=5, n_jobs=-1)\n",
    "#         model = j\n",
    "#         model.fit( M.toarray(), df[\"target\"])\n",
    "        print(i,\"    :\",model.score(df_nettoye, df[\"target\"]))\n",
    "#         print(\"********\")\n",
    "#         print(i,\"    :\",model.predict(model_vec.fit_transform(X_test)).toarray())\n"
   ]
  },
  {
   "cell_type": "code",
   "execution_count": 27,
   "id": "8acf88fd",
   "metadata": {},
   "outputs": [
    {
     "name": "stdout",
     "output_type": "stream",
     "text": [
      "LogisticRegression(n_jobs=-1)\n",
      "LR     : 1.0\n",
      "SGDClassifier(n_jobs=-1)\n",
      "SGD     : 1.0\n",
      "RidgeClassifier()\n",
      "Ridge     : 1.0\n",
      "MultinomialNB()\n",
      "MultinomialNB     : 0.9925925925925926\n",
      "SVC()\n",
      "SVM     : 1.0\n",
      "GradientBoostingClassifier()\n",
      "GradientBoosting     : 1.0\n"
     ]
    }
   ],
   "source": [
    "models = [('LR', LogisticRegression(n_jobs=-1)),\n",
    "           ('SGD', SGDClassifier(n_jobs=-1)),\n",
    "           ('Ridge', RidgeClassifier()), \n",
    "           ('MultinomialNB', MultinomialNB()), \n",
    "           ('SVM', SVC()),\n",
    "           ('GradientBoosting', GradientBoostingClassifier())]\n",
    "run_model(models)\n",
    "# cv = KFold(n_splits=5, random_state=1, shuffle=True)\n",
    "\n",
    "# scores = cross_val_score(LogisticRegression(), X_train ,y_train, scoring='accuracy', cv=5, n_jobs=-1)\n",
    "# scores\n",
    "\n",
    "# model_vec = TfidfVectorizer()\n",
    "# M=model_vec.fit_transform( df_nettoye)\n",
    "# model = MultinomialNB()\n",
    "# model.fit(M.toarray(), df[\"target\"])\n",
    "# model.score(M.toarray(), df[\"target\"])\n",
    "# # print(M.toarray())"
   ]
  },
  {
   "cell_type": "code",
   "execution_count": null,
   "id": "a8194e3b",
   "metadata": {},
   "outputs": [],
   "source": [
    "def run_estimator_on_folds(estimator,model_name, folds):\n",
    "    \"\"\"\n",
    "    Run any sklearn estimatior on our data \n",
    "    - params\n",
    "        - param estimator : sklearn estimator\n",
    "        - param model_name : str \n",
    "        - param folds : int -> number of folds\n",
    "    - return\n",
    "        - valid_df : dataframe with predictions to all training data\n",
    "        - test_df : dataframe with predictions to all test data. \n",
    "    \"\"\"\n",
    "    \n",
    "    acc_list = []\n",
    "    valid_dfs = []\n",
    "    test_preds = []\n",
    "    \n",
    "    for fold in range(folds):\n",
    "        df_train =  train_df[train_df.kfold != fold].reset_index(drop=True)\n",
    "        df_valid = train_df[train_df.kfold == fold].reset_index(drop=True)\n",
    "        df_test = test_df.copy()\n",
    "\n",
    "        ytrain = df_train.category_id\n",
    "        yvalid = df_valid.category_id\n",
    "\n",
    "        xtrain = df_train.Text\n",
    "        xvalid = df_valid.Text\n",
    "        \n",
    "        xtest = df_test.Text \n",
    "\n",
    "        tfv = TfidfVectorizer(sublinear_tf=True, min_df=5, norm='l2', encoding='latin-1', ngram_range=(1, 1), stop_words='english')\n",
    "        tfv.fit(xtrain)\n",
    "\n",
    "        xtrain = tfv.transform(xtrain)\n",
    "        xvalid = tfv.transform(xvalid)\n",
    "        xtest = tfv.transform(xtest)\n",
    "        \n",
    "        estimator.fit(xtrain, ytrain)\n",
    "\n",
    "        ypred = estimator.predict(xvalid)\n",
    "        test_ypred = estimator.predict(xtest)\n",
    "        df_valid.loc[:, str(model_name)+'_pred'] = ypred\n",
    "        test_preds.append(test_ypred)\n",
    "        valid_dfs.append(df_valid)\n",
    "        acc = accuracy_score(yvalid, ypred)\n",
    "        acc_list.append(acc)\n",
    "        print(\"fold: {}, Accuracy: {}\".format(fold, acc))\n",
    "\n",
    "    print()\n",
    "    print(\"Mean Acc: {}, std Acc: {}\".format(np.mean(acc_list), np.std(acc_list)))\n",
    "    print()\n",
    "    df_valid_final = pd.concat(valid_dfs)\n",
    "    test_ypred = np.round(np.mean(np.column_stack(test_preds), axis=1))\n",
    "    df_test.loc[:, str(model_name)+'_test_pred'] = test_ypred\n",
    "    return df_valid_final, df_test\n",
    "    "
   ]
  },
  {
   "cell_type": "code",
   "execution_count": 180,
   "id": "15e3684a",
   "metadata": {},
   "outputs": [
    {
     "name": "stderr",
     "output_type": "stream",
     "text": [
      "[nltk_data] Downloading package stopwords to\n",
      "[nltk_data]     C:\\Users\\pc\\AppData\\Roaming\\nltk_data...\n",
      "[nltk_data]   Package stopwords is already up-to-date!\n"
     ]
    }
   ],
   "source": [
    "import string\n",
    "import nltk\n",
    "nltk.download('stopwords')\n",
    "from nltk.corpus import stopwords\n",
    "def netoyage(corpus_ensemble_documents):\n",
    "    for i in range(len(corpus_ensemble_documents)):\n",
    "        corpus_ensemble_documents[i] = corpus_ensemble_documents[i].lower()\n",
    "    for i in range(len(corpus_ensemble_documents)):\n",
    "        for c in string.punctuation:\n",
    "             x = corpus_ensemble_documents[i].replace(c,\" \")\n",
    "             corpus_ensemble_documents[i] = x\n",
    "    stopwords_anglais = stopwords.words('french') #ou french\n",
    "    for i in range(len(corpus_ensemble_documents)):\n",
    "        L = corpus_ensemble_documents[i].split()\n",
    "        for mot in L:\n",
    "            if mot in stopwords_anglais:\n",
    "                while mot in L:\n",
    "                    L.remove(mot)\n",
    "        corpus_ensemble_documents[i] = \" \".join(L)\n",
    "    return(corpus_ensemble_documents)"
   ]
  },
  {
   "cell_type": "code",
   "execution_count": 181,
   "id": "556447eb",
   "metadata": {},
   "outputs": [
    {
     "data": {
      "text/plain": [
       "0      renault group managem group scellé mercredi ca...\n",
       "1      nombre voyageurs transportés l’office national...\n",
       "2      première édition rdv made in morocco tiendra 2...\n",
       "3      première édition rdv made in morocco tiendra 2...\n",
       "4      cette année très particulière salon internatio...\n",
       "                             ...                        \n",
       "130    ce mois mai fondation ali zaoua célèbre 13ème ...\n",
       "131    deuxième édition »un printemps marocain » orga...\n",
       "132    french montana pourrait faire face justice apr...\n",
       "133    distributeur producteur émirati front row film...\n",
       "134    après deux ans d’absence due pandémie puisque ...\n",
       "Name: texte, Length: 135, dtype: object"
      ]
     },
     "execution_count": 181,
     "metadata": {},
     "output_type": "execute_result"
    }
   ],
   "source": [
    "dataset_nettoye = netoyage(data[\"texte\"])\n",
    "dataset_nettoye"
   ]
  },
  {
   "cell_type": "code",
   "execution_count": 184,
   "id": "807eada5",
   "metadata": {},
   "outputs": [
    {
     "data": {
      "text/plain": [
       "Pipeline(steps=[('tfidfvectorizer', TfidfVectorizer()),\n",
       "                ('multinomialnb', MultinomialNB())])"
      ]
     },
     "execution_count": 184,
     "metadata": {},
     "output_type": "execute_result"
    }
   ],
   "source": [
    "from sklearn.feature_extraction.text import TfidfVectorizer ,CountVectorizer\n",
    "from sklearn.naive_bayes import MultinomialNB\n",
    "from sklearn.pipeline import make_pipeline\n",
    "\n",
    "model = make_pipeline(TfidfVectorizer(), MultinomialNB())\n",
    "model.fit( data[\"texte\"] , data[\"target\"])\n"
   ]
  },
  {
   "cell_type": "code",
   "execution_count": 189,
   "id": "d65e08fe",
   "metadata": {},
   "outputs": [
    {
     "data": {
      "text/plain": [
       "array(['culture'], dtype='<U9')"
      ]
     },
     "execution_count": 189,
     "metadata": {},
     "output_type": "execute_result"
    }
   ],
   "source": [
    "model.predict([\" t\"])"
   ]
  },
  {
   "cell_type": "code",
   "execution_count": null,
   "id": "099fd95f",
   "metadata": {},
   "outputs": [],
   "source": []
  },
  {
   "cell_type": "code",
   "execution_count": null,
   "id": "313c3375",
   "metadata": {},
   "outputs": [],
   "source": []
  }
 ],
 "metadata": {
  "kernelspec": {
   "display_name": "Python 3",
   "language": "python",
   "name": "python3"
  },
  "language_info": {
   "codemirror_mode": {
    "name": "ipython",
    "version": 3
   },
   "file_extension": ".py",
   "mimetype": "text/x-python",
   "name": "python",
   "nbconvert_exporter": "python",
   "pygments_lexer": "ipython3",
   "version": "3.8.8"
  }
 },
 "nbformat": 4,
 "nbformat_minor": 5
}
