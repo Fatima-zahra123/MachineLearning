{
 "cells": [
  {
   "cell_type": "code",
   "execution_count": 1,
   "id": "672891fa",
   "metadata": {},
   "outputs": [],
   "source": [
    "import numpy as np \n",
    "import matplotlib.pyplot as plt\n",
    "import pandas as pd\n",
    "\n",
    "\n"
   ]
  },
  {
   "cell_type": "code",
   "execution_count": 2,
   "id": "51fa4e24",
   "metadata": {},
   "outputs": [],
   "source": [
    "\n",
    "df = pd.read_csv(r\"C:\\Users\\pc\\Desktop\\S7\\MachineLearningTps\\univariate_linear_regression_dataset.csv\")\n"
   ]
  },
  {
   "cell_type": "code",
   "execution_count": 3,
   "id": "2b64de50",
   "metadata": {},
   "outputs": [
    {
     "data": {
      "image/png": "[encoded data removed]",
      "text/plain": [
       "<Figure size 432x288 with 1 Axes>"
      ]
     },
     "metadata": {
      "needs_background": "light"
     },
     "output_type": "display_data"
    }
   ],
   "source": [
    "x = df.iloc[:,0]\n",
    "n_samples = len(x)\n",
    "x= np.array(x).reshape((n_samples,1))\n",
    "y=df.iloc[:,1]\n",
    "y=np.array(x).reshape((n_samples,1))\n",
    "plt.scatter(x,y)\n",
    "plt.show()\n"
   ]
  },
  {
   "cell_type": "code",
   "execution_count": null,
   "id": "7da4c2b5",
   "metadata": {},
   "outputs": [],
   "source": [
    "X=np.hstack((x,np.ones(x.shape)))\n",
    "theta = np.random.randn(2,1)\n",
    "print(theta)\n",
    "\n",
    "def f(X,theta):\n",
    "    return X.dot(theta)\n",
    "\n",
    "def erreur_somme_des_distances(X,y,theta):\n",
    "    m = len(y)\n",
    "    return (1/(2*m))np.sum((f(X,theta)-y)*2)\n",
    "\n",
    "def gradient(X,y,theta):\n",
    "    m = len(y)\n",
    "    return 1/m*X.T.dot(f(X,theta)-y)\n",
    "\n",
    "\n",
    "def gradient_descent(X,y,theta,learning_rate,n_iterations):\n",
    "    historique_des_erreurs=np.zeros(n_iterations)\n",
    "    for i in range(0,n_iterations):\n",
    "        theta = theta -learning_rate*gradient(X,y,theta)\n",
    "        historique_des_erreurs[i] = erreur_somme_des_distances(X,y,theta)\n",
    "    return theta , historique_des_erreurs\n",
    "\n",
    "#Example de test\n",
    "n_iterations = 10000\n",
    "learning_rate = 0.01\n",
    "theta_final,historique_des_erreurs = gradient_descent(X,y,theta,learning_rate,n_iterations)\n",
    "print(theta_final)\n",
    "\n",
    "predictions = f(X,theta_final)\n",
    "plt.scatter(x,y)\n",
    "plt.plot(x,predictions,c=\"r\")\n",
    "plt.show()\n",
    "plt.figure()\n",
    "plt.plot(range(n_iterations),historique_des_erreurs)\n",
    "plt.show()\n",
    "print(f(np.array[22.5,1],theta_final))"
   ]
  }
 ],
 "metadata": {
  "kernelspec": {
   "display_name": "Python 3",
   "language": "python",
   "name": "python3"
  },
  "language_info": {
   "codemirror_mode": {
    "name": "ipython",
    "version": 3
   },
   "file_extension": ".py",
   "mimetype": "text/x-python",
   "name": "python",
   "nbconvert_exporter": "python",
   "pygments_lexer": "ipython3",
   "version": "3.8.8"
  }
 },
 "nbformat": 4,
 "nbformat_minor": 5
}
