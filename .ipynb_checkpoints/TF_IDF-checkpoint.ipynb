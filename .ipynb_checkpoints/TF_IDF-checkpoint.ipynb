{
 "cells": [
  {
   "cell_type": "code",
   "execution_count": 2,
   "id": "d4aa4e97-0eda-444f-8466-8930cdcbe837",
   "metadata": {},
   "outputs": [
    {
     "name": "stderr",
     "output_type": "stream",
     "text": [
      "[nltk_data] Downloading package stopwords to /Users/mac/nltk_data...\n",
      "[nltk_data]   Package stopwords is already up-to-date!\n"
     ]
    },
    {
     "data": {
      "text/plain": [
       "True"
      ]
     },
     "execution_count": 2,
     "metadata": {},
     "output_type": "execute_result"
    }
   ],
   "source": [
    "import string\n",
    "import nltk\n",
    "nltk.download('stopwords')"
   ]
  },
  {
   "cell_type": "code",
   "execution_count": 3,
   "id": "9412cd09-560f-4071-8177-a4ea76681b01",
   "metadata": {},
   "outputs": [],
   "source": [
    "from nltk.corpus import stopwords\n",
    "def netoyage(corpus_ensemble_documents):\n",
    "    #transformer tous en miniscules\n",
    "    for i in range(len(corpus_ensemble_documents)):\n",
    "        corpus_ensemble_documents[i]=corpus_ensemble_documents[i].lower()\n",
    "    for i in range(len(corpus_ensemble_documents)):\n",
    "        #eliminer les ponctuations\n",
    "        for c in string.punctuation:\n",
    "                x=corpus_ensemble_documents[i].replace(c,' ')\n",
    "                corpus_ensemble_documents[i]=x\n",
    "    stopwords_francais=stopwords.words('french')\n",
    "    for i in range(len(corpus_ensemble_documents)):\n",
    "        L=corpus_ensemble_documents[i].split()\n",
    "        for mot in L:\n",
    "            if mot in stopwords_francais:\n",
    "                while mot in L:\n",
    "                    L.remove(mot)\n",
    "        corpus_ensemble_documents[i]=\" \".join(L)\n",
    "    return(corpus_ensemble_documents)"
   ]
  },
  {
   "cell_type": "code",
   "execution_count": 4,
   "id": "2fc782b7-293a-438b-b85b-3e6a616acfc2",
   "metadata": {},
   "outputs": [
    {
     "data": {
      "text/plain": [
       "['vie douce', 'vie tranquille belle douce', 'bonjour mappelle nisrine bajja']"
      ]
     },
     "execution_count": 4,
     "metadata": {},
     "output_type": "execute_result"
    }
   ],
   "source": [
    "texte=[\"La vie est douce\",\"La vie est tranquille, est belle, est douce\",\"Bonjour je mappelle nisrine bajja\"]\n",
    "netoyage(texte)"
   ]
  },
  {
   "cell_type": "code",
   "execution_count": 5,
   "id": "da030535-483f-45a7-a217-1d2ded41b65e",
   "metadata": {},
   "outputs": [],
   "source": [
    "from numpy import *\n",
    "#la frequence du terme==>l'importance de ce terme term frequency\n",
    "def TF(terme,corpus,numero_document):\n",
    "    x=corpus[numero_document].count(terme)\n",
    "    y=len(corpus[numero_document].split())\n",
    "    return x/y"
   ]
  },
  {
   "cell_type": "code",
   "execution_count": 6,
   "id": "fc8e3fb9-9c41-4c39-9f45-d661f164801b",
   "metadata": {},
   "outputs": [],
   "source": [
    "def IDF(terme,corpus,numero_document):\n",
    "    D=len(corpus)\n",
    "    d_t=0 #les nombres de document qui contient au moins le terme\n",
    "    for document in corpus:\n",
    "        if terme in document:\n",
    "            d_t+=1\n",
    "    TF_val=TF(terme,corpus,numero_document)\n",
    "    return TF_val*log(1+(D/d_t))\n",
    "\n",
    "def cle_correspondante_a_valeur(valeur,dictionnaire):\n",
    "    for cle in dictionnaire.keys():\n",
    "        if dictionnaire[cle]==valeur:\n",
    "            return cle"
   ]
  },
  {
   "cell_type": "code",
   "execution_count": 7,
   "id": "f26beb14-4064-49ee-b472-45c70563c201",
   "metadata": {},
   "outputs": [],
   "source": [
    "import numpy\n",
    "def matrice_sparse(dictionnaire,corpus_ensemble_document):\n",
    "    M=numpy.zeros((len(corpus_ensemble_document),len(dictionnaire.values())))#lignes : longueur du corpus\n",
    "    #colonne : les valeurs contenat dans le document\n",
    "    for i in range(len(corpus_ensemble_document)):\n",
    "        for j in dictionnaire.values():\n",
    "            x=cle_correspondante_a_valeur(j,dictionnaire)\n",
    "            M[i,j]=IDF(x,corpus_ensemble_document,i)\n",
    "    return M"
   ]
  },
  {
   "cell_type": "code",
   "execution_count": 8,
   "id": "e9aee82d-f905-4c09-a7d1-d72f10ed40f6",
   "metadata": {},
   "outputs": [],
   "source": [
    "def affiche(M):\n",
    "    (n,p)=M.shape\n",
    "    for i in range(n):\n",
    "        for j in range(p):\n",
    "            M[i,j]=round(M[i,j],2)\n",
    "    print(M)"
   ]
  },
  {
   "cell_type": "code",
   "execution_count": 9,
   "id": "a085a6b4-8caa-48c4-a623-da66eeb51fc0",
   "metadata": {},
   "outputs": [
    {
     "name": "stdout",
     "output_type": "stream",
     "text": [
      "['vie douce', 'vie tranquille belle douce', 'corona virus méchant']\n",
      "dictionnaire_des_mots : {'vie': 5, 'douce': 2, 'tranquille': 4, 'belle': 0, 'corona': 1, 'virus': 6, 'méchant': 3}\n",
      "list_des_mots : ['vie', 'douce', 'tranquille', 'belle', 'corona', 'virus', 'méchant']\n",
      "matrice_sparse_correspondante_methode_predefinie :/n\n",
      "[[0.         0.         0.70710678 0.         0.         0.70710678\n",
      "  0.        ]\n",
      " [0.5628291  0.         0.42804604 0.         0.5628291  0.42804604\n",
      "  0.        ]\n",
      " [0.         0.57735027 0.         0.57735027 0.         0.\n",
      "  0.57735027]]\n",
      "matrice_sparse_correspondante_notre_methode :/n\n",
      "[[0.         0.         0.45814537 0.         0.         0.45814537\n",
      "  0.        ]\n",
      " [0.34657359 0.         0.22907268 0.         0.34657359 0.22907268\n",
      "  0.        ]\n",
      " [0.         0.46209812 0.         0.46209812 0.         0.\n",
      "  0.46209812]]\n"
     ]
    }
   ],
   "source": [
    "from sklearn.feature_extraction.text import TfidfVectorizer\n",
    "import nltk\n",
    "texte=[\"La vie est douce\",\"La vie est tranquille, est belle, est douce\",\"Le corona-virus est méchant\"]\n",
    "texte=netoyage(texte)\n",
    "print(texte)\n",
    "vect=TfidfVectorizer()\n",
    "T=vect.fit_transform(texte)\n",
    "dictionnaire_des_mots=vect.vocabulary_\n",
    "print(\"dictionnaire_des_mots :\",dictionnaire_des_mots)\n",
    "liste_des_mots=list(dictionnaire_des_mots.keys())\n",
    "print(\"list_des_mots :\",liste_des_mots)\n",
    "Matrice_sparse_correspondante=T.toarray()\n",
    "print(\"matrice_sparse_correspondante_methode_predefinie :/n\")\n",
    "print(Matrice_sparse_correspondante)\n",
    "print(\"matrice_sparse_correspondante_notre_methode :/n\")\n",
    "print(matrice_sparse(dictionnaire_des_mots,texte))"
   ]
  },
  {
   "cell_type": "code",
   "execution_count": 18,
   "id": "34ce64cf-1150-43f5-b274-974822c61c10",
   "metadata": {},
   "outputs": [
    {
     "name": "stdout",
     "output_type": "stream",
     "text": [
      "[[0 0 0 ... 0 0 0]\n",
      " [0 0 0 ... 0 0 0]\n",
      " [0 0 0 ... 0 0 0]\n",
      " ...\n",
      " [0 0 0 ... 0 0 0]\n",
      " [0 0 0 ... 0 0 0]\n",
      " [0 0 0 ... 0 0 0]]\n",
      "score sur data train :0.9976923076923077\n",
      "score sur data test : 0.9814593301435407\n"
     ]
    }
   ],
   "source": [
    "import numpy as np\n",
    "import pandas\n",
    "from sklearn.model_selection import train_test_split\n",
    "spams = pandas.read_table(\"/Users/mac/Downloads/SMSSpamCollection.txt\",sep=\"\\t\",header=0)\n",
    "#print(spams)\n",
    "spamsTrain, spamsTest = train_test_split(spams,train_size=0.7,random_state=1)\n",
    "\n",
    "from sklearn.feature_extraction.text import CountVectorizer\n",
    "parseur=CountVectorizer()\n",
    "Xtrain = parseur.fit_transform(spamsTrain['message'])\n",
    "#print(Xtrain)\n",
    "mdtTrain = Xtrain.toarray()\n",
    "print(mdtTrain)\n",
    "from sklearn.linear_model import LogisticRegression\n",
    "modelFirst = LogisticRegression()\n",
    "\n",
    "modelFirst.fit(mdtTrain,spamsTrain['classe'])\n",
    "score1=modelFirst.score(mdtTrain, spamsTrain['classe'])\n",
    "print(\"score sur data train :\"+str(score1))\n",
    "mdtTest = parseur.transform(spamsTest['message'])\n",
    "score2=modelFirst.score(mdtTest,spamsTest['classe'])\n",
    "print(\"score sur data test : \"+str(score2))"
   ]
  },
  {
   "cell_type": "code",
   "execution_count": null,
   "id": "5ecd8d8d-dce5-4507-9d60-c674b6c6fbae",
   "metadata": {},
   "outputs": [],
   "source": []
  }
 ],
 "metadata": {
  "kernelspec": {
   "display_name": "Python 3",
   "language": "python",
   "name": "python3"
  },
  "language_info": {
   "codemirror_mode": {
    "name": "ipython",
    "version": 3
   },
   "file_extension": ".py",
   "mimetype": "text/x-python",
   "name": "python",
   "nbconvert_exporter": "python",
   "pygments_lexer": "ipython3",
   "version": "3.8.8"
  }
 },
 "nbformat": 4,
 "nbformat_minor": 5
}
