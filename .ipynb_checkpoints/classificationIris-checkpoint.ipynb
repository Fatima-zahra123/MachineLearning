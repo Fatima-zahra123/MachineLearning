{
 "cells": [
  {
   "cell_type": "code",
   "execution_count": 96,
   "id": "1969b66b",
   "metadata": {},
   "outputs": [],
   "source": [
    "import numpy as np\n",
    "import matplotlib.pyplot as plt\n",
    "from sklearn.model_selection import train_test_split\n",
    "from sklearn.model_selection import  cross_val_score\n",
    "from sklearn.datasets import load_iris\n",
    "from sklearn.linear_model import LogisticRegression\n",
    "from scipy.special import expit"
   ]
  },
  {
   "cell_type": "code",
   "execution_count": 97,
   "id": "f9ff048f",
   "metadata": {},
   "outputs": [
    {
     "data": {
      "text/plain": [
       "array([[0],\n",
       "       [0],\n",
       "       [0],\n",
       "       [0],\n",
       "       [0],\n",
       "       [0],\n",
       "       [0],\n",
       "       [0],\n",
       "       [0],\n",
       "       [0],\n",
       "       [0],\n",
       "       [0],\n",
       "       [0],\n",
       "       [0],\n",
       "       [0],\n",
       "       [0],\n",
       "       [0],\n",
       "       [0],\n",
       "       [0],\n",
       "       [0],\n",
       "       [0],\n",
       "       [0],\n",
       "       [0],\n",
       "       [0],\n",
       "       [0],\n",
       "       [0],\n",
       "       [0],\n",
       "       [0],\n",
       "       [0],\n",
       "       [0],\n",
       "       [0],\n",
       "       [0],\n",
       "       [0],\n",
       "       [0],\n",
       "       [0],\n",
       "       [0],\n",
       "       [0],\n",
       "       [0],\n",
       "       [0],\n",
       "       [0],\n",
       "       [0],\n",
       "       [0],\n",
       "       [0],\n",
       "       [0],\n",
       "       [0],\n",
       "       [0],\n",
       "       [0],\n",
       "       [0],\n",
       "       [0],\n",
       "       [0],\n",
       "       [1],\n",
       "       [1],\n",
       "       [1],\n",
       "       [1],\n",
       "       [1],\n",
       "       [1],\n",
       "       [1],\n",
       "       [1],\n",
       "       [1],\n",
       "       [1],\n",
       "       [1],\n",
       "       [1],\n",
       "       [1],\n",
       "       [1],\n",
       "       [1],\n",
       "       [1],\n",
       "       [1],\n",
       "       [1],\n",
       "       [1],\n",
       "       [1],\n",
       "       [1],\n",
       "       [1],\n",
       "       [1],\n",
       "       [1],\n",
       "       [1],\n",
       "       [1],\n",
       "       [1],\n",
       "       [1],\n",
       "       [1],\n",
       "       [1],\n",
       "       [1],\n",
       "       [1],\n",
       "       [1],\n",
       "       [1],\n",
       "       [1],\n",
       "       [1],\n",
       "       [1],\n",
       "       [1],\n",
       "       [1],\n",
       "       [1],\n",
       "       [1],\n",
       "       [1],\n",
       "       [1],\n",
       "       [1],\n",
       "       [1],\n",
       "       [1],\n",
       "       [1],\n",
       "       [1],\n",
       "       [1],\n",
       "       [1],\n",
       "       [1],\n",
       "       [1],\n",
       "       [1],\n",
       "       [1],\n",
       "       [1],\n",
       "       [1],\n",
       "       [1],\n",
       "       [1],\n",
       "       [1],\n",
       "       [1],\n",
       "       [1],\n",
       "       [1],\n",
       "       [1],\n",
       "       [1],\n",
       "       [1],\n",
       "       [1],\n",
       "       [1],\n",
       "       [1],\n",
       "       [1],\n",
       "       [1],\n",
       "       [1],\n",
       "       [1],\n",
       "       [1],\n",
       "       [1],\n",
       "       [1],\n",
       "       [1],\n",
       "       [1],\n",
       "       [1],\n",
       "       [1],\n",
       "       [1],\n",
       "       [1],\n",
       "       [1],\n",
       "       [1],\n",
       "       [1],\n",
       "       [1],\n",
       "       [1],\n",
       "       [1],\n",
       "       [1],\n",
       "       [1],\n",
       "       [1],\n",
       "       [1],\n",
       "       [1],\n",
       "       [1],\n",
       "       [1],\n",
       "       [1],\n",
       "       [1],\n",
       "       [1],\n",
       "       [1],\n",
       "       [1],\n",
       "       [1]])"
      ]
     },
     "execution_count": 97,
     "metadata": {},
     "output_type": "execute_result"
    }
   ],
   "source": [
    "data_iris = load_iris()\n",
    "X = data_iris.data\n",
    "y = data_iris.target\n",
    "\n",
    "y_bin =[]\n",
    "\n",
    "for i in y :\n",
    "    if i == 0:\n",
    "        y_bin += [0]\n",
    "    else:\n",
    "        y_bin +=[1]\n",
    "\n",
    "target =np.array(y_bin).reshape(len(y),1)\n",
    "target"
   ]
  },
  {
   "cell_type": "code",
   "execution_count": 98,
   "id": "f521e9de",
   "metadata": {},
   "outputs": [
    {
     "data": {
      "text/plain": [
       "Text(0, 0.5, 'y')"
      ]
     },
     "execution_count": 98,
     "metadata": {},
     "output_type": "execute_result"
    },
    {
     "data": {
      "image/png": "[encoded data removed]",
      "text/plain": [
       "<Figure size 432x288 with 1 Axes>"
      ]
     },
     "metadata": {
      "needs_background": "light"
     },
     "output_type": "display_data"
    }
   ],
   "source": [
    "plt.scatter(X[y==0][:,0] ,X[y==0][:,1] ,color='r')\n",
    "plt.scatter(X[y==1][:,0] ,X[y==1][:,1] ,color ='g')\n",
    "plt.legend(labels=(\"classe0\",\"classe1\"))\n",
    "plt.xlabel(\"x\")\n",
    "plt.ylabel(\"y\")"
   ]
  },
  {
   "cell_type": "code",
   "execution_count": 99,
   "id": "e5a78e8d",
   "metadata": {},
   "outputs": [
    {
     "data": {
      "text/plain": [
       "(array([0, 1]), array([18]))"
      ]
     },
     "execution_count": 99,
     "metadata": {},
     "output_type": "execute_result"
    }
   ],
   "source": [
    "model = LogisticRegression(C=0.01)\n",
    "x_train,x_test,y_train,y_test = train_test_split(X[:,0:2],y_bin,test_size=0.2)\n",
    "m=model.fit(x_train,y_train)\n",
    "m.classes_,m.n_iter_"
   ]
  },
  {
   "cell_type": "code",
   "execution_count": 100,
   "id": "b59bc92c",
   "metadata": {},
   "outputs": [
    {
     "data": {
      "text/plain": [
       "0.7333333333333333"
      ]
     },
     "execution_count": 100,
     "metadata": {},
     "output_type": "execute_result"
    }
   ],
   "source": [
    "model.score(x_train,y_train)\n",
    "model.score(x_test,y_test)"
   ]
  },
  {
   "cell_type": "code",
   "execution_count": 101,
   "id": "0e063cd0",
   "metadata": {},
   "outputs": [],
   "source": [
    "theta0 ,theta1,theta2 =m.intercept_ ,m.coef_[0,0],m.coef_[0,1]"
   ]
  },
  {
   "cell_type": "code",
   "execution_count": 105,
   "id": "2f9e3e2b",
   "metadata": {},
   "outputs": [
    {
     "data": {
      "text/plain": [
       "array([[0.6593814 ],\n",
       "       [0.68498622],\n",
       "       [0.72124724],\n",
       "       [0.71539715],\n",
       "       [0.69734944],\n",
       "       [0.70646454],\n",
       "       [0.58104149],\n",
       "       [0.63959379],\n",
       "       [0.69424792],\n",
       "       [0.59862209],\n",
       "       [0.6495519 ],\n",
       "       [0.62263048],\n",
       "       [0.5916318 ],\n",
       "       [0.63959379],\n",
       "       [0.75486458],\n",
       "       [0.59516726],\n",
       "       [0.65940345],\n",
       "       [0.65608268],\n",
       "       [0.70945351],\n",
       "       [0.6527911 ],\n",
       "       [0.76545975],\n",
       "       [0.59511994],\n",
       "       [0.66262084],\n",
       "       [0.58455657],\n",
       "       [0.58808684],\n",
       "       [0.67231199],\n",
       "       [0.67864989],\n",
       "       [0.57047222],\n",
       "       [0.70341671],\n",
       "       [0.68809734]])"
      ]
     },
     "execution_count": 105,
     "metadata": {},
     "output_type": "execute_result"
    }
   ],
   "source": [
    "def predict(x1,x2):\n",
    "    z=theta0+theta1*x1+theta2*x2\n",
    "    return z\n",
    "\n",
    "expit([predict(i[0],i[1]) for i in x_test])"
   ]
  },
  {
   "cell_type": "code",
   "execution_count": 104,
   "id": "f828608c",
   "metadata": {},
   "outputs": [
    {
     "data": {
      "text/plain": [
       "(array([[5.8, 2.8],\n",
       "        [6.4, 3.2],\n",
       "        [6.8, 2.8],\n",
       "        [6.8, 3. ],\n",
       "        [6.5, 3. ],\n",
       "        [6.7, 3.1],\n",
       "        [4.8, 3.1],\n",
       "        [5.6, 3. ],\n",
       "        [6.3, 2.7],\n",
       "        [5.2, 3.4],\n",
       "        [5.7, 2.9],\n",
       "        [5. , 2.3],\n",
       "        [5.1, 3.4],\n",
       "        [5.6, 3. ],\n",
       "        [7.4, 2.8],\n",
       "        [5.3, 3.7],\n",
       "        [5.9, 3. ],\n",
       "        [5.6, 2.5],\n",
       "        [6.7, 3. ],\n",
       "        [5.5, 2.4],\n",
       "        [7.7, 3. ],\n",
       "        [5.1, 3.3],\n",
       "        [5.8, 2.7],\n",
       "        [4.8, 3. ],\n",
       "        [4.9, 3.1],\n",
       "        [6.1, 3. ],\n",
       "        [6.1, 2.8],\n",
       "        [4.9, 3.6],\n",
       "        [6.5, 2.8],\n",
       "        [6.4, 3.1]]),\n",
       " [1,\n",
       "  1,\n",
       "  1,\n",
       "  1,\n",
       "  1,\n",
       "  1,\n",
       "  0,\n",
       "  1,\n",
       "  1,\n",
       "  0,\n",
       "  1,\n",
       "  1,\n",
       "  0,\n",
       "  1,\n",
       "  1,\n",
       "  0,\n",
       "  1,\n",
       "  1,\n",
       "  1,\n",
       "  1,\n",
       "  1,\n",
       "  0,\n",
       "  1,\n",
       "  0,\n",
       "  0,\n",
       "  1,\n",
       "  1,\n",
       "  0,\n",
       "  1,\n",
       "  1])"
      ]
     },
     "execution_count": 104,
     "metadata": {},
     "output_type": "execute_result"
    }
   ],
   "source": [
    "x_test,y_test\n"
   ]
  },
  {
   "cell_type": "code",
   "execution_count": null,
   "id": "87506f8c",
   "metadata": {},
   "outputs": [],
   "source": []
  },
  {
   "cell_type": "code",
   "execution_count": null,
   "id": "3a7bdcc7",
   "metadata": {},
   "outputs": [],
   "source": []
  }
 ],
 "metadata": {
  "kernelspec": {
   "display_name": "Python 3",
   "language": "python",
   "name": "python3"
  },
  "language_info": {
   "codemirror_mode": {
    "name": "ipython",
    "version": 3
   },
   "file_extension": ".py",
   "mimetype": "text/x-python",
   "name": "python",
   "nbconvert_exporter": "python",
   "pygments_lexer": "ipython3",
   "version": "3.8.8"
  }
 },
 "nbformat": 4,
 "nbformat_minor": 5
}
