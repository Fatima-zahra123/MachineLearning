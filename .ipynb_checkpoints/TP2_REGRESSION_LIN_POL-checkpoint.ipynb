{
 "cells": [
  {
   "cell_type": "code",
   "execution_count": 2,
   "id": "e9033516",
   "metadata": {},
   "outputs": [],
   "source": [
    "import pandas as pd \n",
    "import matplotlib.pyplot as plt\n",
    "from scipy import stats\n",
    "import numpy as np"
   ]
  },
  {
   "cell_type": "code",
   "execution_count": 3,
   "id": "dd2e90ac",
   "metadata": {},
   "outputs": [],
   "source": [
    "df = pd.read_csv(r\"./datasets/univariate_linear_regression_dataset.csv\")"
   ]
  },
  {
   "cell_type": "code",
   "execution_count": 4,
   "id": "efac6dc9",
   "metadata": {},
   "outputs": [],
   "source": [
    "X = df.iloc[:,0]\n",
    "Y = df.iloc[:,1]"
   ]
  },
  {
   "cell_type": "code",
   "execution_count": 11,
   "id": "850779e4",
   "metadata": {},
   "outputs": [
    {
     "data": {
      "image/png": "[encoded data removed]",
      "text/plain": [
       "<Figure size 432x288 with 1 Axes>"
      ]
     },
     "metadata": {
      "needs_background": "light"
     },
     "output_type": "display_data"
    }
   ],
   "source": [
    "axes = plt.axes()\n",
    "axes.grid()\n",
    "plt.scatter(X,Y)\n",
    "plt.show()"
   ]
  },
  {
   "cell_type": "code",
   "execution_count": 5,
   "id": "05008609",
   "metadata": {},
   "outputs": [
    {
     "data": {
      "text/plain": [
       "LinregressResult(slope=1.2135472539083587, intercept=-4.211504005424093, rvalue=0.8721572919685905, pvalue=6.110460481642768e-31, stderr=0.07021131328791101, intercept_stderr=0.6352591889336102)"
      ]
     },
     "execution_count": 5,
     "metadata": {},
     "output_type": "execute_result"
    }
   ],
   "source": [
    "SL = stats.linregress(X,Y)\n",
    "\n",
    "SL"
   ]
  },
  {
   "cell_type": "code",
   "execution_count": 6,
   "id": "b82a603c",
   "metadata": {},
   "outputs": [
    {
     "name": "stdout",
     "output_type": "stream",
     "text": [
      "0.8721572919685905 1.2135472539083587 -4.211504005424093\n"
     ]
    }
   ],
   "source": [
    "slope =SL.slope \n",
    "\n",
    "intercept = SL.intercept\n",
    "\n",
    "coef_correlation = SL.rvalue\n",
    "\n",
    "print(coef_correlation , slope , intercept)"
   ]
  },
  {
   "cell_type": "code",
   "execution_count": 7,
   "id": "f174d7db",
   "metadata": {},
   "outputs": [],
   "source": [
    "def predict(x):\n",
    "    return slope*x+intercept"
   ]
  },
  {
   "cell_type": "code",
   "execution_count": 9,
   "id": "43acbf1c",
   "metadata": {},
   "outputs": [
    {
     "data": {
      "image/png": "[encoded data removed]",
      "text/plain": [
       "<Figure size 432x288 with 1 Axes>"
      ]
     },
     "metadata": {
      "needs_background": "light"
     },
     "output_type": "display_data"
    }
   ],
   "source": [
    "axes = plt.axes()\n",
    "\n",
    "axes.grid()\n",
    "\n",
    "plt.scatter(X,Y)\n",
    "\n",
    "fitLine = predict(X)\n",
    "\n",
    "plt.plot(X,fitLine,c='orange')\n",
    "\n",
    "plt.show()"
   ]
  },
  {
   "cell_type": "code",
   "execution_count": 10,
   "id": "19b6f80b",
   "metadata": {},
   "outputs": [
    {
     "name": "stdout",
     "output_type": "stream",
     "text": [
      "23.09330920751398\n"
     ]
    }
   ],
   "source": [
    "print(predict(22.5))"
   ]
  },
  {
   "cell_type": "code",
   "execution_count": 11,
   "id": "72906865",
   "metadata": {},
   "outputs": [],
   "source": [
    "a  = fitLine.shape"
   ]
  },
  {
   "cell_type": "code",
   "execution_count": 12,
   "id": "b871977e",
   "metadata": {},
   "outputs": [
    {
     "name": "stdout",
     "output_type": "stream",
     "text": [
      "Mean absolute deviation of columns(NaNs skipped):\n",
      "x    0.991997\n",
      "y    1.490473\n",
      "dtype: float64\n",
      "Mean absolute deviation of columns(NaNs included):\n",
      "x    0.991997\n",
      "y    1.490473\n",
      "dtype: float64\n",
      "Mean absolute deviation of rows(NaNs skipped):\n",
      "0      1.588230\n",
      "1      0.468568\n",
      "2      0.783691\n",
      "3      0.936039\n",
      "4      0.971586\n",
      "         ...   \n",
      "995    1.085231\n",
      "996    1.585402\n",
      "997    3.485537\n",
      "998    0.731738\n",
      "999    1.168882\n",
      "Length: 1000, dtype: float64\n",
      "Mean absolute deviation of rows(NaNs included):\n",
      "0      1.588230\n",
      "1      0.468568\n",
      "2      0.783691\n",
      "3      0.936039\n",
      "4      0.971586\n",
      "         ...   \n",
      "995    1.085231\n",
      "996    1.585402\n",
      "997    3.485537\n",
      "998    0.731738\n",
      "999    1.168882\n",
      "Length: 1000, dtype: float64\n"
     ]
    }
   ],
   "source": [
    "from sklearn.metrics import mean_absolute_percentage_error\n",
    "\n",
    "df = pd.read_csv(r\"./datasets/dataset_polynomial3.csv\")\n",
    "\n",
    "mad = df.mad();\n",
    "\n",
    "print(\"Mean absolute deviation of columns(NaNs skipped):\");\n",
    "\n",
    "print(mad);\n",
    "\n",
    "# Calculate MAD for the DataFrame columns\n",
    "\n",
    "mad1 = df.mad(axis=0, skipna=False);\n",
    "\n",
    "print(\"Mean absolute deviation of columns(NaNs included):\");\n",
    "\n",
    "print(mad1);\n",
    "\n",
    "# Calculate MAD for the DataFrame rows\n",
    "\n",
    "mad3 = df.mad(axis=1);\n",
    "\n",
    "print(\"Mean absolute deviation of rows(NaNs skipped):\");\n",
    "\n",
    "print(mad3);\n",
    "\n",
    " \n",
    "\n",
    "# Calculate MAD for the DataFrame rows\n",
    "\n",
    "mad4 = df.mad(axis=1, skipna=False);\n",
    "\n",
    "print(\"Mean absolute deviation of rows(NaNs included):\");\n",
    "\n",
    "print(mad3);\n",
    "\n",
    "\n",
    "\n",
    "\n",
    "    "
   ]
  },
  {
   "cell_type": "code",
   "execution_count": 13,
   "id": "0e9b718f",
   "metadata": {},
   "outputs": [
    {
     "data": {
      "image/png": "[encoded data removed]",
      "text/plain": [
       "<Figure size 432x288 with 1 Axes>"
      ]
     },
     "metadata": {
      "needs_background": "light"
     },
     "output_type": "display_data"
    }
   ],
   "source": [
    "X = df.iloc[:,0]\n",
    "Y = df.iloc[:,1]\n",
    "\n",
    "axes = plt.axes()\n",
    "axes.grid()\n",
    "plt.scatter(X,Y)\n",
    "plt.show()"
   ]
  },
  {
   "cell_type": "code",
   "execution_count": 14,
   "id": "32f6e51c",
   "metadata": {},
   "outputs": [
    {
     "name": "stdout",
     "output_type": "stream",
     "text": [
      "           4         3         2\n",
      "-0.004039 x + 1.263 x - 7.466 x + 13.6 x - 7.395\n"
     ]
    }
   ],
   "source": [
    "degree_polynome = 4\n",
    "# donner les coeficient de polynome\n",
    "p = np.polyfit(X,Y ,degree_polynome)\n",
    "#donner le polynome comme fonction\n",
    "poly = np.poly1d(np.polyfit(X,Y ,degree_polynome))\n",
    "print(poly)"
   ]
  },
  {
   "cell_type": "code",
   "execution_count": 15,
   "id": "428dfb98",
   "metadata": {},
   "outputs": [
    {
     "data": {
      "text/plain": [
       "array([1.99622600e-03, 4.23285027e-02, 8.26607794e-02, 1.22993056e-01,\n",
       "       1.63325333e-01, 2.03657610e-01, 2.43989886e-01, 2.84322163e-01,\n",
       "       3.24654440e-01, 3.64986716e-01, 4.05318993e-01, 4.45651270e-01,\n",
       "       4.85983547e-01, 5.26315823e-01, 5.66648100e-01, 6.06980377e-01,\n",
       "       6.47312653e-01, 6.87644930e-01, 7.27977207e-01, 7.68309484e-01,\n",
       "       8.08641760e-01, 8.48974037e-01, 8.89306314e-01, 9.29638590e-01,\n",
       "       9.69970867e-01, 1.01030314e+00, 1.05063542e+00, 1.09096770e+00,\n",
       "       1.13129997e+00, 1.17163225e+00, 1.21196453e+00, 1.25229680e+00,\n",
       "       1.29262908e+00, 1.33296136e+00, 1.37329363e+00, 1.41362591e+00,\n",
       "       1.45395819e+00, 1.49429046e+00, 1.53462274e+00, 1.57495502e+00,\n",
       "       1.61528729e+00, 1.65561957e+00, 1.69595185e+00, 1.73628412e+00,\n",
       "       1.77661640e+00, 1.81694868e+00, 1.85728095e+00, 1.89761323e+00,\n",
       "       1.93794551e+00, 1.97827779e+00, 2.01861006e+00, 2.05894234e+00,\n",
       "       2.09927462e+00, 2.13960689e+00, 2.17993917e+00, 2.22027145e+00,\n",
       "       2.26060372e+00, 2.30093600e+00, 2.34126828e+00, 2.38160055e+00,\n",
       "       2.42193283e+00, 2.46226511e+00, 2.50259738e+00, 2.54292966e+00,\n",
       "       2.58326194e+00, 2.62359421e+00, 2.66392649e+00, 2.70425877e+00,\n",
       "       2.74459104e+00, 2.78492332e+00, 2.82525560e+00, 2.86558787e+00,\n",
       "       2.90592015e+00, 2.94625243e+00, 2.98658470e+00, 3.02691698e+00,\n",
       "       3.06724926e+00, 3.10758153e+00, 3.14791381e+00, 3.18824609e+00,\n",
       "       3.22857836e+00, 3.26891064e+00, 3.30924292e+00, 3.34957519e+00,\n",
       "       3.38990747e+00, 3.43023975e+00, 3.47057202e+00, 3.51090430e+00,\n",
       "       3.55123658e+00, 3.59156885e+00, 3.63190113e+00, 3.67223341e+00,\n",
       "       3.71256568e+00, 3.75289796e+00, 3.79323024e+00, 3.83356251e+00,\n",
       "       3.87389479e+00, 3.91422707e+00, 3.95455934e+00, 3.99489162e+00])"
      ]
     },
     "execution_count": 15,
     "metadata": {},
     "output_type": "execute_result"
    }
   ],
   "source": [
    "# donner les x\n",
    "les_x = np.linspace(min(X),max(X),100)\n",
    "les_x"
   ]
  },
  {
   "cell_type": "code",
   "execution_count": 16,
   "id": "6648b10a",
   "metadata": {
    "scrolled": true
   },
   "outputs": [
    {
     "data": {
      "image/png": "[encoded data removed]",
      "text/plain": [
       "<Figure size 432x288 with 1 Axes>"
      ]
     },
     "metadata": {
      "needs_background": "light"
     },
     "output_type": "display_data"
    }
   ],
   "source": [
    "poly(les_x)\n",
    "axes.grid()\n",
    "plt.scatter(X,Y)\n",
    "plt.plot(les_x,poly(les_x),c=\"r\")\n",
    "plt.show()"
   ]
  },
  {
   "cell_type": "code",
   "execution_count": 84,
   "id": "aab0838d",
   "metadata": {},
   "outputs": [
    {
     "name": "stdout",
     "output_type": "stream",
     "text": [
      "96 96 96 96\n",
      "[6.71632985e+00 1.41213437e+01 2.14164110e+01 2.52819642e+01\n",
      " 3.10511371e+01 3.02720613e+01 3.59540915e+01 3.86719875e+01\n",
      " 4.09264252e+01 4.14599427e+01 4.44851133e+01 4.48836355e+01\n",
      " 4.59661499e+01 4.40787219e+01 4.54344913e+01 4.70270897e+01\n",
      " 4.58832246e+01 4.57326995e+01 4.64790890e+01 4.61592743e+01\n",
      " 4.70019225e+01 4.89153020e+01 5.04463627e+01 5.10519793e+01\n",
      " 5.43131286e+01 5.70387895e+01 5.53896847e+01 5.88808607e+01\n",
      " 6.09624096e+01 5.78124199e+01 5.97874054e+01 6.49309918e+01\n",
      " 6.37724780e+01 6.43781063e+01 6.33008853e+01 6.16026199e+01\n",
      " 6.24490470e+01 6.17810737e+01 6.35832505e+01 6.19344016e+01\n",
      " 6.14394452e+01 5.73328840e+01 5.69528001e+01 5.81641185e+01\n",
      " 5.45400212e+01 5.80819070e+01 5.70608358e+01 5.55819014e+01\n",
      " 5.41623220e+01 5.57118946e+01 5.55217554e+01 5.47438472e+01\n",
      " 5.44693668e+01 5.22266887e+01 4.71025786e+01 4.59960843e+01\n",
      " 4.79983337e+01 4.49089953e+01 4.31297982e+01 4.17303966e+01\n",
      " 3.91915163e+01 3.53882794e+01 3.39345205e+01 3.15932503e+01\n",
      " 3.16557730e+01 3.13747033e+01 3.11838659e+01 2.98356012e+01\n",
      " 2.98340405e+01 2.86471005e+01 2.77115460e+01 2.58051330e+01\n",
      " 2.43142864e+01 2.01243526e+01 1.64557940e+01 1.51413003e+01\n",
      " 1.93150828e+01 1.80635886e+01 1.84585525e+01 1.61892949e+01\n",
      " 1.45806176e+01 1.15607470e+01 1.16004570e+01 1.30224306e+01\n",
      " 1.10083827e+01 1.08834393e+01 8.63198822e+00 6.38254790e+00\n",
      " 7.63265007e+00 6.76396143e+00 5.74932606e+00 9.97731655e+00\n",
      " 9.93859990e+00 4.05965015e+00 1.64069061e+00 5.70032910e-12] 5.687894599759602e-12\n"
     ]
    }
   ],
   "source": [
    "Yt= list(Y)\n",
    "Yp =[ poly(i)  for i in list(X)]\n",
    "print(len(Yt),len(Yp),len(X),len(Y))\n",
    "\n",
    "mean_absolute_percentage_error(Yt,Yp)\n",
    "\n",
    "err = np.array(Yt)-np.array(Yp)\n",
    "print(np.cumsum(err) ,np.sum(err))"
   ]
  },
  {
   "cell_type": "code",
   "execution_count": 89,
   "id": "58e46341",
   "metadata": {},
   "outputs": [
    {
     "name": "stdout",
     "output_type": "stream",
     "text": [
      "          3           2\n",
      "0.001475 x - 0.05353 x + 1.781 x - 5.991\n"
     ]
    }
   ],
   "source": [
    "degree_polynome = 3\n",
    "# donner les coeficient de polynome\n",
    "p = np.polyfit(X,Y ,degree_polynome)\n",
    "#donner le polynome comme fonction\n",
    "poly = np.poly1d(np.polyfit(X,Y ,degree_polynome))\n",
    "print(poly)"
   ]
  },
  {
   "cell_type": "code",
   "execution_count": 90,
   "id": "fcf665eb",
   "metadata": {},
   "outputs": [
    {
     "name": "stdout",
     "output_type": "stream",
     "text": [
      "96 96 96 96\n",
      "[ 6.66570809e+00  1.41241419e+01  2.16187767e+01  2.55410664e+01\n",
      "  3.13852221e+01  3.07886138e+01  3.65143230e+01  3.94049739e+01\n",
      "  4.13900878e+01  4.19364848e+01  4.47616243e+01  4.51803340e+01\n",
      "  4.63338543e+01  4.44363095e+01  4.56816979e+01  4.74325006e+01\n",
      "  4.60598545e+01  4.60756941e+01  4.70213837e+01  4.68321484e+01\n",
      "  4.82097901e+01  5.00581184e+01  5.17418979e+01  5.23106966e+01\n",
      "  5.63919469e+01  5.87390723e+01  5.67543098e+01  5.98969129e+01\n",
      "  6.07476286e+01  5.74298437e+01  5.95873620e+01  6.46577331e+01\n",
      "  6.35644883e+01  6.42708597e+01  6.33314578e+01  6.17500702e+01\n",
      "  6.25744978e+01  6.15285409e+01  6.34872870e+01  6.17397204e+01\n",
      "  6.14427896e+01  5.69438199e+01  5.65959833e+01  5.79577886e+01\n",
      "  5.45327319e+01  5.78138558e+01  5.68331572e+01  5.49621561e+01\n",
      "  5.34971674e+01  5.52244336e+01  5.48922250e+01  5.43003119e+01\n",
      "  5.41983167e+01  5.21093193e+01  4.71425321e+01  4.61809285e+01\n",
      "  4.81727211e+01  4.49990731e+01  4.31099861e+01  4.17123036e+01\n",
      "  3.89698637e+01  3.50298903e+01  3.35414314e+01  3.20199107e+01\n",
      "  3.22785068e+01  3.20858203e+01  3.16539050e+01  3.02442031e+01\n",
      "  3.07452436e+01  2.93327356e+01  2.85883119e+01  2.67752236e+01\n",
      "  2.54801865e+01  2.10054862e+01  1.75158138e+01  1.63791397e+01\n",
      "  2.02735425e+01  1.87752060e+01  1.89295946e+01  1.66790330e+01\n",
      "  1.48713588e+01  1.20083735e+01  1.18830777e+01  1.34808648e+01\n",
      "  1.15204640e+01  1.13344743e+01  9.17538439e+00  6.87255858e+00\n",
      "  7.85598167e+00  6.99921915e+00  6.15409941e+00  1.04417669e+01\n",
      "  1.02599334e+01  4.46962165e+00  1.72698998e+00 -3.70725672e-12] -3.701927653310122e-12\n"
     ]
    }
   ],
   "source": [
    "Yt= list(Y)\n",
    "Yp =[ poly(i)  for i in list(X)]\n",
    "print(len(Yt),len(Yp),len(X),len(Y))\n",
    "\n",
    "mean_absolute_percentage_error(Yt,Yp)\n",
    "\n",
    "err = np.array(Yt)-np.array(Yp)\n",
    "print(np.cumsum(err) ,np.sum(err))"
   ]
  },
  {
   "cell_type": "code",
   "execution_count": null,
   "id": "bed86075",
   "metadata": {},
   "outputs": [],
   "source": []
  },
  {
   "cell_type": "code",
   "execution_count": null,
   "id": "9ffb0b5c",
   "metadata": {},
   "outputs": [],
   "source": []
  }
 ],
 "metadata": {
  "kernelspec": {
   "display_name": "Python 3",
   "language": "python",
   "name": "python3"
  },
  "language_info": {
   "codemirror_mode": {
    "name": "ipython",
    "version": 3
   },
   "file_extension": ".py",
   "mimetype": "text/x-python",
   "name": "python",
   "nbconvert_exporter": "python",
   "pygments_lexer": "ipython3",
   "version": "3.8.8"
  }
 },
 "nbformat": 4,
 "nbformat_minor": 5
}
