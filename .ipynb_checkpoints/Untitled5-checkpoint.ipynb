{
 "cells": [
  {
   "cell_type": "code",
   "execution_count": 3,
   "id": "218515f6",
   "metadata": {},
   "outputs": [
    {
     "name": "stderr",
     "output_type": "stream",
     "text": [
      "[nltk_data] Downloading package stopwords to\n",
      "[nltk_data]     C:\\Users\\pc\\AppData\\Roaming\\nltk_data...\n",
      "[nltk_data]   Package stopwords is already up-to-date!\n"
     ]
    }
   ],
   "source": [
    "import string\n",
    "import nltk\n",
    "nltk.download('stopwords')\n",
    "from nltk.corpus import stopwords\n",
    "def netoyage(corpus_ensemble_documents):\n",
    "    for i in range(len(corpus_ensemble_documents)):\n",
    "        corpus_ensemble_documents[i] = corpus_ensemble_documents[i].lower()\n",
    "    for i in range(len(corpus_ensemble_documents)):\n",
    "        for c in string.punctuation:\n",
    "             x = corpus_ensemble_documents[i].replace(c,\" \")\n",
    "             corpus_ensemble_documents[i] = x\n",
    "    stopwords_anglais = stopwords.words('french') #ou french\n",
    "    for i in range(len(corpus_ensemble_documents)):\n",
    "        L = corpus_ensemble_documents[i].split()\n",
    "        for mot in L:\n",
    "            if mot in stopwords_anglais:\n",
    "                while mot in L:\n",
    "                    L.remove(mot)\n",
    "        corpus_ensemble_documents[i] = \" \".join(L)\n",
    "    return(corpus_ensemble_documents)"
   ]
  },
  {
   "cell_type": "code",
   "execution_count": null,
   "id": "a37bd25f",
   "metadata": {},
   "outputs": [],
   "source": [
    "import numpy as np\n",
    "import pandas as pd\n",
    "from sklearn.model_selection import train_test_split \n",
    "\n",
    "spams = pd.read_csv(r\"C:\\Users\\pc\\Desktop\\S7\\MachineLearningTps\\SMSSpamCollection.txt\" ,sep=\"\\t\",header=0)\n",
    "spamsTrain , spamsTest = train_test_split(spams,train_size=0.7,random_state=1)\n"
   ]
  },
  {
   "cell_type": "code",
   "execution_count": null,
   "id": "1175b084",
   "metadata": {},
   "outputs": [],
   "source": [
    "from  sklearn.feature_extraction.text import CountVectorizer\n",
    "parseur = CountVectorizer()\n",
    "Xtrain = parseur.fit_transform(spamsTrain[\"message\"])\n",
    "mdtTrain = Xtrain.toarray()\n",
    "a=list(parseur.vocabulary_.keys())\n",
    "#print(a)netoyage(spamsTrain[\"message\"])\n",
    "from sklearn.linear_model import  LogisticRegression\n",
    "model = LogisticRegression()\n",
    "model.fit(mdtTrain ,spamsTrain[\"classe\"])\n",
    "score = model.score(mdtTrain ,spamsTrain[\"classe\"])\n",
    "\n"
   ]
  },
  {
   "cell_type": "code",
   "execution_count": null,
   "id": "6545a3b4",
   "metadata": {},
   "outputs": [],
   "source": [
    "from sklearn.tree import DecisionTreeClassifier"
   ]
  },
  {
   "cell_type": "code",
   "execution_count": null,
   "id": "c19639e0",
   "metadata": {},
   "outputs": [],
   "source": [
    "model = DecisionTreeClassifier()\n",
    "model.fit(mdtTrain , spamsTrain[\"message\"])\n",
    "score =model.score(mdtTrain , spamsTrain[\"message\"])\n"
   ]
  },
  {
   "cell_type": "code",
   "execution_count": null,
   "id": "46867361",
   "metadata": {},
   "outputs": [],
   "source": []
  }
 ],
 "metadata": {
  "kernelspec": {
   "display_name": "Python 3",
   "language": "python",
   "name": "python3"
  },
  "language_info": {
   "codemirror_mode": {
    "name": "ipython",
    "version": 3
   },
   "file_extension": ".py",
   "mimetype": "text/x-python",
   "name": "python",
   "nbconvert_exporter": "python",
   "pygments_lexer": "ipython3",
   "version": "3.8.8"
  }
 },
 "nbformat": 4,
 "nbformat_minor": 5
}
