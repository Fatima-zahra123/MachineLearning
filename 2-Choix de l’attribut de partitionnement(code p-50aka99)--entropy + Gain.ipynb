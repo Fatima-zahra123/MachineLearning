{
 "cells": [
  {
   "cell_type": "code",
   "execution_count": 12,
   "metadata": {},
   "outputs": [],
   "source": [
    "from numpy import *\n",
    "import pandas"
   ]
  },
  {
   "cell_type": "code",
   "execution_count": 13,
   "metadata": {},
   "outputs": [],
   "source": [
    "df = pandas.DataFrame([[0,1,'C1'],[0,0,'C1'],[1,1,'C2'],[1,0,'C2']],columns=['A', 'B','Classes'])\n",
    "df= df.to_numpy() #convert it to a matrix"
   ]
  },
  {
   "cell_type": "code",
   "execution_count": 14,
   "metadata": {},
   "outputs": [],
   "source": [
    "#definition de la fonction entropie\n",
    "def Entropie(S): #l'entropie d un dataset \n",
    "    S=array(S)\n",
    "    classes_distinctes = set(S[:,-1]) #extraire les classes distinctes set remove redondance\n",
    "    classes = list(S[:,-1])\n",
    "    s=0\n",
    "    for c in classes_distinctes:\n",
    "        p = classes.count(c)/len(classes)\n",
    "        s+=p*log2(p)\n",
    "    return(-1.0*s)"
   ]
  },
  {
   "cell_type": "code",
   "execution_count": 15,
   "metadata": {},
   "outputs": [
    {
     "name": "stdout",
     "output_type": "stream",
     "text": [
      "1.0\n"
     ]
    }
   ],
   "source": [
    "print(Entropie(df))"
   ]
  },
  {
   "cell_type": "code",
   "execution_count": 16,
   "metadata": {},
   "outputs": [],
   "source": [
    "#definition de la fonction gain de l'information d un attribut\n",
    "def Gain_d_information(S,numero_colon_attribut):\n",
    "    classes = list(set(S[:,-1]))\n",
    "    valeurs_attribut = list(set(S[:,numero_colon_attribut]))\n",
    "    Si = [[] for i in range(len(valeurs_attribut))]\n",
    "    for e in S:\n",
    "        e = list(e)\n",
    "        val_attribut_pour_e = e[numero_colon_attribut]\n",
    "        numero_sous_ensemble = valeurs_attribut.index(val_attribut_pour_e)\n",
    "        Si[numero_sous_ensemble].append(e)\n",
    "    Si = array(Si); som = 0\n",
    "    for sous_ensemble in Si:\n",
    "        som += (len(sous_ensemble)/len(S))*Entropie(sous_ensemble)\n",
    "    return(Entropie(S)-som)    "
   ]
  },
  {
   "cell_type": "code",
   "execution_count": 17,
   "metadata": {},
   "outputs": [
    {
     "name": "stdout",
     "output_type": "stream",
     "text": [
      "1.0\n"
     ]
    }
   ],
   "source": [
    "print(Gain_d_information(df,0))"
   ]
  },
  {
   "cell_type": "code",
   "execution_count": 18,
   "metadata": {},
   "outputs": [
    {
     "name": "stdout",
     "output_type": "stream",
     "text": [
      "0.0\n"
     ]
    }
   ],
   "source": [
    "print(Gain_d_information(df,1))"
   ]
  },
  {
   "cell_type": "code",
   "execution_count": 19,
   "metadata": {},
   "outputs": [],
   "source": [
    "#maintenat on va calculer le gain d information sur dataset Douleur Inanime Infartus"
   ]
  },
  {
   "cell_type": "code",
   "execution_count": 20,
   "metadata": {},
   "outputs": [],
   "source": [
    "from numpy import *\n",
    "import pandas"
   ]
  },
  {
   "cell_type": "code",
   "execution_count": 23,
   "metadata": {},
   "outputs": [
    {
     "name": "stdout",
     "output_type": "stream",
     "text": [
      "0.02904940554533142\n",
      "0.12451124978365313\n"
     ]
    },
    {
     "name": "stderr",
     "output_type": "stream",
     "text": [
      "<ipython-input-16-fd6daa40f760>:11: VisibleDeprecationWarning: Creating an ndarray from ragged nested sequences (which is a list-or-tuple of lists-or-tuples-or ndarrays with different lengths or shapes) is deprecated. If you meant to do this, you must specify 'dtype=object' when creating the ndarray\n",
      "  Si = array(Si); som = 0\n"
     ]
    }
   ],
   "source": [
    "fich = pandas.read_csv('C:\\\\Users\\\\hp\\\\Documents\\\\S8\\\\ML\\\\dataSets\\\\donneesAD.csv', sep = ';')\n",
    "Data_train = fich.iloc[:,:]\n",
    "Data_train = Data_train.to_numpy()\n",
    "print(Gain_d_information(Data_train,0))\n",
    "print(Gain_d_information(Data_train,2))  \n",
    "#la repartition sera faite alors avec l'atribut 1 (colonne infractus) qui donne le plus grand gain d information"
   ]
  },
  {
   "cell_type": "code",
   "execution_count": 24,
   "metadata": {},
   "outputs": [],
   "source": [
    "#indice de ***********************GINI *****************************"
   ]
  },
  {
   "cell_type": "code",
   "execution_count": 44,
   "metadata": {},
   "outputs": [],
   "source": [
    "def GINI(S):\n",
    "    S=array(S)\n",
    "    clonne_des_classes = list(S[:,-1])\n",
    "    classes = list(set(S[:,-1]))\n",
    "    k = len(classes) ; s = 0\n",
    "    for i in range(k):\n",
    "        pi = clonne_des_classes.count(classes[i])/len(S[:,-1])\n",
    "        s += pi**2\n",
    "    return 1-s    "
   ]
  },
  {
   "cell_type": "code",
   "execution_count": 45,
   "metadata": {},
   "outputs": [
    {
     "name": "stdout",
     "output_type": "stream",
     "text": [
      "0.5\n"
     ]
    }
   ],
   "source": [
    "#maintenant on va calculer l indice de gini d une dataframe\n",
    "from numpy import *\n",
    "import pandas\n",
    "df = pandas.DataFrame([[0,1,'C1'],[0,0,'C1'],[1,1,'C2'],[1,0,'C2']],columns=['A', 'B','Classes'])\n",
    "df = df.to_numpy()\n",
    "print(GINI(df))"
   ]
  },
  {
   "cell_type": "code",
   "execution_count": 46,
   "metadata": {},
   "outputs": [],
   "source": [
    "#***************Mesure de desordre p-56aka 111**********************"
   ]
  },
  {
   "cell_type": "code",
   "execution_count": 47,
   "metadata": {},
   "outputs": [],
   "source": [
    "def Mesure_desordre(S,numero_colon_attribut):\n",
    "    classes = list(set(S[:,-1]))\n",
    "    valeurs_attribut = list(set(S[:, numero_colon_attribut]))\n",
    "    Si = [[] for i in range(len(valeurs_attribut))]\n",
    "    for e in S:\n",
    "        val_attribut_pour_e = e[numero_colon_attribut]\n",
    "        numero_sous_ensemble = valeurs_attribut.index(val_attribut_pour_e)\n",
    "        Si[numero_sous_ensemble].append(e)\n",
    "    Si = array(Si)\n",
    "    s = 0\n",
    "    for sous_ensemble in Si:\n",
    "        s += (len(sous_ensemble)/len(S))*GINI(sous_ensemble)\n",
    "    return(s)    "
   ]
  },
  {
   "cell_type": "code",
   "execution_count": 48,
   "metadata": {},
   "outputs": [
    {
     "name": "stdout",
     "output_type": "stream",
     "text": [
      "0.0\n",
      "0.5\n"
     ]
    }
   ],
   "source": [
    "#maintenant on va mesurer le desordre d une dataframe\n",
    "from numpy import *\n",
    "import pandas\n",
    "df = pandas.DataFrame([[0,1,'C1'],[0,0,'C1'],[1,1,'C2'],[1,0,'C2']],columns=['A', 'B','Classes'])\n",
    "df = df.to_numpy()\n",
    "A = Mesure_desordre(df,0); print(A)\n",
    "B = Mesure_desordre(df,1); print(B)\n",
    "#donc on doit faire le partitionnement selon A qui donne la plus petite mesure de desordre"
   ]
  },
  {
   "cell_type": "code",
   "execution_count": 49,
   "metadata": {},
   "outputs": [],
   "source": [
    "#maintenat on va mesurer le desordre sur dataset Douleur Inanime Infartus"
   ]
  },
  {
   "cell_type": "code",
   "execution_count": 50,
   "metadata": {},
   "outputs": [],
   "source": [
    "from numpy import *\n",
    "import pandas"
   ]
  },
  {
   "cell_type": "code",
   "execution_count": 51,
   "metadata": {},
   "outputs": [
    {
     "name": "stdout",
     "output_type": "stream",
     "text": [
      "0.48\n",
      "0.4166666666666667\n"
     ]
    },
    {
     "name": "stderr",
     "output_type": "stream",
     "text": [
      "<ipython-input-47-11bd3c48fd7d>:9: VisibleDeprecationWarning: Creating an ndarray from ragged nested sequences (which is a list-or-tuple of lists-or-tuples-or ndarrays with different lengths or shapes) is deprecated. If you meant to do this, you must specify 'dtype=object' when creating the ndarray\n",
      "  Si = array(Si)\n"
     ]
    }
   ],
   "source": [
    "fich = pandas.read_csv('C:\\\\Users\\\\hp\\\\Documents\\\\S8\\\\ML\\\\dataSets\\\\donneesAD.csv', sep = ';')\n",
    "Data_train = fich.iloc[:,:]\n",
    "Data_train = Data_train.to_numpy()\n",
    "print(Mesure_desordre(Data_train,0))\n",
    "print(Mesure_desordre(Data_train,2))"
   ]
  },
  {
   "cell_type": "code",
   "execution_count": 55,
   "metadata": {},
   "outputs": [],
   "source": [
    "from numpy import inf\n",
    "def Mesure_desordre(S, numero_colon_attribut):\n",
    "    Bonne_mesure_desordre = + inf\n",
    "    Bonne_valeur_de_repartition = 0\n",
    "    classes = list(set(S[:, -1]))\n",
    "    valeurs_attribut = list(set(S[:, numero_colon_attribut]))\n",
    "    valeurs_attribut.sort()\n",
    "    Gauche = []\n",
    "    Droite = []\n",
    "\n",
    "    for i in range(len(valeurs_attribut)-1):\n",
    "        v = valeurs_attribut[i]\n",
    "        Gauche.clear()\n",
    "        Droite.clear()\n",
    "        for e in S:\n",
    "            val_attribut_pour_e =e[numero_colon_attribut]\n",
    "            if val_attribut_pour_e <= v:\n",
    "                Gauche.append(e)\n",
    "            else:\n",
    "                Droite.append(e)\n",
    "        pGau = len(Gauche)/len(S)\n",
    "        pDr = len(Droite)/len(S)\n",
    "        mesure = (pGau)*GINI(Gauche)+(pDr)*GINI(Droite)\n",
    "        if mesure < Bonne_mesure_desordre:\n",
    "            Bonne_mesure_desordre = mesure\n",
    "            Bonne_valeur_de_repartition = v\n",
    "    return(Bonne_mesure_desordre, Bonne_valeur_de_repartition)"
   ]
  },
  {
   "cell_type": "code",
   "execution_count": 56,
   "metadata": {},
   "outputs": [],
   "source": [
    "def meilleur_attribut_meilleure_valeur(S):\n",
    "    meilleur_attribut = 0;\n",
    "    meilleure_val =0;\n",
    "    meilleure_mesure =+inf;\n",
    "    for num_attribut in range(len(S[0])-1):\n",
    "        mesure,valeur= Mesure_desordre(S,num_attribut)\n",
    "        if mesure<meilleure_mesure:\n",
    "            meilleure_val=valeur\n",
    "            meilleure_mesure=mesure\n",
    "            meilleur_attribut=num_attribut\n",
    "    return meilleur_attribut,meilleure_val"
   ]
  },
  {
   "cell_type": "code",
   "execution_count": 57,
   "metadata": {},
   "outputs": [
    {
     "name": "stdout",
     "output_type": "stream",
     "text": [
      "(1, 45)\n"
     ]
    }
   ],
   "source": [
    "print(meilleur_attribut_meilleure_valeur(Data_train))"
   ]
  },
  {
   "cell_type": "code",
   "execution_count": null,
   "metadata": {},
   "outputs": [],
   "source": []
  }
 ],
 "metadata": {
  "kernelspec": {
   "display_name": "Python 3",
   "language": "python",
   "name": "python3"
  },
  "language_info": {
   "codemirror_mode": {
    "name": "ipython",
    "version": 3
   },
   "file_extension": ".py",
   "mimetype": "text/x-python",
   "name": "python",
   "nbconvert_exporter": "python",
   "pygments_lexer": "ipython3",
   "version": "3.8.5"
  }
 },
 "nbformat": 4,
 "nbformat_minor": 4
}
